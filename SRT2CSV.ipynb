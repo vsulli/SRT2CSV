{
 "cells": [
  {
   "cell_type": "code",
   "execution_count": 1,
   "id": "26dac7f8",
   "metadata": {},
   "outputs": [],
   "source": [
    "''' \n",
    "SRT2CSV\n",
    "vsulli\n",
    "26 April 2025\n",
    "read in a .srt file \n",
    "convert to a df to perform nlp\n",
    "export to a .csv file for upload to ANKI\n",
    "'''\n",
    "\n",
    "import nltk\n",
    "import numpy as np\n",
    "import pandas as pd\n",
    "import pysrt\n",
    "import re\n",
    "import seaborn as sns\n",
    "import spacy\n",
    "import string\n",
    "\n",
    "from nltk.corpus import stopwords\n",
    "german_sw = stopwords.words('german')\n",
    "from textblob import TextBlob\n",
    "\n",
    "# allows for displaying multiple outputs in one cell\n",
    "from IPython.core.interactiveshell import InteractiveShell\n",
    "InteractiveShell.ast_node_interactivity = \"all\""
   ]
  },
  {
   "cell_type": "code",
   "execution_count": 2,
   "id": "063ce73e",
   "metadata": {},
   "outputs": [
    {
     "data": {
      "text/plain": [
       "''"
      ]
     },
     "execution_count": 2,
     "metadata": {},
     "output_type": "execute_result"
    }
   ],
   "source": [
    "from tkinter import Tk\n",
    "from tkinter.filedialog import askopenfilename\n",
    "\n",
    "# keeps full GUI from appearing\n",
    "Tk().withdraw() \n",
    "\n",
    "# shows dialog box to ask for filename\n",
    "filename = askopenfilename()"
   ]
  },
  {
   "cell_type": "code",
   "execution_count": 23,
   "id": "17f26842",
   "metadata": {},
   "outputs": [],
   "source": [
    "# specify the encoding if UnicodeDecodeError\n",
    "# you can open the file in NotePad and check SaveAs for default encoding\n",
    "# ANSI, UTF-8\n",
    "subs = pysrt.open(filename, encoding='UTF-8')"
   ]
  },
  {
   "cell_type": "code",
   "execution_count": 24,
   "id": "f2c4b56c",
   "metadata": {},
   "outputs": [],
   "source": [
    "def remove_formatting(subfile):\n",
    "    # read through every sub line\n",
    "    # using regex, delete section of line between <>\n",
    "    # combine to string\n",
    "    # update index\n",
    "    for i in range(len(subfile)):\n",
    "        # replace all characters between < and > with \"\"\n",
    "        # using regex\n",
    "        # strip white space from beginning\n",
    "        subfile[i].text = subfile[i].text.lstrip()\n",
    "        subfile[i].text = re.sub(r'<c.vtt_\\w+>\\s*\"*', \"\", subfile[i].text)\n",
    "        subfile[i].text = re.sub(\"</c>\", \"\", subfile[i].text)\n",
    "        # replace \"-\" with \"\"\n",
    "        subfile[i].text = re.sub(\"-\", \"\", subfile[i].text)\n",
    "\n",
    "    return subfile"
   ]
  },
  {
   "cell_type": "code",
   "execution_count": 25,
   "id": "41a5f9c3",
   "metadata": {},
   "outputs": [],
   "source": [
    "subs = remove_formatting(subs)"
   ]
  },
  {
   "cell_type": "code",
   "execution_count": 6,
   "id": "0670aae0",
   "metadata": {},
   "outputs": [],
   "source": [
    "# create a dataframe with desired column name - 'Subtitle'\n",
    "def create_dataframe(subfile, col_name):\n",
    "    # create dataframe\n",
    "    df = pd.DataFrame(columns=[col_name])\n",
    "    for i in range(len(subfile)):\n",
    "        df.loc[i] = subfile[i].text\n",
    "    return df"
   ]
  },
  {
   "cell_type": "code",
   "execution_count": 45,
   "id": "ee757108",
   "metadata": {},
   "outputs": [
    {
     "data": {
      "text/html": [
       "<div>\n",
       "<style scoped>\n",
       "    .dataframe tbody tr th:only-of-type {\n",
       "        vertical-align: middle;\n",
       "    }\n",
       "\n",
       "    .dataframe tbody tr th {\n",
       "        vertical-align: top;\n",
       "    }\n",
       "\n",
       "    .dataframe thead th {\n",
       "        text-align: right;\n",
       "    }\n",
       "</style>\n",
       "<table border=\"1\" class=\"dataframe\">\n",
       "  <thead>\n",
       "    <tr style=\"text-align: right;\">\n",
       "      <th></th>\n",
       "      <th>Subtitle</th>\n",
       "    </tr>\n",
       "  </thead>\n",
       "  <tbody>\n",
       "    <tr>\n",
       "      <th>0</th>\n",
       "      <td>&lt;font color=#ffffff&gt;.&lt;/font&gt;</td>\n",
       "    </tr>\n",
       "    <tr>\n",
       "      <th>1</th>\n",
       "      <td>&lt;font color=#ffffff&gt;(Motor wird angelassen)&lt;/f...</td>\n",
       "    </tr>\n",
       "    <tr>\n",
       "      <th>2</th>\n",
       "      <td>&lt;font color=#ffffff&gt;Herr Landsberger?&lt;/font&gt;\\n...</td>\n",
       "    </tr>\n",
       "    <tr>\n",
       "      <th>3</th>\n",
       "      <td>&lt;font color=#ffffff&gt;Motorhaube und Kofferraum ...</td>\n",
       "    </tr>\n",
       "    <tr>\n",
       "      <th>4</th>\n",
       "      <td>&lt;font color=#ffffff&gt;Machen Sie den Koffer auf!...</td>\n",
       "    </tr>\n",
       "    <tr>\n",
       "      <th>...</th>\n",
       "      <td>...</td>\n",
       "    </tr>\n",
       "    <tr>\n",
       "      <th>752</th>\n",
       "      <td>&lt;font color=#ffffff&gt;Haben Sie Verwandte in der...</td>\n",
       "    </tr>\n",
       "    <tr>\n",
       "      <th>753</th>\n",
       "      <td>&lt;font color=#ffffff&gt;Herr Landsberger?&lt;/font&gt;\\n...</td>\n",
       "    </tr>\n",
       "    <tr>\n",
       "      <th>754</th>\n",
       "      <td>&lt;font color=#ffffff&gt;Herr Trimmel'?&lt;/font&gt;</td>\n",
       "    </tr>\n",
       "    <tr>\n",
       "      <th>755</th>\n",
       "      <td>&lt;font color=#ffffff&gt;Wohl ein Jugendbildnis von...</td>\n",
       "    </tr>\n",
       "    <tr>\n",
       "      <th>756</th>\n",
       "      <td>&lt;font color=#ffffff&gt;.&lt;/font&gt;</td>\n",
       "    </tr>\n",
       "  </tbody>\n",
       "</table>\n",
       "<p>757 rows × 1 columns</p>\n",
       "</div>"
      ],
      "text/plain": [
       "                                              Subtitle\n",
       "0                         <font color=#ffffff>.</font>\n",
       "1    <font color=#ffffff>(Motor wird angelassen)</f...\n",
       "2    <font color=#ffffff>Herr Landsberger?</font>\\n...\n",
       "3    <font color=#ffffff>Motorhaube und Kofferraum ...\n",
       "4    <font color=#ffffff>Machen Sie den Koffer auf!...\n",
       "..                                                 ...\n",
       "752  <font color=#ffffff>Haben Sie Verwandte in der...\n",
       "753  <font color=#ffffff>Herr Landsberger?</font>\\n...\n",
       "754          <font color=#ffffff>Herr Trimmel'?</font>\n",
       "755  <font color=#ffffff>Wohl ein Jugendbildnis von...\n",
       "756                       <font color=#ffffff>.</font>\n",
       "\n",
       "[757 rows x 1 columns]"
      ]
     },
     "execution_count": 45,
     "metadata": {},
     "output_type": "execute_result"
    },
    {
     "data": {
      "text/html": [
       "<div>\n",
       "<style scoped>\n",
       "    .dataframe tbody tr th:only-of-type {\n",
       "        vertical-align: middle;\n",
       "    }\n",
       "\n",
       "    .dataframe tbody tr th {\n",
       "        vertical-align: top;\n",
       "    }\n",
       "\n",
       "    .dataframe thead th {\n",
       "        text-align: right;\n",
       "    }\n",
       "</style>\n",
       "<table border=\"1\" class=\"dataframe\">\n",
       "  <thead>\n",
       "    <tr style=\"text-align: right;\">\n",
       "      <th></th>\n",
       "    </tr>\n",
       "  </thead>\n",
       "  <tbody>\n",
       "  </tbody>\n",
       "</table>\n",
       "</div>"
      ],
      "text/plain": [
       "Empty DataFrame\n",
       "Columns: []\n",
       "Index: []"
      ]
     },
     "execution_count": 45,
     "metadata": {},
     "output_type": "execute_result"
    },
    {
     "data": {
      "text/html": [
       "<div>\n",
       "<style scoped>\n",
       "    .dataframe tbody tr th:only-of-type {\n",
       "        vertical-align: middle;\n",
       "    }\n",
       "\n",
       "    .dataframe tbody tr th {\n",
       "        vertical-align: top;\n",
       "    }\n",
       "\n",
       "    .dataframe thead th {\n",
       "        text-align: right;\n",
       "    }\n",
       "</style>\n",
       "<table border=\"1\" class=\"dataframe\">\n",
       "  <thead>\n",
       "    <tr style=\"text-align: right;\">\n",
       "      <th></th>\n",
       "    </tr>\n",
       "  </thead>\n",
       "  <tbody>\n",
       "  </tbody>\n",
       "</table>\n",
       "</div>"
      ],
      "text/plain": [
       "Empty DataFrame\n",
       "Columns: []\n",
       "Index: []"
      ]
     },
     "execution_count": 45,
     "metadata": {},
     "output_type": "execute_result"
    }
   ],
   "source": [
    "# combine rows until period or end character reached\n",
    "# append these rows to list and then create new df - more efficient than appending to df\n",
    "# end characters at index -1 must be ) . ? ! \n",
    "df = create_dataframe(subs, 'Subtitle')\n",
    "df\n",
    "new_df_list = []\n",
    "current_row = \"\"\n",
    "for row in df['Subtitle']:\n",
    "    if row[-1] == \")\" or row[-1] == \".\" or row[-1] == \"?\" or row[-1] == \"!\":\n",
    "        current_row += row\n",
    "        new_df_list.append(current_row)\n",
    "        current_row = \"\"\n",
    "    else:\n",
    "        current_row += row\n",
    "\n",
    "# create new df from the list of combined rows\n",
    "# currently fewer rows - need to verify that it combined the rows correctly\n",
    "new_df = pd.DataFrame(new_df_list)\n",
    "new_df.rename(columns={0:\"Subtitle\"}, inplace=True)\n",
    "new_df\n"
   ]
  },
  {
   "cell_type": "code",
   "execution_count": 41,
   "id": "86256445",
   "metadata": {},
   "outputs": [
    {
     "data": {
      "text/html": [
       "<div>\n",
       "<style scoped>\n",
       "    .dataframe tbody tr th:only-of-type {\n",
       "        vertical-align: middle;\n",
       "    }\n",
       "\n",
       "    .dataframe tbody tr th {\n",
       "        vertical-align: top;\n",
       "    }\n",
       "\n",
       "    .dataframe thead th {\n",
       "        text-align: right;\n",
       "    }\n",
       "</style>\n",
       "<table border=\"1\" class=\"dataframe\">\n",
       "  <thead>\n",
       "    <tr style=\"text-align: right;\">\n",
       "      <th></th>\n",
       "    </tr>\n",
       "  </thead>\n",
       "  <tbody>\n",
       "  </tbody>\n",
       "</table>\n",
       "</div>"
      ],
      "text/plain": [
       "Empty DataFrame\n",
       "Columns: []\n",
       "Index: []"
      ]
     },
     "execution_count": 41,
     "metadata": {},
     "output_type": "execute_result"
    },
    {
     "ename": "KeyError",
     "evalue": "'Subtitle'",
     "output_type": "error",
     "traceback": [
      "\u001b[1;31m---------------------------------------------------------------------------\u001b[0m",
      "\u001b[1;31mKeyError\u001b[0m                                  Traceback (most recent call last)",
      "File \u001b[1;32m~\\Coding Projects\\Cato-AI_vs1.2\\cuda\\Lib\\site-packages\\pandas\\core\\indexes\\base.py:3805\u001b[0m, in \u001b[0;36mIndex.get_loc\u001b[1;34m(self, key)\u001b[0m\n\u001b[0;32m   3804\u001b[0m \u001b[38;5;28;01mtry\u001b[39;00m:\n\u001b[1;32m-> 3805\u001b[0m     \u001b[38;5;28;01mreturn\u001b[39;00m \u001b[38;5;28;43mself\u001b[39;49m\u001b[38;5;241;43m.\u001b[39;49m\u001b[43m_engine\u001b[49m\u001b[38;5;241;43m.\u001b[39;49m\u001b[43mget_loc\u001b[49m\u001b[43m(\u001b[49m\u001b[43mcasted_key\u001b[49m\u001b[43m)\u001b[49m\n\u001b[0;32m   3806\u001b[0m \u001b[38;5;28;01mexcept\u001b[39;00m \u001b[38;5;167;01mKeyError\u001b[39;00m \u001b[38;5;28;01mas\u001b[39;00m err:\n",
      "File \u001b[1;32mindex.pyx:167\u001b[0m, in \u001b[0;36mpandas._libs.index.IndexEngine.get_loc\u001b[1;34m()\u001b[0m\n",
      "File \u001b[1;32mindex.pyx:196\u001b[0m, in \u001b[0;36mpandas._libs.index.IndexEngine.get_loc\u001b[1;34m()\u001b[0m\n",
      "File \u001b[1;32mpandas\\\\_libs\\\\hashtable_class_helper.pxi:7081\u001b[0m, in \u001b[0;36mpandas._libs.hashtable.PyObjectHashTable.get_item\u001b[1;34m()\u001b[0m\n",
      "File \u001b[1;32mpandas\\\\_libs\\\\hashtable_class_helper.pxi:7089\u001b[0m, in \u001b[0;36mpandas._libs.hashtable.PyObjectHashTable.get_item\u001b[1;34m()\u001b[0m\n",
      "\u001b[1;31mKeyError\u001b[0m: 'Subtitle'",
      "\nThe above exception was the direct cause of the following exception:\n",
      "\u001b[1;31mKeyError\u001b[0m                                  Traceback (most recent call last)",
      "Cell \u001b[1;32mIn[41], line 6\u001b[0m\n\u001b[0;32m      4\u001b[0m new_df_list \u001b[38;5;241m=\u001b[39m []\n\u001b[0;32m      5\u001b[0m current_row \u001b[38;5;241m=\u001b[39m \u001b[38;5;124m\"\u001b[39m\u001b[38;5;124m\"\u001b[39m\n\u001b[1;32m----> 6\u001b[0m \u001b[38;5;28;01mfor\u001b[39;00m row \u001b[38;5;129;01min\u001b[39;00m \u001b[43mnew_df\u001b[49m\u001b[43m[\u001b[49m\u001b[38;5;124;43m'\u001b[39;49m\u001b[38;5;124;43mSubtitle\u001b[39;49m\u001b[38;5;124;43m'\u001b[39;49m\u001b[43m]\u001b[49m:\n\u001b[0;32m      7\u001b[0m     \u001b[38;5;66;03m# slice between two characters > and < \u001b[39;00m\n\u001b[0;32m      8\u001b[0m     match \u001b[38;5;241m=\u001b[39m re\u001b[38;5;241m.\u001b[39mfindall(\u001b[38;5;124mr\u001b[39m\u001b[38;5;124m'\u001b[39m\u001b[38;5;124m>(.*?)<\u001b[39m\u001b[38;5;124m'\u001b[39m, row)\n\u001b[0;32m      9\u001b[0m     \u001b[38;5;28;01mif\u001b[39;00m match:\n",
      "File \u001b[1;32m~\\Coding Projects\\Cato-AI_vs1.2\\cuda\\Lib\\site-packages\\pandas\\core\\frame.py:4102\u001b[0m, in \u001b[0;36mDataFrame.__getitem__\u001b[1;34m(self, key)\u001b[0m\n\u001b[0;32m   4100\u001b[0m \u001b[38;5;28;01mif\u001b[39;00m \u001b[38;5;28mself\u001b[39m\u001b[38;5;241m.\u001b[39mcolumns\u001b[38;5;241m.\u001b[39mnlevels \u001b[38;5;241m>\u001b[39m \u001b[38;5;241m1\u001b[39m:\n\u001b[0;32m   4101\u001b[0m     \u001b[38;5;28;01mreturn\u001b[39;00m \u001b[38;5;28mself\u001b[39m\u001b[38;5;241m.\u001b[39m_getitem_multilevel(key)\n\u001b[1;32m-> 4102\u001b[0m indexer \u001b[38;5;241m=\u001b[39m \u001b[38;5;28;43mself\u001b[39;49m\u001b[38;5;241;43m.\u001b[39;49m\u001b[43mcolumns\u001b[49m\u001b[38;5;241;43m.\u001b[39;49m\u001b[43mget_loc\u001b[49m\u001b[43m(\u001b[49m\u001b[43mkey\u001b[49m\u001b[43m)\u001b[49m\n\u001b[0;32m   4103\u001b[0m \u001b[38;5;28;01mif\u001b[39;00m is_integer(indexer):\n\u001b[0;32m   4104\u001b[0m     indexer \u001b[38;5;241m=\u001b[39m [indexer]\n",
      "File \u001b[1;32m~\\Coding Projects\\Cato-AI_vs1.2\\cuda\\Lib\\site-packages\\pandas\\core\\indexes\\base.py:3812\u001b[0m, in \u001b[0;36mIndex.get_loc\u001b[1;34m(self, key)\u001b[0m\n\u001b[0;32m   3807\u001b[0m     \u001b[38;5;28;01mif\u001b[39;00m \u001b[38;5;28misinstance\u001b[39m(casted_key, \u001b[38;5;28mslice\u001b[39m) \u001b[38;5;129;01mor\u001b[39;00m (\n\u001b[0;32m   3808\u001b[0m         \u001b[38;5;28misinstance\u001b[39m(casted_key, abc\u001b[38;5;241m.\u001b[39mIterable)\n\u001b[0;32m   3809\u001b[0m         \u001b[38;5;129;01mand\u001b[39;00m \u001b[38;5;28many\u001b[39m(\u001b[38;5;28misinstance\u001b[39m(x, \u001b[38;5;28mslice\u001b[39m) \u001b[38;5;28;01mfor\u001b[39;00m x \u001b[38;5;129;01min\u001b[39;00m casted_key)\n\u001b[0;32m   3810\u001b[0m     ):\n\u001b[0;32m   3811\u001b[0m         \u001b[38;5;28;01mraise\u001b[39;00m InvalidIndexError(key)\n\u001b[1;32m-> 3812\u001b[0m     \u001b[38;5;28;01mraise\u001b[39;00m \u001b[38;5;167;01mKeyError\u001b[39;00m(key) \u001b[38;5;28;01mfrom\u001b[39;00m \u001b[38;5;21;01merr\u001b[39;00m\n\u001b[0;32m   3813\u001b[0m \u001b[38;5;28;01mexcept\u001b[39;00m \u001b[38;5;167;01mTypeError\u001b[39;00m:\n\u001b[0;32m   3814\u001b[0m     \u001b[38;5;66;03m# If we have a listlike key, _check_indexing_error will raise\u001b[39;00m\n\u001b[0;32m   3815\u001b[0m     \u001b[38;5;66;03m#  InvalidIndexError. Otherwise we fall through and re-raise\u001b[39;00m\n\u001b[0;32m   3816\u001b[0m     \u001b[38;5;66;03m#  the TypeError.\u001b[39;00m\n\u001b[0;32m   3817\u001b[0m     \u001b[38;5;28mself\u001b[39m\u001b[38;5;241m.\u001b[39m_check_indexing_error(key)\n",
      "\u001b[1;31mKeyError\u001b[0m: 'Subtitle'"
     ]
    }
   ],
   "source": [
    "# create new dataframe removing the subtitle font tags\n",
    "# go row by row adding up all the characters from the > tag to the < tag\n",
    "new_df_list = []\n",
    "current_row = \"\"\n",
    "for row in new_df['Subtitle']:\n",
    "    # slice between two characters > and < \n",
    "    match = re.findall(r'>(.*?)<', row)\n",
    "    if match:\n",
    "        new_df_list.append(match[0])\n",
    "    else:\n",
    "        new_df_list.append(row)\n",
    "\n",
    "    \n",
    "# create new df from the list of combined rows\n",
    "# currently fewer rows - need to verify that it combined the rows correctly\n",
    "new_df = pd.DataFrame(new_df_list)\n",
    "new_df.rename(columns={0:\"Subtitle\"}, inplace=True)\n",
    "new_df"
   ]
  },
  {
   "cell_type": "code",
   "execution_count": 8,
   "id": "e5b172c4",
   "metadata": {},
   "outputs": [
    {
     "data": {
      "text/html": [
       "<div>\n",
       "<style scoped>\n",
       "    .dataframe tbody tr th:only-of-type {\n",
       "        vertical-align: middle;\n",
       "    }\n",
       "\n",
       "    .dataframe tbody tr th {\n",
       "        vertical-align: top;\n",
       "    }\n",
       "\n",
       "    .dataframe thead th {\n",
       "        text-align: right;\n",
       "    }\n",
       "</style>\n",
       "<table border=\"1\" class=\"dataframe\">\n",
       "  <thead>\n",
       "    <tr style=\"text-align: right;\">\n",
       "      <th></th>\n",
       "      <th>Subtitle</th>\n",
       "    </tr>\n",
       "  </thead>\n",
       "  <tbody>\n",
       "    <tr>\n",
       "      <th>0</th>\n",
       "      <td>&lt;font color=#ffffff&gt;.&lt;/font&gt;</td>\n",
       "    </tr>\n",
       "    <tr>\n",
       "      <th>1</th>\n",
       "      <td>&lt;font color=#ffffff&gt;(Motor wird angelassen)&lt;/f...</td>\n",
       "    </tr>\n",
       "    <tr>\n",
       "      <th>2</th>\n",
       "      <td>&lt;font color=#ffffff&gt;Herr Landsberger?&lt;/font&gt;\\n...</td>\n",
       "    </tr>\n",
       "    <tr>\n",
       "      <th>3</th>\n",
       "      <td>&lt;font color=#ffffff&gt;Motorhaube und Kofferraum ...</td>\n",
       "    </tr>\n",
       "    <tr>\n",
       "      <th>4</th>\n",
       "      <td>&lt;font color=#ffffff&gt;Machen Sie den Koffer auf!...</td>\n",
       "    </tr>\n",
       "  </tbody>\n",
       "</table>\n",
       "</div>"
      ],
      "text/plain": [
       "                                            Subtitle\n",
       "0                       <font color=#ffffff>.</font>\n",
       "1  <font color=#ffffff>(Motor wird angelassen)</f...\n",
       "2  <font color=#ffffff>Herr Landsberger?</font>\\n...\n",
       "3  <font color=#ffffff>Motorhaube und Kofferraum ...\n",
       "4  <font color=#ffffff>Machen Sie den Koffer auf!..."
      ]
     },
     "execution_count": 8,
     "metadata": {},
     "output_type": "execute_result"
    },
    {
     "data": {
      "text/plain": [
       "(757, 1)"
      ]
     },
     "execution_count": 8,
     "metadata": {},
     "output_type": "execute_result"
    },
    {
     "data": {
      "text/plain": [
       "Subtitle    object\n",
       "dtype: object"
      ]
     },
     "execution_count": 8,
     "metadata": {},
     "output_type": "execute_result"
    },
    {
     "data": {
      "text/html": [
       "<div>\n",
       "<style scoped>\n",
       "    .dataframe tbody tr th:only-of-type {\n",
       "        vertical-align: middle;\n",
       "    }\n",
       "\n",
       "    .dataframe tbody tr th {\n",
       "        vertical-align: top;\n",
       "    }\n",
       "\n",
       "    .dataframe thead th {\n",
       "        text-align: right;\n",
       "    }\n",
       "</style>\n",
       "<table border=\"1\" class=\"dataframe\">\n",
       "  <thead>\n",
       "    <tr style=\"text-align: right;\">\n",
       "      <th></th>\n",
       "      <th>Subtitle</th>\n",
       "    </tr>\n",
       "  </thead>\n",
       "  <tbody>\n",
       "    <tr>\n",
       "      <th>count</th>\n",
       "      <td>757</td>\n",
       "    </tr>\n",
       "    <tr>\n",
       "      <th>unique</th>\n",
       "      <td>745</td>\n",
       "    </tr>\n",
       "    <tr>\n",
       "      <th>top</th>\n",
       "      <td>&lt;font color=#ffffff&gt;Danke.&lt;/font&gt;</td>\n",
       "    </tr>\n",
       "    <tr>\n",
       "      <th>freq</th>\n",
       "      <td>3</td>\n",
       "    </tr>\n",
       "  </tbody>\n",
       "</table>\n",
       "</div>"
      ],
      "text/plain": [
       "                                 Subtitle\n",
       "count                                 757\n",
       "unique                                745\n",
       "top     <font color=#ffffff>Danke.</font>\n",
       "freq                                    3"
      ]
     },
     "execution_count": 8,
     "metadata": {},
     "output_type": "execute_result"
    }
   ],
   "source": [
    "# basic exploratory data analysis\n",
    "df = create_dataframe(subs, 'Subtitle')\n",
    "df.head()\n",
    "df.shape\n",
    "df.dtypes\n",
    "df.describe(include='all')"
   ]
  },
  {
   "cell_type": "code",
   "execution_count": 9,
   "id": "0d0da6c4",
   "metadata": {},
   "outputs": [],
   "source": [
    "# convert to lowercase\n",
    "def make_lowercase(df):\n",
    "    df['Lowercase'] = df['Subtitle'].str.lower()\n",
    "    return df"
   ]
  },
  {
   "cell_type": "code",
   "execution_count": 10,
   "id": "8daaa78d",
   "metadata": {},
   "outputs": [],
   "source": [
    "# remove punctuation\n",
    "def remove_punctuation(df):\n",
    "    # starts with any word, digits, or underscore, white space character, + means any character in the string\n",
    "    df['Lowercase'] = df['Lowercase'].str.replace(r'[^\\w\\s]+', ' ', regex = True)\n",
    "    # df['Subtitle'] = df['Subtitle'].str.replace(r'\\n', ' ', regex = True) # replaces the \\n with a space\n",
    "    return df"
   ]
  },
  {
   "cell_type": "code",
   "execution_count": 11,
   "id": "ad84b320",
   "metadata": {},
   "outputs": [],
   "source": [
    "# remove newline \\n character\n",
    "def remove_newline(df):\n",
    "    df['Subtitle'] = df['Subtitle'].str.replace(r'\\n', ' ', regex = True) # replaces the \\n with a space\n",
    "    return df"
   ]
  },
  {
   "cell_type": "code",
   "execution_count": 12,
   "id": "8c554f20",
   "metadata": {},
   "outputs": [
    {
     "name": "stdout",
     "output_type": "stream",
     "text": [
      "                                            Subtitle  \\\n",
      "0                       <font color=#ffffff>.</font>   \n",
      "1  <font color=#ffffff>(Motor wird angelassen)</f...   \n",
      "2  <font color=#ffffff>Herr Landsberger?</font> <...   \n",
      "3  <font color=#ffffff>Motorhaube und Kofferraum ...   \n",
      "4  <font color=#ffffff>Machen Sie den Koffer auf!...   \n",
      "\n",
      "                                           Lowercase  \n",
      "0                       <font color=#ffffff>.</font>  \n",
      "1  <font color=#ffffff>(motor wird angelassen)</f...  \n",
      "2  <font color=#ffffff>herr landsberger?</font> <...  \n",
      "3  <font color=#ffffff>motorhaube und kofferraum ...  \n",
      "4  <font color=#ffffff>machen sie den koffer auf!...  \n"
     ]
    }
   ],
   "source": [
    "df = create_dataframe(subs, 'Subtitle')\n",
    "clean_df = remove_newline(df)\n",
    "\n",
    "clean_df = make_lowercase(clean_df)\n",
    "print(clean_df.head())"
   ]
  },
  {
   "cell_type": "code",
   "execution_count": 13,
   "id": "0ed93d77",
   "metadata": {},
   "outputs": [
    {
     "name": "stdout",
     "output_type": "stream",
     "text": [
      "                                            Subtitle  \\\n",
      "0                       <font color=#ffffff>.</font>   \n",
      "1  <font color=#ffffff>(Motor wird angelassen)</f...   \n",
      "2  <font color=#ffffff>Herr Landsberger?</font> <...   \n",
      "3  <font color=#ffffff>Motorhaube und Kofferraum ...   \n",
      "4  <font color=#ffffff>Machen Sie den Koffer auf!...   \n",
      "\n",
      "                                           Lowercase  \n",
      "0                            font color ffffff font   \n",
      "1      font color ffffff motor wird angelassen font   \n",
      "2   font color ffffff herr landsberger font   fon...  \n",
      "3   font color ffffff motorhaube und kofferraum ã...  \n",
      "4   font color ffffff machen sie den koffer auf f...  \n"
     ]
    },
    {
     "data": {
      "text/html": [
       "<div>\n",
       "<style scoped>\n",
       "    .dataframe tbody tr th:only-of-type {\n",
       "        vertical-align: middle;\n",
       "    }\n",
       "\n",
       "    .dataframe tbody tr th {\n",
       "        vertical-align: top;\n",
       "    }\n",
       "\n",
       "    .dataframe thead th {\n",
       "        text-align: right;\n",
       "    }\n",
       "</style>\n",
       "<table border=\"1\" class=\"dataframe\">\n",
       "  <thead>\n",
       "    <tr style=\"text-align: right;\">\n",
       "      <th></th>\n",
       "      <th>Subtitle</th>\n",
       "      <th>Lowercase</th>\n",
       "    </tr>\n",
       "  </thead>\n",
       "  <tbody>\n",
       "    <tr>\n",
       "      <th>100</th>\n",
       "      <td>&lt;font color=#ffffff&gt;In Leipzig gekauft.&lt;/font&gt;...</td>\n",
       "      <td>font color ffffff in leipzig gekauft font   f...</td>\n",
       "    </tr>\n",
       "  </tbody>\n",
       "</table>\n",
       "</div>"
      ],
      "text/plain": [
       "                                              Subtitle  \\\n",
       "100  <font color=#ffffff>In Leipzig gekauft.</font>...   \n",
       "\n",
       "                                             Lowercase  \n",
       "100   font color ffffff in leipzig gekauft font   f...  "
      ]
     },
     "execution_count": 13,
     "metadata": {},
     "output_type": "execute_result"
    }
   ],
   "source": [
    "clean_df = remove_punctuation(clean_df)\n",
    "print(clean_df.head())\n",
    "clean_df[100:101]"
   ]
  },
  {
   "cell_type": "code",
   "execution_count": 14,
   "id": "33d47728",
   "metadata": {},
   "outputs": [],
   "source": [
    "df['Word Tokens'] = df['Lowercase'].apply(nltk.word_tokenize)"
   ]
  },
  {
   "cell_type": "code",
   "execution_count": 15,
   "id": "761f0eb4",
   "metadata": {},
   "outputs": [
    {
     "data": {
      "text/plain": [
       "0                            [font, color, ffffff, font]\n",
       "1      [font, color, ffffff, motor, wird, angelassen,...\n",
       "2      [font, color, ffffff, herr, landsberger, font,...\n",
       "3      [font, color, ffffff, motorhaube, und, kofferr...\n",
       "4      [font, color, ffffff, machen, sie, den, koffer...\n",
       "                             ...                        \n",
       "752    [font, color, ffffff, haben, sie, verwandte, i...\n",
       "753    [font, color, ffffff, herr, landsberger, font,...\n",
       "754           [font, color, ffffff, herr, trimmel, font]\n",
       "755    [font, color, ffffff, wohl, ein, jugendbildnis...\n",
       "756                          [font, color, ffffff, font]\n",
       "Name: Lowercase, Length: 757, dtype: object"
      ]
     },
     "execution_count": 15,
     "metadata": {},
     "output_type": "execute_result"
    }
   ],
   "source": [
    "word_tokens = df['Lowercase'].apply(nltk.word_tokenize)\n",
    "word_tokens"
   ]
  },
  {
   "cell_type": "code",
   "execution_count": 16,
   "id": "27209462",
   "metadata": {},
   "outputs": [],
   "source": [
    "df['Sentence Tokens'] = df['Lowercase'].apply(nltk.sent_tokenize)"
   ]
  },
  {
   "cell_type": "code",
   "execution_count": 17,
   "id": "4fdd14b8",
   "metadata": {},
   "outputs": [
    {
     "data": {
      "text/plain": [
       "0                              [ font color ffffff font]\n",
       "1        [ font color ffffff motor wird angelassen font]\n",
       "2      [ font color ffffff herr landsberger font   fo...\n",
       "3      [ font color ffffff motorhaube und kofferraum ...\n",
       "4      [ font color ffffff machen sie den koffer auf ...\n",
       "                             ...                        \n",
       "752    [ font color ffffff haben sie verwandte in der...\n",
       "753    [ font color ffffff herr landsberger font   fo...\n",
       "754               [ font color ffffff herr trimmel font]\n",
       "755    [ font color ffffff wohl ein jugendbildnis von...\n",
       "756                            [ font color ffffff font]\n",
       "Name: Lowercase, Length: 757, dtype: object"
      ]
     },
     "execution_count": 17,
     "metadata": {},
     "output_type": "execute_result"
    }
   ],
   "source": [
    "sentence_tokens = df['Lowercase'].apply(nltk.sent_tokenize)\n",
    "sentence_tokens"
   ]
  },
  {
   "cell_type": "code",
   "execution_count": 18,
   "id": "a53f5b34",
   "metadata": {},
   "outputs": [
    {
     "data": {
      "text/html": [
       "<div>\n",
       "<style scoped>\n",
       "    .dataframe tbody tr th:only-of-type {\n",
       "        vertical-align: middle;\n",
       "    }\n",
       "\n",
       "    .dataframe tbody tr th {\n",
       "        vertical-align: top;\n",
       "    }\n",
       "\n",
       "    .dataframe thead th {\n",
       "        text-align: right;\n",
       "    }\n",
       "</style>\n",
       "<table border=\"1\" class=\"dataframe\">\n",
       "  <thead>\n",
       "    <tr style=\"text-align: right;\">\n",
       "      <th></th>\n",
       "      <th>Subtitle</th>\n",
       "      <th>Lowercase</th>\n",
       "      <th>Word Tokens</th>\n",
       "      <th>Sentence Tokens</th>\n",
       "      <th>no_stop_words</th>\n",
       "    </tr>\n",
       "  </thead>\n",
       "  <tbody>\n",
       "    <tr>\n",
       "      <th>100</th>\n",
       "      <td>&lt;font color=#ffffff&gt;In Leipzig gekauft.&lt;/font&gt;...</td>\n",
       "      <td>font color ffffff in leipzig gekauft font   f...</td>\n",
       "      <td>[font, color, ffffff, in, leipzig, gekauft, fo...</td>\n",
       "      <td>[ font color ffffff in leipzig gekauft font   ...</td>\n",
       "      <td>[font, color, ffffff, leipzig, gekauft, font, ...</td>\n",
       "    </tr>\n",
       "    <tr>\n",
       "      <th>101</th>\n",
       "      <td>&lt;font color=#ffffff&gt;Musst du immer kurze RÃ¶ck...</td>\n",
       "      <td>font color ffffff musst du immer kurze rã cke...</td>\n",
       "      <td>[font, color, ffffff, musst, du, immer, kurze,...</td>\n",
       "      <td>[ font color ffffff musst du immer kurze rã ck...</td>\n",
       "      <td>[font, color, ffffff, musst, immer, kurze, rã,...</td>\n",
       "    </tr>\n",
       "    <tr>\n",
       "      <th>102</th>\n",
       "      <td>&lt;font color=#ffffff&gt;Jetzt reicht's.&lt;/font&gt; &lt;fo...</td>\n",
       "      <td>font color ffffff jetzt reicht s font   font ...</td>\n",
       "      <td>[font, color, ffffff, jetzt, reicht, s, font, ...</td>\n",
       "      <td>[ font color ffffff jetzt reicht s font   font...</td>\n",
       "      <td>[font, color, ffffff, reicht, s, font, font, c...</td>\n",
       "    </tr>\n",
       "    <tr>\n",
       "      <th>103</th>\n",
       "      <td>&lt;font color=#ffffff&gt;Hast du vor mir noch nie&lt;/...</td>\n",
       "      <td>font color ffffff hast du vor mir noch nie fo...</td>\n",
       "      <td>[font, color, ffffff, hast, du, vor, mir, noch...</td>\n",
       "      <td>[ font color ffffff hast du vor mir noch nie f...</td>\n",
       "      <td>[font, color, ffffff, hast, nie, font, font, c...</td>\n",
       "    </tr>\n",
       "    <tr>\n",
       "      <th>104</th>\n",
       "      <td>&lt;font color=#ffffff&gt;FÃ¼r wen mache ich das all...</td>\n",
       "      <td>font color ffffff fã¼r wen mache ich das alle...</td>\n",
       "      <td>[font, color, ffffff, fã¼r, wen, mache, ich, d...</td>\n",
       "      <td>[ font color ffffff fã¼r wen mache ich das all...</td>\n",
       "      <td>[font, color, ffffff, fã¼r, wen, mache, font]</td>\n",
       "    </tr>\n",
       "    <tr>\n",
       "      <th>105</th>\n",
       "      <td>&lt;font color=#ffffff&gt;FÃ¼r Erich&lt;/font&gt; &lt;font co...</td>\n",
       "      <td>font color ffffff fã¼r erich font   font colo...</td>\n",
       "      <td>[font, color, ffffff, fã¼r, erich, font, font,...</td>\n",
       "      <td>[ font color ffffff fã¼r erich font   font col...</td>\n",
       "      <td>[font, color, ffffff, fã¼r, erich, font, font,...</td>\n",
       "    </tr>\n",
       "    <tr>\n",
       "      <th>106</th>\n",
       "      <td>&lt;font color=#ffffff&gt;FÃ¼r uns beide, dachte ich...</td>\n",
       "      <td>font color ffffff fã¼r uns beide  dachte ich ...</td>\n",
       "      <td>[font, color, ffffff, fã¼r, uns, beide, dachte...</td>\n",
       "      <td>[ font color ffffff fã¼r uns beide  dachte ich...</td>\n",
       "      <td>[font, color, ffffff, fã¼r, beide, dachte, font]</td>\n",
       "    </tr>\n",
       "    <tr>\n",
       "      <th>107</th>\n",
       "      <td>&lt;font color=#ffffff&gt;Da kannst du alleine&lt;/font...</td>\n",
       "      <td>font color ffffff da kannst du alleine font  ...</td>\n",
       "      <td>[font, color, ffffff, da, kannst, du, alleine,...</td>\n",
       "      <td>[ font color ffffff da kannst du alleine font ...</td>\n",
       "      <td>[font, color, ffffff, kannst, alleine, font, f...</td>\n",
       "    </tr>\n",
       "    <tr>\n",
       "      <th>108</th>\n",
       "      <td>&lt;font color=#ffffff&gt;Ich lass mir wegen dem&lt;/fo...</td>\n",
       "      <td>font color ffffff ich lass mir wegen dem font...</td>\n",
       "      <td>[font, color, ffffff, ich, lass, mir, wegen, d...</td>\n",
       "      <td>[ font color ffffff ich lass mir wegen dem fon...</td>\n",
       "      <td>[font, color, ffffff, lass, wegen, font, font,...</td>\n",
       "    </tr>\n",
       "    <tr>\n",
       "      <th>109</th>\n",
       "      <td>&lt;font color=#ffffff&gt;(TÃ¼r knallt)&lt;/font&gt;</td>\n",
       "      <td>font color ffffff tã¼r knallt font</td>\n",
       "      <td>[font, color, ffffff, tã¼r, knallt, font]</td>\n",
       "      <td>[ font color ffffff tã¼r knallt font]</td>\n",
       "      <td>[font, color, ffffff, tã¼r, knallt, font]</td>\n",
       "    </tr>\n",
       "    <tr>\n",
       "      <th>110</th>\n",
       "      <td>&lt;font color=#ffffff&gt;Sie wÃ¼nschen?  Verzeihung...</td>\n",
       "      <td>font color ffffff sie wã¼nschen   verzeihung ...</td>\n",
       "      <td>[font, color, ffffff, sie, wã¼nschen, verzeihu...</td>\n",
       "      <td>[ font color ffffff sie wã¼nschen   verzeihung...</td>\n",
       "      <td>[font, color, ffffff, wã¼nschen, verzeihung, f...</td>\n",
       "    </tr>\n",
       "    <tr>\n",
       "      <th>111</th>\n",
       "      <td>&lt;font color=#ffffff&gt;Im Telefonbuch stand&lt;/font...</td>\n",
       "      <td>font color ffffff im telefonbuch stand font  ...</td>\n",
       "      <td>[font, color, ffffff, im, telefonbuch, stand, ...</td>\n",
       "      <td>[ font color ffffff im telefonbuch stand font ...</td>\n",
       "      <td>[font, color, ffffff, telefonbuch, stand, font...</td>\n",
       "    </tr>\n",
       "    <tr>\n",
       "      <th>112</th>\n",
       "      <td>&lt;font color=#ffffff&gt;Das ist aber ein Jammer.&lt;/...</td>\n",
       "      <td>font color ffffff das ist aber ein jammer font</td>\n",
       "      <td>[font, color, ffffff, das, ist, aber, ein, jam...</td>\n",
       "      <td>[ font color ffffff das ist aber ein jammer font]</td>\n",
       "      <td>[font, color, ffffff, jammer, font]</td>\n",
       "    </tr>\n",
       "    <tr>\n",
       "      <th>113</th>\n",
       "      <td>&lt;font color=#ffffff&gt;Ich habe ihn ewig nicht ge...</td>\n",
       "      <td>font color ffffff ich habe ihn ewig nicht ges...</td>\n",
       "      <td>[font, color, ffffff, ich, habe, ihn, ewig, ni...</td>\n",
       "      <td>[ font color ffffff ich habe ihn ewig nicht ge...</td>\n",
       "      <td>[font, color, ffffff, ewig, gesehen, font, fon...</td>\n",
       "    </tr>\n",
       "    <tr>\n",
       "      <th>114</th>\n",
       "      <td>&lt;font color=#ffffff&gt;Nun ist er ausgezogen.&lt;/fo...</td>\n",
       "      <td>font color ffffff nun ist er ausgezogen font ...</td>\n",
       "      <td>[font, color, ffffff, nun, ist, er, ausgezogen...</td>\n",
       "      <td>[ font color ffffff nun ist er ausgezogen font...</td>\n",
       "      <td>[font, color, ffffff, ausgezogen, font, font, ...</td>\n",
       "    </tr>\n",
       "    <tr>\n",
       "      <th>115</th>\n",
       "      <td>&lt;font color=#ffffff&gt;Das geht Sie nichts an.&lt;/f...</td>\n",
       "      <td>font color ffffff das geht sie nichts an font</td>\n",
       "      <td>[font, color, ffffff, das, geht, sie, nichts, ...</td>\n",
       "      <td>[ font color ffffff das geht sie nichts an font]</td>\n",
       "      <td>[font, color, ffffff, geht, font]</td>\n",
       "    </tr>\n",
       "    <tr>\n",
       "      <th>116</th>\n",
       "      <td>&lt;font color=#ffffff&gt;Richtig.&lt;/font&gt; &lt;font colo...</td>\n",
       "      <td>font color ffffff richtig font   font color f...</td>\n",
       "      <td>[font, color, ffffff, richtig, font, font, col...</td>\n",
       "      <td>[ font color ffffff richtig font   font color ...</td>\n",
       "      <td>[font, color, ffffff, richtig, font, font, col...</td>\n",
       "    </tr>\n",
       "    <tr>\n",
       "      <th>117</th>\n",
       "      <td>&lt;font color=#ffffff&gt;Wenn ich&lt;/font&gt; &lt;font colo...</td>\n",
       "      <td>font color ffffff wenn ich font   font color ...</td>\n",
       "      <td>[font, color, ffffff, wenn, ich, font, font, c...</td>\n",
       "      <td>[ font color ffffff wenn ich font   font color...</td>\n",
       "      <td>[font, color, ffffff, font, font, color, fffff...</td>\n",
       "    </tr>\n",
       "    <tr>\n",
       "      <th>118</th>\n",
       "      <td>&lt;font color=#ffffff&gt;Herr Landsberger ist seit ...</td>\n",
       "      <td>font color ffffff herr landsberger ist seit d...</td>\n",
       "      <td>[font, color, ffffff, herr, landsberger, ist, ...</td>\n",
       "      <td>[ font color ffffff herr landsberger ist seit ...</td>\n",
       "      <td>[font, color, ffffff, herr, landsberger, seit,...</td>\n",
       "    </tr>\n",
       "    <tr>\n",
       "      <th>119</th>\n",
       "      <td>&lt;font color=#ffffff&gt;Mit Christian?&lt;/font&gt; &lt;fon...</td>\n",
       "      <td>font color ffffff mit christian font   font c...</td>\n",
       "      <td>[font, color, ffffff, mit, christian, font, fo...</td>\n",
       "      <td>[ font color ffffff mit christian font   font ...</td>\n",
       "      <td>[font, color, ffffff, font, font, color, fffff...</td>\n",
       "    </tr>\n",
       "  </tbody>\n",
       "</table>\n",
       "</div>"
      ],
      "text/plain": [
       "                                              Subtitle  \\\n",
       "100  <font color=#ffffff>In Leipzig gekauft.</font>...   \n",
       "101  <font color=#ffffff>Musst du immer kurze RÃ¶ck...   \n",
       "102  <font color=#ffffff>Jetzt reicht's.</font> <fo...   \n",
       "103  <font color=#ffffff>Hast du vor mir noch nie</...   \n",
       "104  <font color=#ffffff>FÃ¼r wen mache ich das all...   \n",
       "105  <font color=#ffffff>FÃ¼r Erich</font> <font co...   \n",
       "106  <font color=#ffffff>FÃ¼r uns beide, dachte ich...   \n",
       "107  <font color=#ffffff>Da kannst du alleine</font...   \n",
       "108  <font color=#ffffff>Ich lass mir wegen dem</fo...   \n",
       "109           <font color=#ffffff>(TÃ¼r knallt)</font>   \n",
       "110  <font color=#ffffff>Sie wÃ¼nschen?  Verzeihung...   \n",
       "111  <font color=#ffffff>Im Telefonbuch stand</font...   \n",
       "112  <font color=#ffffff>Das ist aber ein Jammer.</...   \n",
       "113  <font color=#ffffff>Ich habe ihn ewig nicht ge...   \n",
       "114  <font color=#ffffff>Nun ist er ausgezogen.</fo...   \n",
       "115  <font color=#ffffff>Das geht Sie nichts an.</f...   \n",
       "116  <font color=#ffffff>Richtig.</font> <font colo...   \n",
       "117  <font color=#ffffff>Wenn ich</font> <font colo...   \n",
       "118  <font color=#ffffff>Herr Landsberger ist seit ...   \n",
       "119  <font color=#ffffff>Mit Christian?</font> <fon...   \n",
       "\n",
       "                                             Lowercase  \\\n",
       "100   font color ffffff in leipzig gekauft font   f...   \n",
       "101   font color ffffff musst du immer kurze rã cke...   \n",
       "102   font color ffffff jetzt reicht s font   font ...   \n",
       "103   font color ffffff hast du vor mir noch nie fo...   \n",
       "104   font color ffffff fã¼r wen mache ich das alle...   \n",
       "105   font color ffffff fã¼r erich font   font colo...   \n",
       "106   font color ffffff fã¼r uns beide  dachte ich ...   \n",
       "107   font color ffffff da kannst du alleine font  ...   \n",
       "108   font color ffffff ich lass mir wegen dem font...   \n",
       "109                font color ffffff tã¼r knallt font    \n",
       "110   font color ffffff sie wã¼nschen   verzeihung ...   \n",
       "111   font color ffffff im telefonbuch stand font  ...   \n",
       "112    font color ffffff das ist aber ein jammer font    \n",
       "113   font color ffffff ich habe ihn ewig nicht ges...   \n",
       "114   font color ffffff nun ist er ausgezogen font ...   \n",
       "115     font color ffffff das geht sie nichts an font    \n",
       "116   font color ffffff richtig font   font color f...   \n",
       "117   font color ffffff wenn ich font   font color ...   \n",
       "118   font color ffffff herr landsberger ist seit d...   \n",
       "119   font color ffffff mit christian font   font c...   \n",
       "\n",
       "                                           Word Tokens  \\\n",
       "100  [font, color, ffffff, in, leipzig, gekauft, fo...   \n",
       "101  [font, color, ffffff, musst, du, immer, kurze,...   \n",
       "102  [font, color, ffffff, jetzt, reicht, s, font, ...   \n",
       "103  [font, color, ffffff, hast, du, vor, mir, noch...   \n",
       "104  [font, color, ffffff, fã¼r, wen, mache, ich, d...   \n",
       "105  [font, color, ffffff, fã¼r, erich, font, font,...   \n",
       "106  [font, color, ffffff, fã¼r, uns, beide, dachte...   \n",
       "107  [font, color, ffffff, da, kannst, du, alleine,...   \n",
       "108  [font, color, ffffff, ich, lass, mir, wegen, d...   \n",
       "109          [font, color, ffffff, tã¼r, knallt, font]   \n",
       "110  [font, color, ffffff, sie, wã¼nschen, verzeihu...   \n",
       "111  [font, color, ffffff, im, telefonbuch, stand, ...   \n",
       "112  [font, color, ffffff, das, ist, aber, ein, jam...   \n",
       "113  [font, color, ffffff, ich, habe, ihn, ewig, ni...   \n",
       "114  [font, color, ffffff, nun, ist, er, ausgezogen...   \n",
       "115  [font, color, ffffff, das, geht, sie, nichts, ...   \n",
       "116  [font, color, ffffff, richtig, font, font, col...   \n",
       "117  [font, color, ffffff, wenn, ich, font, font, c...   \n",
       "118  [font, color, ffffff, herr, landsberger, ist, ...   \n",
       "119  [font, color, ffffff, mit, christian, font, fo...   \n",
       "\n",
       "                                       Sentence Tokens  \\\n",
       "100  [ font color ffffff in leipzig gekauft font   ...   \n",
       "101  [ font color ffffff musst du immer kurze rã ck...   \n",
       "102  [ font color ffffff jetzt reicht s font   font...   \n",
       "103  [ font color ffffff hast du vor mir noch nie f...   \n",
       "104  [ font color ffffff fã¼r wen mache ich das all...   \n",
       "105  [ font color ffffff fã¼r erich font   font col...   \n",
       "106  [ font color ffffff fã¼r uns beide  dachte ich...   \n",
       "107  [ font color ffffff da kannst du alleine font ...   \n",
       "108  [ font color ffffff ich lass mir wegen dem fon...   \n",
       "109              [ font color ffffff tã¼r knallt font]   \n",
       "110  [ font color ffffff sie wã¼nschen   verzeihung...   \n",
       "111  [ font color ffffff im telefonbuch stand font ...   \n",
       "112  [ font color ffffff das ist aber ein jammer font]   \n",
       "113  [ font color ffffff ich habe ihn ewig nicht ge...   \n",
       "114  [ font color ffffff nun ist er ausgezogen font...   \n",
       "115   [ font color ffffff das geht sie nichts an font]   \n",
       "116  [ font color ffffff richtig font   font color ...   \n",
       "117  [ font color ffffff wenn ich font   font color...   \n",
       "118  [ font color ffffff herr landsberger ist seit ...   \n",
       "119  [ font color ffffff mit christian font   font ...   \n",
       "\n",
       "                                         no_stop_words  \n",
       "100  [font, color, ffffff, leipzig, gekauft, font, ...  \n",
       "101  [font, color, ffffff, musst, immer, kurze, rã,...  \n",
       "102  [font, color, ffffff, reicht, s, font, font, c...  \n",
       "103  [font, color, ffffff, hast, nie, font, font, c...  \n",
       "104      [font, color, ffffff, fã¼r, wen, mache, font]  \n",
       "105  [font, color, ffffff, fã¼r, erich, font, font,...  \n",
       "106   [font, color, ffffff, fã¼r, beide, dachte, font]  \n",
       "107  [font, color, ffffff, kannst, alleine, font, f...  \n",
       "108  [font, color, ffffff, lass, wegen, font, font,...  \n",
       "109          [font, color, ffffff, tã¼r, knallt, font]  \n",
       "110  [font, color, ffffff, wã¼nschen, verzeihung, f...  \n",
       "111  [font, color, ffffff, telefonbuch, stand, font...  \n",
       "112                [font, color, ffffff, jammer, font]  \n",
       "113  [font, color, ffffff, ewig, gesehen, font, fon...  \n",
       "114  [font, color, ffffff, ausgezogen, font, font, ...  \n",
       "115                  [font, color, ffffff, geht, font]  \n",
       "116  [font, color, ffffff, richtig, font, font, col...  \n",
       "117  [font, color, ffffff, font, font, color, fffff...  \n",
       "118  [font, color, ffffff, herr, landsberger, seit,...  \n",
       "119  [font, color, ffffff, font, font, color, fffff...  "
      ]
     },
     "execution_count": 18,
     "metadata": {},
     "output_type": "execute_result"
    }
   ],
   "source": [
    "# remove stopwords\n",
    "\n",
    "# have to extend stopwords to include names of characters\n",
    "custom_stop_words = ['hamburg', 'berlin', 'elise', 'christian', 'berti', 'eva', 'chris']\n",
    "german_sw.extend(custom_stop_words)\n",
    "\n",
    "df['no_stop_words'] = df['Word Tokens'].apply(lambda x: [item for item in x if item not in german_sw])\n",
    "df[100:120]"
   ]
  },
  {
   "cell_type": "code",
   "execution_count": 19,
   "id": "fdc1e867",
   "metadata": {},
   "outputs": [
    {
     "data": {
      "text/plain": [
       "100    <font color=#ffffff>In Leipzig gekauft.</font>...\n",
       "Name: Subtitle, dtype: object"
      ]
     },
     "execution_count": 19,
     "metadata": {},
     "output_type": "execute_result"
    },
    {
     "data": {
      "text/plain": [
       "0                           [font, color, ffffff, font]\n",
       "1        [font, color, ffffff, motor, angelassen, font]\n",
       "2     [font, color, ffffff, herr, landsberger, font,...\n",
       "3     [font, color, ffffff, motorhaube, kofferraum, ...\n",
       "4                   [font, color, ffffff, koffer, font]\n",
       "5          [font, color, ffffff, sitzbank, bitte, font]\n",
       "6          [font, color, ffffff, kind, schlã, ft, font]\n",
       "7     [font, color, ffffff, auãÿerdem, geht, gut, font]\n",
       "8            [font, color, ffffff, handschuhfach, font]\n",
       "9     [font, color, ffffff, danke, font, font, color...\n",
       "10                [font, color, ffffff, hã, rbar, font]\n",
       "11    [font, color, ffffff, hã, rst, font, font, col...\n",
       "12    [font, color, ffffff, ã, rmliche, nee, fã, rml...\n",
       "13    [font, color, ffffff, strafverfolgungsbehã, rd...\n",
       "14      [font, color, ffffff, rastplatz, leipzig, font]\n",
       "15    [font, color, ffffff, fand, toten, font, font,...\n",
       "16    [font, color, ffffff, verletzungen, font, font...\n",
       "17    [font, color, ffffff, lies, mal, font, font, c...\n",
       "18    [font, color, ffffff, trug, kind, ddrkleidung,...\n",
       "19    [font, color, ffffff, geht, font, font, color,...\n",
       "Name: no_stop_words, dtype: object"
      ]
     },
     "execution_count": 19,
     "metadata": {},
     "output_type": "execute_result"
    }
   ],
   "source": [
    "df[100:101]['Subtitle']\n",
    "df[0:20]['no_stop_words']"
   ]
  },
  {
   "cell_type": "code",
   "execution_count": 20,
   "id": "d50a6d25",
   "metadata": {},
   "outputs": [
    {
     "data": {
      "text/plain": [
       "['font',\n",
       " 'color',\n",
       " 'ffffff',\n",
       " 'font',\n",
       " 'font',\n",
       " 'color',\n",
       " 'ffffff',\n",
       " 'motor',\n",
       " 'angelassen',\n",
       " 'font',\n",
       " 'font',\n",
       " 'color',\n",
       " 'ffffff',\n",
       " 'herr',\n",
       " 'landsberger',\n",
       " 'font',\n",
       " 'font',\n",
       " 'color',\n",
       " 'ffffff',\n",
       " 'motor']"
      ]
     },
     "execution_count": 20,
     "metadata": {},
     "output_type": "execute_result"
    }
   ],
   "source": [
    "# create a frequency diagram without stop words\n",
    "\n",
    "# list of all words\n",
    "words = []\n",
    "for index, row in df.iterrows():\n",
    "    for word in row['no_stop_words']:\n",
    "        words.append(word)\n",
    "words[0:20]"
   ]
  },
  {
   "cell_type": "code",
   "execution_count": 21,
   "id": "f9404383",
   "metadata": {},
   "outputs": [
    {
     "data": {
      "image/png": "[encoded data removed]",
      "text/plain": [
       "<Figure size 640x480 with 1 Axes>"
      ]
     },
     "metadata": {},
     "output_type": "display_data"
    },
    {
     "data": {
      "text/plain": [
       "<Axes: xlabel='Samples', ylabel='Counts'>"
      ]
     },
     "execution_count": 21,
     "metadata": {},
     "output_type": "execute_result"
    }
   ],
   "source": [
    "# plot the word frequency\n",
    "sns.set_style('darkgrid')\n",
    "freq_words = nltk.FreqDist(words)\n",
    "freq_words.plot(20)"
   ]
  },
  {
   "cell_type": "code",
   "execution_count": 47,
   "id": "85b12769",
   "metadata": {},
   "outputs": [],
   "source": [
    "# TODO\n",
    "\n",
    "# remove font color tags\n",
    "# everything from < to > \n",
    "# <font color=#ffffff>(Motor wird angelassen)</font>\n",
    "\n",
    "# # combine rows until period or end character reached\n",
    "# not creating a new df"
   ]
  },
  {
   "cell_type": "code",
   "execution_count": null,
   "id": "0db07709",
   "metadata": {},
   "outputs": [],
   "source": []
  }
 ],
 "metadata": {
  "kernelspec": {
   "display_name": "cuda-gpt",
   "language": "python",
   "name": "cuda"
  },
  "language_info": {
   "codemirror_mode": {
    "name": "ipython",
    "version": 3
   },
   "file_extension": ".py",
   "mimetype": "text/x-python",
   "name": "python",
   "nbconvert_exporter": "python",
   "pygments_lexer": "ipython3",
   "version": "3.11.4"
  }
 },
 "nbformat": 4,
 "nbformat_minor": 5
}
