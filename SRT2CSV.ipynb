{
 "cells": [
  {
   "cell_type": "code",
   "execution_count": 1,
   "id": "22636940",
   "metadata": {},
   "outputs": [],
   "source": [
    "lang = ['german', 'de'] # select your file's language\n",
    "''' [['arabic', 'ar'], ['azerbaijani', 'az'], ['basque', 'eu'], ['bengali', 'bn'], ['catalan', 'ca'], ['chinese', 'zh'], \n",
    "['danish', 'da'], ['dutch', 'nl'], ['english', 'en'], ['finnish', 'fi'], ['french', 'fr'], ['german', 'de'], ['greek', 'el'], \n",
    "['hebrew', 'he'], ['hinglish', 'hi'], ['hungarian', 'hu'], ['indonesian', 'id'], ['italian', 'it'], ['kazakh', 'kk'], \n",
    "['nepali', 'ne'], ['norwegian', 'no'], ['portuguese', 'pt'], ['romanian', 'ro'], ['russian', 'ru'], ['slovene', 'sl'], \n",
    "['spanish', 'es'], ['swedish', 'sv'], ['tajik', 'tg'], ['turkish', 'tr']\n",
    "'''\n",
    "tags = [lang, 'sentence::mining', 'Tatort', 'sentence::recognition'] # input the desired tags for ANKI\n",
    "fields = [lang, 'defs', tags]"
   ]
  },
  {
   "cell_type": "code",
   "execution_count": 2,
   "id": "3ac7538d",
   "metadata": {},
   "outputs": [],
   "source": [
    "# extract the tar zip\n",
    "import tarfile\n",
    "\n",
    "tar_path = r\"C:\\Users\\paro\\Documents\\GitHub\\SRT2CSV\\es_core_news_sm-3.8.0.tar.gz\"\n",
    "extract_path = r\"C:\\Users\\paro\\Documents\\GitHub\\SRT2CSV\\es_core_news_sm-3.8.0\"\n",
    "\n",
    "with tarfile.open(tar_path, \"r:gz\") as tar:\n",
    "    tar.extractall(path=extract_path)\n"
   ]
  },
  {
   "cell_type": "code",
   "execution_count": 3,
   "id": "dde8287e",
   "metadata": {},
   "outputs": [
    {
     "name": "stderr",
     "output_type": "stream",
     "text": [
      "C:\\Users\\paro\\Coding Projects\\Cato-AI_vs1.2\\cuda\\Lib\\site-packages\\spacy\\util.py:910: UserWarning: [W095] Model 'de_core_news_sm' (3.0.0) was trained with spaCy v3.0.0 and may not be 100% compatible with the current version (3.7.5). If you see errors or degraded performance, download a newer compatible model or retrain your custom model with the current spaCy version. For more details and available updates, run: python -m spacy validate\n",
      "  warnings.warn(warn_msg)\n"
     ]
    },
    {
     "name": "stdout",
     "output_type": "stream",
     "text": [
      "Das DET nk\n",
      "Auto NOUN sb\n",
      "ist AUX ROOT\n",
      "schnell ADV pd\n",
      ". PUNCT punct\n"
     ]
    }
   ],
   "source": [
    "import spacy\n",
    "\n",
    "# load from the correct folder\n",
    "nlp = spacy.load(r\"C:\\Users\\paro\\Documents\\GitHub\\SRT2CSV\\de_core_news_sm-3.0.0\\de_core_news_sm-3.0.0\\de_core_news_sm\\de_core_news_sm-3.0.0\")\n",
    "\n",
    "# German sentence test\n",
    "doc = nlp(\"Das Auto ist schnell.\")\n",
    "\n",
    "# iterate through tokens\n",
    "for token in doc:\n",
    "    print(token.text, token.pos_, token.dep_)\n"
   ]
  },
  {
   "cell_type": "code",
   "execution_count": 4,
   "id": "26dac7f8",
   "metadata": {},
   "outputs": [],
   "source": [
    "''' \n",
    "SRT2CSV\n",
    "vsulli\n",
    "26 April 2025\n",
    "read in a .srt file \n",
    "convert to a df to perform nlp\n",
    "export to a .csv file for upload to ANKI\n",
    "'''\n",
    "\n",
    "import csv\n",
    "import json\n",
    "import nltk\n",
    "import numpy as np\n",
    "import pandas as pd\n",
    "import pysrt\n",
    "import re\n",
    "import seaborn as sns\n",
    "import spacy\n",
    "import string\n",
    "\n",
    "from nltk.corpus import stopwords\n",
    "lang_sw = stopwords.words(lang[0])\n",
    "from textblob import TextBlob\n",
    "\n",
    "from langdetect import detect, LangDetectException\n",
    "\n",
    "from tqdm.notebook import tqdm\n",
    "\n",
    "# module that allows you to get meanings, translations, synonyms, and antonyms for supported langs\n",
    "'''[bengali' (bn),'chinese (zh)', english' (en), 'french' (fr), 'german' (de), \n",
    "'italian' (it),'portuguese' (pt), 'romanian' (ro), 'russian'(ru), 'spanish'(es), \n",
    "'turkish' (tr)]'''\n",
    "from PyMultiDictionary import MultiDictionary, DICT_EDUCALINGO\n",
    "dictionary = MultiDictionary()\n",
    "\n",
    "# allows for displaying multiple outputs in one cell\n",
    "from IPython.core.interactiveshell import InteractiveShell\n",
    "InteractiveShell.ast_node_interactivity = \"all\""
   ]
  },
  {
   "cell_type": "code",
   "execution_count": 5,
   "id": "063ce73e",
   "metadata": {},
   "outputs": [
    {
     "data": {
      "text/plain": [
       "''"
      ]
     },
     "execution_count": 5,
     "metadata": {},
     "output_type": "execute_result"
    }
   ],
   "source": [
    "import tkinter as tk\n",
    "from tkinter import filedialog\n",
    "\n",
    "# keeps full GUI from appearing\n",
    "root = tk.Tk()\n",
    "root.withdraw()\n",
    "\n",
    "# shows dialog box to ask for filename\n",
    "filename = filedialog.askopenfilename()"
   ]
  },
  {
   "cell_type": "code",
   "execution_count": 6,
   "id": "17f26842",
   "metadata": {},
   "outputs": [],
   "source": [
    "# specify the encoding if UnicodeDecodeError\n",
    "# you can open the file in NotePad and check SaveAs for default encoding\n",
    "# ANSI, UTF-8\n",
    "subs = pysrt.open(filename, encoding='utf-8')"
   ]
  },
  {
   "cell_type": "code",
   "execution_count": 7,
   "id": "f2c4b56c",
   "metadata": {},
   "outputs": [],
   "source": [
    "def remove_formatting(subfile):\n",
    "    # read through every sub line\n",
    "    # using regex, delete section of line between <>\n",
    "    # combine to string\n",
    "    # update index\n",
    "    for i in range(len(subfile)):\n",
    "        # replace all characters between < and > with \"\"\n",
    "        # using regex\n",
    "        # strip white space from beginning\n",
    "        subfile[i].text = subfile[i].text.lstrip()\n",
    "        subfile[i].text = re.sub(r'<c.vtt_\\w+>\\s*\"*', \"\", subfile[i].text)\n",
    "        subfile[i].text = re.sub(\"</c>\", \"\", subfile[i].text)\n",
    "        # replace \"-\" with \"\"\n",
    "        subfile[i].text = re.sub(\"-\", \"\", subfile[i].text)\n",
    "\n",
    "    return subfile"
   ]
  },
  {
   "cell_type": "code",
   "execution_count": 8,
   "id": "41a5f9c3",
   "metadata": {},
   "outputs": [],
   "source": [
    "subs = remove_formatting(subs)"
   ]
  },
  {
   "cell_type": "code",
   "execution_count": 9,
   "id": "0670aae0",
   "metadata": {},
   "outputs": [],
   "source": [
    "# create a dataframe with desired column name\n",
    "def create_dataframe(subfile, col_name):\n",
    "    # create dataframe\n",
    "    df = pd.DataFrame(columns=[col_name])\n",
    "    for i in range(len(subfile)):\n",
    "        df.loc[i] = subfile[i].text\n",
    "    return df"
   ]
  },
  {
   "cell_type": "code",
   "execution_count": 10,
   "id": "7482929e",
   "metadata": {},
   "outputs": [
    {
     "data": {
      "text/html": [
       "<div>\n",
       "<style scoped>\n",
       "    .dataframe tbody tr th:only-of-type {\n",
       "        vertical-align: middle;\n",
       "    }\n",
       "\n",
       "    .dataframe tbody tr th {\n",
       "        vertical-align: top;\n",
       "    }\n",
       "\n",
       "    .dataframe thead th {\n",
       "        text-align: right;\n",
       "    }\n",
       "</style>\n",
       "<table border=\"1\" class=\"dataframe\">\n",
       "  <thead>\n",
       "    <tr style=\"text-align: right;\">\n",
       "      <th></th>\n",
       "      <th>Subtitle</th>\n",
       "    </tr>\n",
       "  </thead>\n",
       "  <tbody>\n",
       "    <tr>\n",
       "      <th>0</th>\n",
       "      <td>&lt;font color=#ffffff&gt;.&lt;/font&gt;</td>\n",
       "    </tr>\n",
       "    <tr>\n",
       "      <th>1</th>\n",
       "      <td>&lt;font color=#ffffff&gt;(Motor wird angelassen)&lt;/f...</td>\n",
       "    </tr>\n",
       "    <tr>\n",
       "      <th>2</th>\n",
       "      <td>&lt;font color=#ffffff&gt;Herr Landsberger?&lt;/font&gt;\\n...</td>\n",
       "    </tr>\n",
       "    <tr>\n",
       "      <th>3</th>\n",
       "      <td>&lt;font color=#ffffff&gt;Motorhaube und Kofferraum ...</td>\n",
       "    </tr>\n",
       "    <tr>\n",
       "      <th>4</th>\n",
       "      <td>&lt;font color=#ffffff&gt;Machen Sie den Koffer auf!...</td>\n",
       "    </tr>\n",
       "    <tr>\n",
       "      <th>...</th>\n",
       "      <td>...</td>\n",
       "    </tr>\n",
       "    <tr>\n",
       "      <th>752</th>\n",
       "      <td>&lt;font color=#ffffff&gt;Haben Sie Verwandte in der...</td>\n",
       "    </tr>\n",
       "    <tr>\n",
       "      <th>753</th>\n",
       "      <td>&lt;font color=#ffffff&gt;Herr Landsberger?&lt;/font&gt;\\n...</td>\n",
       "    </tr>\n",
       "    <tr>\n",
       "      <th>754</th>\n",
       "      <td>&lt;font color=#ffffff&gt;Herr Trimmel'?&lt;/font&gt;</td>\n",
       "    </tr>\n",
       "    <tr>\n",
       "      <th>755</th>\n",
       "      <td>&lt;font color=#ffffff&gt;Wohl ein Jugendbildnis von...</td>\n",
       "    </tr>\n",
       "    <tr>\n",
       "      <th>756</th>\n",
       "      <td>&lt;font color=#ffffff&gt;.&lt;/font&gt;</td>\n",
       "    </tr>\n",
       "  </tbody>\n",
       "</table>\n",
       "<p>757 rows × 1 columns</p>\n",
       "</div>"
      ],
      "text/plain": [
       "                                              Subtitle\n",
       "0                         <font color=#ffffff>.</font>\n",
       "1    <font color=#ffffff>(Motor wird angelassen)</f...\n",
       "2    <font color=#ffffff>Herr Landsberger?</font>\\n...\n",
       "3    <font color=#ffffff>Motorhaube und Kofferraum ...\n",
       "4    <font color=#ffffff>Machen Sie den Koffer auf!...\n",
       "..                                                 ...\n",
       "752  <font color=#ffffff>Haben Sie Verwandte in der...\n",
       "753  <font color=#ffffff>Herr Landsberger?</font>\\n...\n",
       "754          <font color=#ffffff>Herr Trimmel'?</font>\n",
       "755  <font color=#ffffff>Wohl ein Jugendbildnis von...\n",
       "756                       <font color=#ffffff>.</font>\n",
       "\n",
       "[757 rows x 1 columns]"
      ]
     },
     "execution_count": 10,
     "metadata": {},
     "output_type": "execute_result"
    }
   ],
   "source": [
    "df = create_dataframe(subs, 'Subtitle')\n",
    "df\n"
   ]
  },
  {
   "cell_type": "code",
   "execution_count": 11,
   "id": "ee757108",
   "metadata": {},
   "outputs": [],
   "source": [
    "# TODO - fix to combine across rows\n",
    "# combine rows until period or end character reached\n",
    "# used for gaining more context for sentiment analysis and classification\n",
    "# append these rows to list and then create new df - more efficient than appending to df\n",
    "# end characters at index -1 must be ) . ? ! \n",
    "\n",
    "def combine_rows(df, col):\n",
    "    new_df_list = []\n",
    "    current_row = \"\"\n",
    "    for row in df[col]:\n",
    "        if row[-1] == \")\" or row[-1] == \".\" or row[-1] == \"?\" or row[-1] == \"!\":\n",
    "            current_row += row\n",
    "            new_df_list.append(current_row)\n",
    "            current_row = \"\"\n",
    "        else:\n",
    "            current_row += row\n",
    "\n",
    "    # create new df from the list of combined rows\n",
    "    new_df = pd.DataFrame(new_df_list)\n",
    "    new_df.rename(columns={0:col}, inplace=True)\n",
    "    return new_df\n",
    "    \n",
    "\n",
    "new_df = combine_rows(df, 'Subtitle')"
   ]
  },
  {
   "cell_type": "code",
   "execution_count": 12,
   "id": "8b73d986",
   "metadata": {},
   "outputs": [],
   "source": [
    "# create new dataframe removing the subtitle font tags\n",
    "# go row by row - only include what's between > and < symbols\n",
    "\n",
    "def remove_font_tags(df, col):\n",
    "    new_df_list = []\n",
    "    current_row = \"\"\n",
    "    for i in range(len(df[col])):\n",
    "        # slice between two characters > and < \n",
    "        match = re.findall(r'>(.*?)<', df[col][i])\n",
    "        if match:\n",
    "            new_df_list.append(match[0])\n",
    "        else:\n",
    "            new_df_list.append(df[col][i])\n",
    "\n",
    "    return new_df_list"
   ]
  },
  {
   "cell_type": "code",
   "execution_count": 13,
   "id": "86256445",
   "metadata": {},
   "outputs": [
    {
     "data": {
      "text/html": [
       "<div>\n",
       "<style scoped>\n",
       "    .dataframe tbody tr th:only-of-type {\n",
       "        vertical-align: middle;\n",
       "    }\n",
       "\n",
       "    .dataframe tbody tr th {\n",
       "        vertical-align: top;\n",
       "    }\n",
       "\n",
       "    .dataframe thead th {\n",
       "        text-align: right;\n",
       "    }\n",
       "</style>\n",
       "<table border=\"1\" class=\"dataframe\">\n",
       "  <thead>\n",
       "    <tr style=\"text-align: right;\">\n",
       "      <th></th>\n",
       "      <th>Subtitle</th>\n",
       "    </tr>\n",
       "  </thead>\n",
       "  <tbody>\n",
       "    <tr>\n",
       "      <th>0</th>\n",
       "      <td>.</td>\n",
       "    </tr>\n",
       "    <tr>\n",
       "      <th>1</th>\n",
       "      <td>(Motor wird angelassen)</td>\n",
       "    </tr>\n",
       "    <tr>\n",
       "      <th>2</th>\n",
       "      <td>Herr Landsberger?</td>\n",
       "    </tr>\n",
       "    <tr>\n",
       "      <th>3</th>\n",
       "      <td>Motorhaube und Kofferraum öffnen,</td>\n",
       "    </tr>\n",
       "    <tr>\n",
       "      <th>4</th>\n",
       "      <td>Machen Sie den Koffer auf!</td>\n",
       "    </tr>\n",
       "    <tr>\n",
       "      <th>...</th>\n",
       "      <td>...</td>\n",
       "    </tr>\n",
       "    <tr>\n",
       "      <th>752</th>\n",
       "      <td>Haben Sie Verwandte in der DDR?</td>\n",
       "    </tr>\n",
       "    <tr>\n",
       "      <th>753</th>\n",
       "      <td>Herr Landsberger?</td>\n",
       "    </tr>\n",
       "    <tr>\n",
       "      <th>754</th>\n",
       "      <td>Herr Trimmel'?</td>\n",
       "    </tr>\n",
       "    <tr>\n",
       "      <th>755</th>\n",
       "      <td>Wohl ein Jugendbildnis von Ihnen.</td>\n",
       "    </tr>\n",
       "    <tr>\n",
       "      <th>756</th>\n",
       "      <td>.</td>\n",
       "    </tr>\n",
       "  </tbody>\n",
       "</table>\n",
       "<p>757 rows × 1 columns</p>\n",
       "</div>"
      ],
      "text/plain": [
       "                              Subtitle\n",
       "0                                    .\n",
       "1              (Motor wird angelassen)\n",
       "2                    Herr Landsberger?\n",
       "3    Motorhaube und Kofferraum öffnen,\n",
       "4           Machen Sie den Koffer auf!\n",
       "..                                 ...\n",
       "752    Haben Sie Verwandte in der DDR?\n",
       "753                  Herr Landsberger?\n",
       "754                     Herr Trimmel'?\n",
       "755  Wohl ein Jugendbildnis von Ihnen.\n",
       "756                                  .\n",
       "\n",
       "[757 rows x 1 columns]"
      ]
     },
     "execution_count": 13,
     "metadata": {},
     "output_type": "execute_result"
    }
   ],
   "source": [
    "new_df_list = remove_font_tags(df,'Subtitle')\n",
    "\n",
    "# create new df without font tags\n",
    "new_df = pd.DataFrame(new_df_list)\n",
    "new_df.rename(columns={0:\"Subtitle\"}, inplace=True)\n",
    "new_df\n"
   ]
  },
  {
   "cell_type": "code",
   "execution_count": 14,
   "id": "e5b172c4",
   "metadata": {},
   "outputs": [
    {
     "name": "stdout",
     "output_type": "stream",
     "text": [
      "                            Subtitle\n",
      "0                                  .\n",
      "1            (Motor wird angelassen)\n",
      "2                  Herr Landsberger?\n",
      "3  Motorhaube und Kofferraum öffnen,\n",
      "4         Machen Sie den Koffer auf!\n",
      "(757, 1)\n",
      "Subtitle    object\n",
      "dtype: object\n",
      "         Subtitle\n",
      "count         757\n",
      "unique        721\n",
      "top     (Trimmel)\n",
      "freq            6\n"
     ]
    }
   ],
   "source": [
    "# basic exploratory data analysis\n",
    "def explore_data(dataframe, column):\n",
    "    print(dataframe.head())\n",
    "    print(dataframe.shape)\n",
    "    print(dataframe.dtypes)\n",
    "    print(dataframe.describe(include='all'))\n",
    "    \n",
    "explore_data(new_df, 'Subtitle')"
   ]
  },
  {
   "cell_type": "code",
   "execution_count": 15,
   "id": "0d0da6c4",
   "metadata": {},
   "outputs": [],
   "source": [
    "# convert to lowercase\n",
    "def make_lowercase(df, source_col, target_col):\n",
    "    df[target_col] = df[source_col].str.lower()\n",
    "    return df"
   ]
  },
  {
   "cell_type": "code",
   "execution_count": 16,
   "id": "8daaa78d",
   "metadata": {},
   "outputs": [],
   "source": [
    "# remove punctuation\n",
    "def remove_punctuation(df, source_col, target_col):\n",
    "    # ^ is a negation inside brackets (anything except)\n",
    "    # starts with any word, digits, or underscore, white space character, apostrophe, + means any character in the string\n",
    "    df[target_col] = df[source_col].str.replace(r\"[^\\w\\s']+\", ' ', regex = True)\n",
    "    return df"
   ]
  },
  {
   "cell_type": "code",
   "execution_count": 17,
   "id": "ad84b320",
   "metadata": {},
   "outputs": [],
   "source": [
    "# remove newline \\n character\n",
    "def remove_newline(df, source_col, target_col):\n",
    "    df[target_col] = df[source_col].str.replace(r'\\n', ' ', regex = True) # replaces the \\n with a space\n",
    "    return df"
   ]
  },
  {
   "cell_type": "code",
   "execution_count": 18,
   "id": "8c554f20",
   "metadata": {},
   "outputs": [
    {
     "name": "stdout",
     "output_type": "stream",
     "text": [
      "                            Subtitle\n",
      "0                                  .\n",
      "1            (Motor wird angelassen)\n",
      "2                  Herr Landsberger?\n",
      "3  Motorhaube und Kofferraum öffnen,\n",
      "4         Machen Sie den Koffer auf!\n"
     ]
    },
    {
     "data": {
      "text/html": [
       "<div>\n",
       "<style scoped>\n",
       "    .dataframe tbody tr th:only-of-type {\n",
       "        vertical-align: middle;\n",
       "    }\n",
       "\n",
       "    .dataframe tbody tr th {\n",
       "        vertical-align: top;\n",
       "    }\n",
       "\n",
       "    .dataframe thead th {\n",
       "        text-align: right;\n",
       "    }\n",
       "</style>\n",
       "<table border=\"1\" class=\"dataframe\">\n",
       "  <thead>\n",
       "    <tr style=\"text-align: right;\">\n",
       "      <th></th>\n",
       "      <th>Subtitle</th>\n",
       "    </tr>\n",
       "  </thead>\n",
       "  <tbody>\n",
       "    <tr>\n",
       "      <th>102</th>\n",
       "      <td>Jetzt reicht's.</td>\n",
       "    </tr>\n",
       "  </tbody>\n",
       "</table>\n",
       "</div>"
      ],
      "text/plain": [
       "            Subtitle\n",
       "102  Jetzt reicht's."
      ]
     },
     "execution_count": 18,
     "metadata": {},
     "output_type": "execute_result"
    }
   ],
   "source": [
    "# remove newline from df\n",
    "clean_df = remove_newline(new_df, 'Subtitle', 'Subtitle')\n",
    "print(clean_df.head())\n",
    "\n",
    "clean_df[102:103]"
   ]
  },
  {
   "cell_type": "code",
   "execution_count": 19,
   "id": "d621d86b",
   "metadata": {},
   "outputs": [
    {
     "name": "stdout",
     "output_type": "stream",
     "text": [
      "                            Subtitle                          Lowercase\n",
      "0                                  .                                  .\n",
      "1            (Motor wird angelassen)            (motor wird angelassen)\n",
      "2                  Herr Landsberger?                  herr landsberger?\n",
      "3  Motorhaube und Kofferraum öffnen,  motorhaube und kofferraum öffnen,\n",
      "4         Machen Sie den Koffer auf!         machen sie den koffer auf!\n"
     ]
    }
   ],
   "source": [
    "# make lowercase\n",
    "clean_df = make_lowercase(clean_df, 'Subtitle', 'Lowercase')\n",
    "print(clean_df.head())\n"
   ]
  },
  {
   "cell_type": "code",
   "execution_count": 20,
   "id": "0ed93d77",
   "metadata": {},
   "outputs": [
    {
     "name": "stdout",
     "output_type": "stream",
     "text": [
      "                            Subtitle                          Lowercase  \\\n",
      "0                                  .                                  .   \n",
      "1            (Motor wird angelassen)            (motor wird angelassen)   \n",
      "2                  Herr Landsberger?                  herr landsberger?   \n",
      "3  Motorhaube und Kofferraum öffnen,  motorhaube und kofferraum öffnen,   \n",
      "4         Machen Sie den Koffer auf!         machen sie den koffer auf!   \n",
      "\n",
      "                      No Punctuation  \n",
      "0                                     \n",
      "1             Motor wird angelassen   \n",
      "2                  Herr Landsberger   \n",
      "3  Motorhaube und Kofferraum öffnen   \n",
      "4         Machen Sie den Koffer auf   \n"
     ]
    },
    {
     "data": {
      "text/html": [
       "<div>\n",
       "<style scoped>\n",
       "    .dataframe tbody tr th:only-of-type {\n",
       "        vertical-align: middle;\n",
       "    }\n",
       "\n",
       "    .dataframe tbody tr th {\n",
       "        vertical-align: top;\n",
       "    }\n",
       "\n",
       "    .dataframe thead th {\n",
       "        text-align: right;\n",
       "    }\n",
       "</style>\n",
       "<table border=\"1\" class=\"dataframe\">\n",
       "  <thead>\n",
       "    <tr style=\"text-align: right;\">\n",
       "      <th></th>\n",
       "      <th>Subtitle</th>\n",
       "      <th>Lowercase</th>\n",
       "      <th>No Punctuation</th>\n",
       "    </tr>\n",
       "  </thead>\n",
       "  <tbody>\n",
       "    <tr>\n",
       "      <th>102</th>\n",
       "      <td>Jetzt reicht's.</td>\n",
       "      <td>jetzt reicht's.</td>\n",
       "      <td>Jetzt reicht's</td>\n",
       "    </tr>\n",
       "  </tbody>\n",
       "</table>\n",
       "</div>"
      ],
      "text/plain": [
       "            Subtitle        Lowercase   No Punctuation\n",
       "102  Jetzt reicht's.  jetzt reicht's.  Jetzt reicht's "
      ]
     },
     "execution_count": 20,
     "metadata": {},
     "output_type": "execute_result"
    }
   ],
   "source": [
    "# remove punctuation\n",
    "clean_df = remove_punctuation(clean_df, 'Subtitle', 'No Punctuation')\n",
    "print(clean_df.head())\n",
    "clean_df[102:103]"
   ]
  },
  {
   "cell_type": "code",
   "execution_count": 21,
   "id": "92d98a09",
   "metadata": {},
   "outputs": [],
   "source": [
    "# word tokenizer\n",
    "# basic tokenizer splits on apostrophe\n",
    "# tweet tokenizer does not\n",
    "\n",
    "def tokenize_words(df, source_col):\n",
    "    df['Word Tokens'] = df[source_col].apply(nltk.word_tokenize)\n",
    "    return df"
   ]
  },
  {
   "cell_type": "code",
   "execution_count": 22,
   "id": "33d47728",
   "metadata": {},
   "outputs": [
    {
     "data": {
      "text/plain": [
       "0                                          []\n",
       "1                   [Motor, wird, angelassen]\n",
       "2                         [Herr, Landsberger]\n",
       "3       [Motorhaube, und, Kofferraum, öffnen]\n",
       "4             [Machen, Sie, den, Koffer, auf]\n",
       "                        ...                  \n",
       "752     [Haben, Sie, Verwandte, in, der, DDR]\n",
       "753                       [Herr, Landsberger]\n",
       "754                        [Herr, Trimmel, ']\n",
       "755    [Wohl, ein, Jugendbildnis, von, Ihnen]\n",
       "756                                        []\n",
       "Name: Word Tokens, Length: 757, dtype: object"
      ]
     },
     "execution_count": 22,
     "metadata": {},
     "output_type": "execute_result"
    }
   ],
   "source": [
    "clean_df = tokenize_words(clean_df, 'No Punctuation')\n",
    "clean_df['Word Tokens']"
   ]
  },
  {
   "cell_type": "code",
   "execution_count": 23,
   "id": "27209462",
   "metadata": {},
   "outputs": [],
   "source": [
    "def tokenize_sentences(df, source_col):\n",
    "    df['Sentence Tokens'] = df[source_col].apply(nltk.sent_tokenize)\n",
    "    return df"
   ]
  },
  {
   "cell_type": "code",
   "execution_count": 24,
   "id": "4fdd14b8",
   "metadata": {},
   "outputs": [
    {
     "data": {
      "text/plain": [
       "0                                      []\n",
       "1                [ Motor wird angelassen]\n",
       "2                      [Herr Landsberger]\n",
       "3      [Motorhaube und Kofferraum öffnen]\n",
       "4             [Machen Sie den Koffer auf]\n",
       "                      ...                \n",
       "752      [Haben Sie Verwandte in der DDR]\n",
       "753                    [Herr Landsberger]\n",
       "754                       [Herr Trimmel']\n",
       "755    [Wohl ein Jugendbildnis von Ihnen]\n",
       "756                                    []\n",
       "Name: Sentence Tokens, Length: 757, dtype: object"
      ]
     },
     "execution_count": 24,
     "metadata": {},
     "output_type": "execute_result"
    }
   ],
   "source": [
    "clean_df['Sentence Tokens'] = clean_df['No Punctuation'].apply(nltk.sent_tokenize)\n",
    "clean_df['Sentence Tokens']"
   ]
  },
  {
   "cell_type": "code",
   "execution_count": 25,
   "id": "ea6d4351",
   "metadata": {},
   "outputs": [],
   "source": [
    "# remove stopwords\n",
    "\n",
    "# open existing file of removed words\n",
    "def load_removed_words(lang):\n",
    "    try:\n",
    "        with open(lang[1]+\"_removed_words.json\", \"r\") as f:\n",
    "            removed_words = set(json.load(f))\n",
    "    #JSONDecodeError - if file is empty       \n",
    "    except (FileNotFoundError, json.JSONDecodeError):\n",
    "        removed_words = set()\n",
    "\n",
    "    # add words \n",
    "    removed_words.update(lang_sw)\n",
    "\n",
    "    # save new set\n",
    "    with open(lang[1]+\"_removed_words.json\", \"w\") as f:\n",
    "        json.dump(list(removed_words), f)\n",
    "        \n",
    "    # return set of removed words\n",
    "    return removed_words"
   ]
  },
  {
   "cell_type": "code",
   "execution_count": 26,
   "id": "6f4cad9d",
   "metadata": {},
   "outputs": [],
   "source": [
    "# extend the stop words with list of custom words\n",
    "\n",
    "def extend_removed_words(lang, custom_stop_words):\n",
    "    # save to JSON file\n",
    "    try:\n",
    "        with open(lang[1]+\"_removed_words.json\", \"r\") as f:\n",
    "            removed_words = set(json.load(f))\n",
    "    except FileNotFoundError:\n",
    "        removed_words = set()\n",
    "\n",
    "    removed_words.update(custom_stop_words)\n",
    "\n",
    "    with open(lang[1]+\"_removed_words.json\", \"w\") as f:\n",
    "        json.dump(list(removed_words), f)\n",
    "        \n",
    "    return removed_words"
   ]
  },
  {
   "cell_type": "code",
   "execution_count": 27,
   "id": "57bc641d",
   "metadata": {},
   "outputs": [],
   "source": [
    "# remove from removed words file\n",
    "\n",
    "def add_back_words(lang, desired_words):\n",
    "    try:\n",
    "        with open(lang[1]+\"_removed_words.json\", \"r\") as f:\n",
    "            removed_words = set(json.load(f))\n",
    "\n",
    "    except (FileNotFoundError, json.JSONDecodeError):\n",
    "        removed_words = set()\n",
    "\n",
    "    # add back words (remove from set)\n",
    "    removed_words.difference_update(desired_words)\n",
    "\n",
    "    with open(lang[1]+\"_removed_words.json\", \"w\") as f:\n",
    "        json.dump(list(removed_words), f)\n",
    "        \n",
    "    return removed_words"
   ]
  },
  {
   "cell_type": "code",
   "execution_count": 28,
   "id": "0a293d7a",
   "metadata": {},
   "outputs": [],
   "source": [
    "removed_words = load_removed_words(lang)\n",
    "\n",
    "# names of characters, places, capitalizations of pronouns, etc.\n",
    "custom_stop_words = [\"Billsing\"]\n",
    "\n",
    "removed_words = extend_removed_words(lang, custom_stop_words)\n",
    "\n",
    "desired_words = []\n",
    "removed_words = add_back_words(lang, desired_words)"
   ]
  },
  {
   "cell_type": "code",
   "execution_count": 29,
   "id": "a53f5b34",
   "metadata": {},
   "outputs": [
    {
     "data": {
      "text/html": [
       "<div>\n",
       "<style scoped>\n",
       "    .dataframe tbody tr th:only-of-type {\n",
       "        vertical-align: middle;\n",
       "    }\n",
       "\n",
       "    .dataframe tbody tr th {\n",
       "        vertical-align: top;\n",
       "    }\n",
       "\n",
       "    .dataframe thead th {\n",
       "        text-align: right;\n",
       "    }\n",
       "</style>\n",
       "<table border=\"1\" class=\"dataframe\">\n",
       "  <thead>\n",
       "    <tr style=\"text-align: right;\">\n",
       "      <th></th>\n",
       "      <th>Subtitle</th>\n",
       "      <th>Lowercase</th>\n",
       "      <th>No Punctuation</th>\n",
       "      <th>Word Tokens</th>\n",
       "      <th>Sentence Tokens</th>\n",
       "      <th>No Stop Words</th>\n",
       "    </tr>\n",
       "  </thead>\n",
       "  <tbody>\n",
       "    <tr>\n",
       "      <th>100</th>\n",
       "      <td>In Leipzig gekauft.</td>\n",
       "      <td>in leipzig gekauft.</td>\n",
       "      <td>In Leipzig gekauft</td>\n",
       "      <td>[In, Leipzig, gekauft]</td>\n",
       "      <td>[In Leipzig gekauft]</td>\n",
       "      <td>[gekauft]</td>\n",
       "    </tr>\n",
       "    <tr>\n",
       "      <th>101</th>\n",
       "      <td>Musst du immer kurze Röcke tragen?</td>\n",
       "      <td>musst du immer kurze röcke tragen?</td>\n",
       "      <td>Musst du immer kurze Röcke tragen</td>\n",
       "      <td>[Musst, du, immer, kurze, Röcke, tragen]</td>\n",
       "      <td>[Musst du immer kurze Röcke tragen]</td>\n",
       "      <td>[kurze, Röcke, tragen]</td>\n",
       "    </tr>\n",
       "    <tr>\n",
       "      <th>102</th>\n",
       "      <td>Jetzt reicht's.</td>\n",
       "      <td>jetzt reicht's.</td>\n",
       "      <td>Jetzt reicht's</td>\n",
       "      <td>[Jetzt, reicht, 's]</td>\n",
       "      <td>[Jetzt reicht's]</td>\n",
       "      <td>[reicht]</td>\n",
       "    </tr>\n",
       "    <tr>\n",
       "      <th>103</th>\n",
       "      <td>Hast du vor mir noch nie</td>\n",
       "      <td>hast du vor mir noch nie</td>\n",
       "      <td>Hast du vor mir noch nie</td>\n",
       "      <td>[Hast, du, vor, mir, noch, nie]</td>\n",
       "      <td>[Hast du vor mir noch nie]</td>\n",
       "      <td>[]</td>\n",
       "    </tr>\n",
       "    <tr>\n",
       "      <th>104</th>\n",
       "      <td>Für wen mache ich das alles?</td>\n",
       "      <td>für wen mache ich das alles?</td>\n",
       "      <td>Für wen mache ich das alles</td>\n",
       "      <td>[Für, wen, mache, ich, das, alles]</td>\n",
       "      <td>[Für wen mache ich das alles]</td>\n",
       "      <td>[]</td>\n",
       "    </tr>\n",
       "    <tr>\n",
       "      <th>105</th>\n",
       "      <td>Für Erich</td>\n",
       "      <td>für erich</td>\n",
       "      <td>Für Erich</td>\n",
       "      <td>[Für, Erich]</td>\n",
       "      <td>[Für Erich]</td>\n",
       "      <td>[]</td>\n",
       "    </tr>\n",
       "    <tr>\n",
       "      <th>106</th>\n",
       "      <td>Für uns beide, dachte ich.</td>\n",
       "      <td>für uns beide, dachte ich.</td>\n",
       "      <td>Für uns beide  dachte ich</td>\n",
       "      <td>[Für, uns, beide, dachte, ich]</td>\n",
       "      <td>[Für uns beide  dachte ich]</td>\n",
       "      <td>[dachte]</td>\n",
       "    </tr>\n",
       "    <tr>\n",
       "      <th>107</th>\n",
       "      <td>Da kannst du alleine</td>\n",
       "      <td>da kannst du alleine</td>\n",
       "      <td>Da kannst du alleine</td>\n",
       "      <td>[Da, kannst, du, alleine]</td>\n",
       "      <td>[Da kannst du alleine]</td>\n",
       "      <td>[alleine]</td>\n",
       "    </tr>\n",
       "    <tr>\n",
       "      <th>108</th>\n",
       "      <td>Ich lass mir wegen dem</td>\n",
       "      <td>ich lass mir wegen dem</td>\n",
       "      <td>Ich lass mir wegen dem</td>\n",
       "      <td>[Ich, lass, mir, wegen, dem]</td>\n",
       "      <td>[Ich lass mir wegen dem]</td>\n",
       "      <td>[lass, wegen]</td>\n",
       "    </tr>\n",
       "    <tr>\n",
       "      <th>109</th>\n",
       "      <td>(Tür knallt)</td>\n",
       "      <td>(tür knallt)</td>\n",
       "      <td>Tür knallt</td>\n",
       "      <td>[Tür, knallt]</td>\n",
       "      <td>[ Tür knallt]</td>\n",
       "      <td>[knallt]</td>\n",
       "    </tr>\n",
       "    <tr>\n",
       "      <th>110</th>\n",
       "      <td>Sie wünschen?  Verzeihung,</td>\n",
       "      <td>sie wünschen?  verzeihung,</td>\n",
       "      <td>Sie wünschen   Verzeihung</td>\n",
       "      <td>[Sie, wünschen, Verzeihung]</td>\n",
       "      <td>[Sie wünschen   Verzeihung]</td>\n",
       "      <td>[wünschen, Verzeihung]</td>\n",
       "    </tr>\n",
       "    <tr>\n",
       "      <th>111</th>\n",
       "      <td>Im Telefonbuch stand</td>\n",
       "      <td>im telefonbuch stand</td>\n",
       "      <td>Im Telefonbuch stand</td>\n",
       "      <td>[Im, Telefonbuch, stand]</td>\n",
       "      <td>[Im Telefonbuch stand]</td>\n",
       "      <td>[Telefonbuch, stand]</td>\n",
       "    </tr>\n",
       "    <tr>\n",
       "      <th>112</th>\n",
       "      <td>Das ist aber ein Jammer.</td>\n",
       "      <td>das ist aber ein jammer.</td>\n",
       "      <td>Das ist aber ein Jammer</td>\n",
       "      <td>[Das, ist, aber, ein, Jammer]</td>\n",
       "      <td>[Das ist aber ein Jammer]</td>\n",
       "      <td>[Jammer]</td>\n",
       "    </tr>\n",
       "    <tr>\n",
       "      <th>113</th>\n",
       "      <td>Ich habe ihn ewig nicht gesehen und</td>\n",
       "      <td>ich habe ihn ewig nicht gesehen und</td>\n",
       "      <td>Ich habe ihn ewig nicht gesehen und</td>\n",
       "      <td>[Ich, habe, ihn, ewig, nicht, gesehen, und]</td>\n",
       "      <td>[Ich habe ihn ewig nicht gesehen und]</td>\n",
       "      <td>[ewig]</td>\n",
       "    </tr>\n",
       "    <tr>\n",
       "      <th>114</th>\n",
       "      <td>Nun ist er ausgezogen.</td>\n",
       "      <td>nun ist er ausgezogen.</td>\n",
       "      <td>Nun ist er ausgezogen</td>\n",
       "      <td>[Nun, ist, er, ausgezogen]</td>\n",
       "      <td>[Nun ist er ausgezogen]</td>\n",
       "      <td>[ausgezogen]</td>\n",
       "    </tr>\n",
       "    <tr>\n",
       "      <th>115</th>\n",
       "      <td>Das geht Sie nichts an.</td>\n",
       "      <td>das geht sie nichts an.</td>\n",
       "      <td>Das geht Sie nichts an</td>\n",
       "      <td>[Das, geht, Sie, nichts, an]</td>\n",
       "      <td>[Das geht Sie nichts an]</td>\n",
       "      <td>[]</td>\n",
       "    </tr>\n",
       "    <tr>\n",
       "      <th>116</th>\n",
       "      <td>Richtig.</td>\n",
       "      <td>richtig.</td>\n",
       "      <td>Richtig</td>\n",
       "      <td>[Richtig]</td>\n",
       "      <td>[Richtig]</td>\n",
       "      <td>[]</td>\n",
       "    </tr>\n",
       "    <tr>\n",
       "      <th>117</th>\n",
       "      <td>Wenn ich</td>\n",
       "      <td>wenn ich</td>\n",
       "      <td>Wenn ich</td>\n",
       "      <td>[Wenn, ich]</td>\n",
       "      <td>[Wenn ich]</td>\n",
       "      <td>[]</td>\n",
       "    </tr>\n",
       "    <tr>\n",
       "      <th>118</th>\n",
       "      <td>Herr Landsberger ist seit dem Tod</td>\n",
       "      <td>herr landsberger ist seit dem tod</td>\n",
       "      <td>Herr Landsberger ist seit dem Tod</td>\n",
       "      <td>[Herr, Landsberger, ist, seit, dem, Tod]</td>\n",
       "      <td>[Herr Landsberger ist seit dem Tod]</td>\n",
       "      <td>[]</td>\n",
       "    </tr>\n",
       "    <tr>\n",
       "      <th>119</th>\n",
       "      <td>Mit Christian?</td>\n",
       "      <td>mit christian?</td>\n",
       "      <td>Mit Christian</td>\n",
       "      <td>[Mit, Christian]</td>\n",
       "      <td>[Mit Christian]</td>\n",
       "      <td>[]</td>\n",
       "    </tr>\n",
       "  </tbody>\n",
       "</table>\n",
       "</div>"
      ],
      "text/plain": [
       "                                Subtitle                            Lowercase  \\\n",
       "100                  In Leipzig gekauft.                  in leipzig gekauft.   \n",
       "101   Musst du immer kurze Röcke tragen?   musst du immer kurze röcke tragen?   \n",
       "102                      Jetzt reicht's.                      jetzt reicht's.   \n",
       "103             Hast du vor mir noch nie             hast du vor mir noch nie   \n",
       "104         Für wen mache ich das alles?         für wen mache ich das alles?   \n",
       "105                            Für Erich                            für erich   \n",
       "106           Für uns beide, dachte ich.           für uns beide, dachte ich.   \n",
       "107                 Da kannst du alleine                 da kannst du alleine   \n",
       "108               Ich lass mir wegen dem               ich lass mir wegen dem   \n",
       "109                         (Tür knallt)                         (tür knallt)   \n",
       "110          Sie wünschen?  Verzeihung,           sie wünschen?  verzeihung,    \n",
       "111                 Im Telefonbuch stand                 im telefonbuch stand   \n",
       "112             Das ist aber ein Jammer.             das ist aber ein jammer.   \n",
       "113  Ich habe ihn ewig nicht gesehen und  ich habe ihn ewig nicht gesehen und   \n",
       "114               Nun ist er ausgezogen.               nun ist er ausgezogen.   \n",
       "115              Das geht Sie nichts an.              das geht sie nichts an.   \n",
       "116                             Richtig.                             richtig.   \n",
       "117                             Wenn ich                             wenn ich   \n",
       "118    Herr Landsberger ist seit dem Tod    herr landsberger ist seit dem tod   \n",
       "119                       Mit Christian?                       mit christian?   \n",
       "\n",
       "                          No Punctuation  \\\n",
       "100                  In Leipzig gekauft    \n",
       "101   Musst du immer kurze Röcke tragen    \n",
       "102                      Jetzt reicht's    \n",
       "103             Hast du vor mir noch nie   \n",
       "104         Für wen mache ich das alles    \n",
       "105                            Für Erich   \n",
       "106           Für uns beide  dachte ich    \n",
       "107                 Da kannst du alleine   \n",
       "108               Ich lass mir wegen dem   \n",
       "109                          Tür knallt    \n",
       "110          Sie wünschen   Verzeihung     \n",
       "111                 Im Telefonbuch stand   \n",
       "112             Das ist aber ein Jammer    \n",
       "113  Ich habe ihn ewig nicht gesehen und   \n",
       "114               Nun ist er ausgezogen    \n",
       "115              Das geht Sie nichts an    \n",
       "116                             Richtig    \n",
       "117                             Wenn ich   \n",
       "118    Herr Landsberger ist seit dem Tod   \n",
       "119                       Mit Christian    \n",
       "\n",
       "                                     Word Tokens  \\\n",
       "100                       [In, Leipzig, gekauft]   \n",
       "101     [Musst, du, immer, kurze, Röcke, tragen]   \n",
       "102                          [Jetzt, reicht, 's]   \n",
       "103              [Hast, du, vor, mir, noch, nie]   \n",
       "104           [Für, wen, mache, ich, das, alles]   \n",
       "105                                 [Für, Erich]   \n",
       "106               [Für, uns, beide, dachte, ich]   \n",
       "107                    [Da, kannst, du, alleine]   \n",
       "108                 [Ich, lass, mir, wegen, dem]   \n",
       "109                                [Tür, knallt]   \n",
       "110                  [Sie, wünschen, Verzeihung]   \n",
       "111                     [Im, Telefonbuch, stand]   \n",
       "112                [Das, ist, aber, ein, Jammer]   \n",
       "113  [Ich, habe, ihn, ewig, nicht, gesehen, und]   \n",
       "114                   [Nun, ist, er, ausgezogen]   \n",
       "115                 [Das, geht, Sie, nichts, an]   \n",
       "116                                    [Richtig]   \n",
       "117                                  [Wenn, ich]   \n",
       "118     [Herr, Landsberger, ist, seit, dem, Tod]   \n",
       "119                             [Mit, Christian]   \n",
       "\n",
       "                           Sentence Tokens           No Stop Words  \n",
       "100                   [In Leipzig gekauft]               [gekauft]  \n",
       "101    [Musst du immer kurze Röcke tragen]  [kurze, Röcke, tragen]  \n",
       "102                       [Jetzt reicht's]                [reicht]  \n",
       "103             [Hast du vor mir noch nie]                      []  \n",
       "104          [Für wen mache ich das alles]                      []  \n",
       "105                            [Für Erich]                      []  \n",
       "106            [Für uns beide  dachte ich]                [dachte]  \n",
       "107                 [Da kannst du alleine]               [alleine]  \n",
       "108               [Ich lass mir wegen dem]           [lass, wegen]  \n",
       "109                          [ Tür knallt]                [knallt]  \n",
       "110            [Sie wünschen   Verzeihung]  [wünschen, Verzeihung]  \n",
       "111                 [Im Telefonbuch stand]    [Telefonbuch, stand]  \n",
       "112              [Das ist aber ein Jammer]                [Jammer]  \n",
       "113  [Ich habe ihn ewig nicht gesehen und]                  [ewig]  \n",
       "114                [Nun ist er ausgezogen]            [ausgezogen]  \n",
       "115               [Das geht Sie nichts an]                      []  \n",
       "116                              [Richtig]                      []  \n",
       "117                             [Wenn ich]                      []  \n",
       "118    [Herr Landsberger ist seit dem Tod]                      []  \n",
       "119                        [Mit Christian]                      []  "
      ]
     },
     "execution_count": 29,
     "metadata": {},
     "output_type": "execute_result"
    }
   ],
   "source": [
    "# create new column without all removed words\n",
    "clean_df['No Stop Words'] = clean_df['Word Tokens'].apply(lambda x: [item for item in x if item not in removed_words])\n",
    "clean_df[100:120]"
   ]
  },
  {
   "cell_type": "code",
   "execution_count": 30,
   "id": "fdc1e867",
   "metadata": {},
   "outputs": [
    {
     "data": {
      "text/plain": [
       "100    In Leipzig gekauft.\n",
       "Name: Subtitle, dtype: object"
      ]
     },
     "execution_count": 30,
     "metadata": {},
     "output_type": "execute_result"
    },
    {
     "data": {
      "text/plain": [
       "0                                      []\n",
       "1                     [Motor, angelassen]\n",
       "2                                      []\n",
       "3        [Motorhaube, Kofferraum, öffnen]\n",
       "4                                [Koffer]\n",
       "5                              [Sitzbank]\n",
       "6                               [schläft]\n",
       "7                         [außerdem, gut]\n",
       "8                         [Handschuhfach]\n",
       "9                                      []\n",
       "10                               [hörbar]\n",
       "11                                [Hörst]\n",
       "12    [Ärmliche, Nee, förmliche, Anfrage]\n",
       "13              [Strafverfolgungsbehörde]\n",
       "14                            [Rastplatz]\n",
       "15                          [fand, toten]\n",
       "16                         [Verletzungen]\n",
       "17                                 [lies]\n",
       "18                    [trug, DDRKleidung]\n",
       "19                                     []\n",
       "Name: No Stop Words, dtype: object"
      ]
     },
     "execution_count": 30,
     "metadata": {},
     "output_type": "execute_result"
    }
   ],
   "source": [
    "clean_df[100:101]['Subtitle']\n",
    "clean_df[0:20]['No Stop Words']"
   ]
  },
  {
   "cell_type": "code",
   "execution_count": 31,
   "id": "d50a6d25",
   "metadata": {},
   "outputs": [
    {
     "data": {
      "text/plain": [
       "['Motor',\n",
       " 'angelassen',\n",
       " 'Motorhaube',\n",
       " 'Kofferraum',\n",
       " 'öffnen',\n",
       " 'Koffer',\n",
       " 'Sitzbank',\n",
       " 'schläft',\n",
       " 'außerdem',\n",
       " 'gut',\n",
       " 'Handschuhfach',\n",
       " 'hörbar',\n",
       " 'Hörst',\n",
       " 'Ärmliche',\n",
       " 'Nee',\n",
       " 'förmliche',\n",
       " 'Anfrage',\n",
       " 'Strafverfolgungsbehörde',\n",
       " 'Rastplatz',\n",
       " 'fand']"
      ]
     },
     "execution_count": 31,
     "metadata": {},
     "output_type": "execute_result"
    }
   ],
   "source": [
    "# create a frequency diagram without stop words\n",
    "\n",
    "# list of all words\n",
    "words = []\n",
    "for index, row in clean_df.iterrows():\n",
    "    for word in row['No Stop Words']:\n",
    "        words.append(word)\n",
    "words[0:20]"
   ]
  },
  {
   "cell_type": "code",
   "execution_count": 32,
   "id": "f9404383",
   "metadata": {},
   "outputs": [
    {
     "data": {
      "image/png": "[encoded data removed]",
      "text/plain": [
       "<Figure size 640x480 with 1 Axes>"
      ]
     },
     "metadata": {},
     "output_type": "display_data"
    },
    {
     "data": {
      "text/plain": [
       "<Axes: xlabel='Samples', ylabel='Counts'>"
      ]
     },
     "execution_count": 32,
     "metadata": {},
     "output_type": "execute_result"
    }
   ],
   "source": [
    "# plot the word frequency\n",
    "sns.set_style('darkgrid')\n",
    "freq_words = nltk.FreqDist(words)\n",
    "freq_words.plot(20)"
   ]
  },
  {
   "cell_type": "code",
   "execution_count": 33,
   "id": "3c31c79e",
   "metadata": {},
   "outputs": [
    {
     "name": "stdout",
     "output_type": "stream",
     "text": [
      "                                 Subtitle\n",
      "53                  Billsing, mit zwei L.\n",
      "149             Kennen Sie Eva Billsing'?\n",
      "153                   Christian Billsing.\n",
      "306                      ??Frl. Billsing,\n",
      "387             Sie kennen Eva Billsing'?\n",
      "394  weil Sie Eva Billsing privat kennen.\n",
      "516          Sie waren bei Eva Billsing'?\n",
      "592           Mit Eva Billsing natürlich.\n"
     ]
    }
   ],
   "source": [
    "# find the rows that contain a specific word\n",
    "\n",
    "word = \"Billsing\" # a last name that can now be filtered out\n",
    "pattern = rf'\\b{re.escape(word)}\\b'\n",
    "\n",
    "# rows where the subtitle column contains the word\n",
    "row_matches = clean_df[clean_df['Subtitle'].str.contains(pattern, case=False, regex=True, na=False)]\n",
    "\n",
    "# return just the Subtitle column\n",
    "sub_col_match = row_matches[['Subtitle']]\n",
    "\n",
    "print(sub_col_match)"
   ]
  },
  {
   "cell_type": "code",
   "execution_count": 34,
   "id": "30555289",
   "metadata": {},
   "outputs": [
    {
     "name": "stdout",
     "output_type": "stream",
     "text": [
      "(['Noun'], 'small to medium-sized mammal, who is kept as a pet especially because of his watchfulness and affection, has a well-trained sense of hearing and smell and can bite and bark male dog human, male common man, lump, rogue small box-shaped tram. small to medium-sized mammal that is kept as a pet, has a well-trained sense of hearing and smell, and bites and barks, especially for its watchfulness and affection © Eric Isselée - Fotolia.com © Eric Isselée - Fotolia.comExamplesA sharp, dangerous, stray, the dog barks, whines, yaps, beats the dog dog does not bite a dog holding a dog, lead on a lead, leash training dogs, breed dogs to be attacked, the dogs go wild. kleines bis mittelgroßes Säugetier, das besonders wegen seiner Wachsamkeit und Anhänglichkeit als Haustier gehalten wird, einen gut ausgebildeten Gehör- und Geruchssinn besitzt und beißen und bellen kann männlicher Hund Mensch, Mann gemeiner Mann, Lump, Schurke kleiner kastenförmiger Förderwagen. kleines bis mittelgroßes Säugetier, das besonders wegen seiner Wachsamkeit und Anhänglichkeit als Haustier gehalten wird, einen gut ausgebildeten Gehör- und Geruchssinn besitzt und beißen und bellen kann©\\xa0Eric Isselée - Fotolia.com©\\xa0Eric Isselée - Fotolia.comBeispieleein scharfer, gefährlicher, streunender, tollwütiger HundVorsicht, bissiger Hund!der Hund bellt, jault, kläfft, schlägt ander Hund beißt nicht einen Hund haltenden Hund ausführen, an der Leine führen, anleinenHunde dressieren, züchtenvon einem Hund angefallen werdensieh dich vor, die Hunde sind los.', '')\n"
     ]
    }
   ],
   "source": [
    "# PyMultiDictionary to get definition\n",
    "\n",
    "# retrieves part of speech, explanations\n",
    "print(dictionary.meaning('de', 'hund', dictionary=DICT_EDUCALINGO))\n"
   ]
  },
  {
   "cell_type": "code",
   "execution_count": 35,
   "id": "f08dce59",
   "metadata": {},
   "outputs": [],
   "source": [
    "# extract only desired language from definition\n",
    "def extract_desired_lang(word, lang):\n",
    "    # Get the dictionary result\n",
    "    res = dictionary.meaning(lang, word, dictionary=DICT_EDUCALINGO)\n",
    "    \n",
    "    if not res or not res[1]:\n",
    "        return None\n",
    "    \n",
    "    pos_tags, text, _ = res\n",
    "    \n",
    "    # split into sentences\n",
    "    sentences = text.split('. ')\n",
    "    \n",
    "    # desired language sentences\n",
    "    my_sentences = []\n",
    "    \n",
    "    for sent in sentences:\n",
    "        sent = sent.strip() \n",
    "        if not sent:\n",
    "            continue\n",
    "        \n",
    "        try:\n",
    "            detected_lang = detect(sent)\n",
    "            \n",
    "            # check if desired lang\n",
    "            if detected_lang == lang:\n",
    "                my_sentences.append(sent)\n",
    "        except LangDetectException:\n",
    "            # skip if not desired lang\n",
    "            continue\n",
    "    \n",
    "    # combine sentences and return\n",
    "    return ' '.join(my_sentences)"
   ]
  },
  {
   "cell_type": "code",
   "execution_count": null,
   "id": "245cad26",
   "metadata": {},
   "outputs": [],
   "source": [
    "# updated for spanish and german\n",
    "def get_article_for_noun(lang, noun):\n",
    "    match lang[1]:\n",
    "        case \"de\":\n",
    "            nlp = spacy.load(r\"C:\\Users\\paro\\Documents\\GitHub\\SRT2CSV\\de_core_news_sm-3.0.0\\de_core_news_sm-3.0.0\\de_core_news_sm\\de_core_news_sm-3.0.0\")\n",
    "        case \"es\":\n",
    "            nlp = spacy.load(r\"C:\\Users\\paro\\Documents\\GitHub\\SRT2CSV\\es_core_news_sm-3.8.0\\es_core_news_sm-3.8.0\\es_core_news_sm\\es_core_news_sm-3.8.0\")\n",
    "        case _:\n",
    "            return \"\"\n",
    "    # process the noun using spaCy\n",
    "    doc = nlp(noun)\n",
    "    \n",
    "    # Check if it's a noun and has a valid gender tag\n",
    "    # only works if appropriately capitalized\n",
    "    for token in doc:\n",
    "        if token.pos_ == \"NOUN\":\n",
    "            # Based on the gender, return the correct article\n",
    "            if token.morph.get(\"Gender\") == [\"Masc\"] and lang[1] == \"de\":\n",
    "                return \"der\" else \"el\"\n",
    "            elif token.morph.get(\"Gender\") == [\"Fem\"] and lang[1] == \"es\":\n",
    "                return \"die\" else \"la\"\n",
    "            elif token.morph.get(\"Gender\") == [\"Neut\"]:\n",
    "                return \"das\"\n",
    "            else:\n",
    "                return \"\"\n",
    "    return None"
   ]
  },
  {
   "cell_type": "code",
   "execution_count": 36,
   "id": "539aa3c0",
   "metadata": {},
   "outputs": [],
   "source": [
    "def get_article_for_noun(noun):\n",
    "    # process the noun using spaCy\n",
    "    doc = nlp(noun)\n",
    "\n",
    "    # Check if it's a noun and has a valid gender tag\n",
    "    # only works if appropriately capitalized\n",
    "    for token in doc:\n",
    "        if token.pos_ == \"NOUN\":\n",
    "            # Based on the gender, return the correct article\n",
    "            if token.morph.get(\"Gender\") == [\"Masc\"]:\n",
    "                return \"der\"\n",
    "            elif token.morph.get(\"Gender\") == [\"Fem\"]:\n",
    "                return \"die\"\n",
    "            elif token.morph.get(\"Gender\") == [\"Neut\"]:\n",
    "                return \"das\"\n",
    "            else:\n",
    "                return \"\"\n",
    "    return None\n"
   ]
  },
  {
   "cell_type": "code",
   "execution_count": 37,
   "id": "43e7c0d3",
   "metadata": {},
   "outputs": [],
   "source": [
    "# export sentences to a .csv file\n",
    "\n",
    "# construct a dictionary entry for all words in desired column\n",
    "# word [pos]: definition\n",
    "# space\n",
    "# word2 [pos]: definition\n",
    "\n",
    "# word from no stop words col ; definition ; tags\n",
    "def construct_csv(df, source_col, fields):\n",
    "    csv_rows = []\n",
    "    for _, row in tqdm(df.iterrows(), total=len(df), desc=\"Exporting subtitles to CSV...\"):\n",
    "        sentence = row[source_col]\n",
    "        words = row['No Stop Words']\n",
    "        \n",
    "        for w in words:\n",
    "            article = get_article_for_noun(w)\n",
    "            meaning = dictionary.meaning(fields[0][1], w, dictionary=DICT_EDUCALINGO)\n",
    "            if meaning and meaning[0]:\n",
    "                pos = meaning[0][0]\n",
    "            else:\n",
    "                pos = \"?\"\n",
    "            definition = extract_desired_lang(w, fields[0][1])\n",
    "            tags = fields[2]\n",
    "            tag_string = \",\".join([\",\".join(tag) if isinstance(tag, list) else tag for tag in tags])\n",
    "            #TODO bold the word in csv file\n",
    "            csv_rows.append([sentence, f\"{article} {w} [{pos}]:{definition}\", tag_string])\n",
    "    output_df = pd.DataFrame(csv_rows, columns=['Sentence', 'Definition', 'Tags'])\n",
    "    \n",
    "    output_df.to_csv(\"subtitle_csv.csv\", index=False, header=False, encoding='utf-8-sig', sep = \";\", quotechar='\"')\n",
    "    print(f\"✅ CSV saved with {len(csv_rows)} rows.\")\n",
    "    \n"
   ]
  },
  {
   "cell_type": "code",
   "execution_count": 38,
   "id": "b2e17672",
   "metadata": {},
   "outputs": [
    {
     "data": {
      "application/vnd.jupyter.widget-view+json": {
       "model_id": "dae752a0a9df40d48f910e9de2bd2009",
       "version_major": 2,
       "version_minor": 0
      },
      "text/plain": [
       "Exporting subtitles to CSV...:   0%|          | 0/10 [00:00<?, ?it/s]"
      ]
     },
     "metadata": {},
     "output_type": "display_data"
    },
    {
     "name": "stdout",
     "output_type": "stream",
     "text": [
      "✅ CSV saved with 11 rows.\n"
     ]
    }
   ],
   "source": [
    "df_test = clean_df[:10]\n",
    "construct_csv(df_test, 'Subtitle', fields)"
   ]
  },
  {
   "cell_type": "code",
   "execution_count": 47,
   "id": "fd622c0b",
   "metadata": {},
   "outputs": [
    {
     "name": "stdout",
     "output_type": "stream",
     "text": [
      "der Tisch [Noun] : Möbelstück, das aus einer waagerecht auf einer Stütze, in der Regel auf vier Beinen, ruhenden Platte besteht, an der gegessen, gearbeitet, auf die etwas gestellt, gelegt werden kann Gesamtheit von Personen, die an einem Tisch sitzen Mahlzeit, Essen Möbelstück, das aus einer waagerecht auf einer Stütze, in der Regel auf vier Beinen, ruhenden Platte besteht, an der gegessen, gearbeitet, auf die etwas gestellt, gelegt werden kann© Bibliographisches Institut, Mannheim© Bibliographisches Institut, MannheimBeispieleein runder, ausziehbarer Tischder Tisch war reich gedeckt der Tisch wackeltden Tisch ausziehen, decken, abwischenjemandem einen Tisch reservierenam Tisch sitzen, arbeitensich an einen Tisch setzenetwas auf den Tisch stellen, legendas Essen steht auf dem Tischwir saßen alle um einen großen Tischdie Teller vom Tisch nehmenvom Tisch aufstehen.;\n",
      "\n",
      "der Flügel [Noun] : Stork with outstretched wings - © Bibliographisches Institut, MannheimStorch with outstretched wings - © Bibliographisches Institut, MannheimKuehlungsmittelhochdeutsch vlügel paariges, am Rumpf sitzendes Organ, mit dessen Hilfe Vögel und Insekten fliegen in der Form den Vogelflügeln ähnliches, zum Fliegen geeignetes Organ Tragflügel Teil eines zwei- oder mehrgliedrigen, symmetrischen Ganzen von einem Mittelstück abstehendes Teil eines mechanischen Geräts, das in der Form oder Funktion einem Vogelflügel ähnelt äußerer Teil einer aufgestellten Truppe, Mannschaft o. Ä Gruppierung innerhalb einer politischen oder weltanschaulichen Partei oder Gruppe seitlicher Teil eines größeren Gebäudes, der in einem Winkel an das Hauptgebäude anschließt großes, dem Klavier ähnliches Musikinstrument auf drei Beinen mit relativ flachem, an die Form eines Vogelflügels erinnerndem Resonanzkörper, dessen Deckel hochgestellt werden kann und in dem die Saiten waagerecht in Richtung der Tasten gespannt sind paariges, am Rumpf sitzendes Organ, mit dessen Hilfe Vögel und Insekten fliegen Storch mit ausgebreiteten Flügeln - © Bibliographisches Institut, MannheimStorch mit ausgebreiteten Flügeln - © Bibliographisches Institut, MannheimHerkunftmittelhochdeutsch vlügel.;\n",
      "\n",
      "\n"
     ]
    }
   ],
   "source": [
    "\n",
    "no_stop = ['Tisch', 'Flügel']\n",
    "csv_rows = []\n",
    "\n",
    "def construct_csv(df, source_col, fields):\n",
    "    dict_entry = \"\"\n",
    "    article = \"\"\n",
    "    for w in no_stop:\n",
    "        if get_article_for_noun(w):\n",
    "            article = get_article_for_noun(w)\n",
    "        else:\n",
    "            article = \"\"\n",
    "        \n",
    "        dict_entry += article + \" \" + w + \" [\" + dictionary.meaning(fields[0][1], w, dictionary=DICT_EDUCALINGO)[0][0] + \"] : \" + extract_desired_lang(w, fields[0][1]) + \";\" + \"\\n\\n\"\n",
    "        \n",
    "    print(dict_entry)\n",
    "\n",
    "construct_csv(clean_df, \"No Stop Words\", fields)"
   ]
  },
  {
   "cell_type": "code",
   "execution_count": null,
   "id": "85b12769",
   "metadata": {},
   "outputs": [],
   "source": [
    "# TODO\n",
    "\n",
    "# update get article for noun, add language parameter and add spanish\n",
    "\n",
    "\n",
    "# change opening of stopword file to create file if that language file does not already exist\n",
    "\n",
    "# add a flag to include title case of all words to stop words as well\n",
    "# ich is a stop word, Ich is not\n",
    "\n",
    "\n",
    "# add export of all sentences to a .csv file\n",
    "# field separator ;\n",
    "    # Original Sentence     # word: dict def of no-stop-words column    # tags\n",
    "    \n",
    "# change export to csv to not include duplicate words that are unknown. - create a cache dictionary?\n",
    "    \n",
    "# change export to .csv to only include desired number of no stop words/unknown words from that column (1, 2, 3) etc.\n",
    "\n",
    "# add default and custom file name for exported csv\n",
    "\n",
    "# add a way to bold the word in the sentence\n",
    "\n",
    "# skip words that have None as the dictionary def output (normally conjugated verbs)\n",
    "# return the failures as a list?\n",
    "\n",
    "# refactor code & formatting\n",
    "\n",
    "# create new requirements txt\n",
    "\n",
    "# add function to find and load correct spacy model\n",
    "\n",
    "# fix function that combines across rows\n",
    "\n",
    "# change educalingo dictionary to web scraping an actual dictionary for better definitions and articles for nouns?\n",
    "# add article & plural of noun - create new function that finds it based on language (key = lang & gender, value = der, die, das or el, la, etc.)\n",
    "    \n",
    "#  Parts of speech tagging - NLP\n",
    "\n",
    "# Notepad++ convert ANSI to UTF-8 for special characters\n",
    "# seems to need to be UTF-8 BOM in order to preserve special characters\n",
    "\n",
    "# hinglish doesn't have an official language code"
   ]
  },
  {
   "cell_type": "code",
   "execution_count": null,
   "id": "1558f144",
   "metadata": {},
   "outputs": [],
   "source": []
  }
 ],
 "metadata": {
  "kernelspec": {
   "display_name": "cuda-gpt",
   "language": "python",
   "name": "cuda"
  },
  "language_info": {
   "codemirror_mode": {
    "name": "ipython",
    "version": 3
   },
   "file_extension": ".py",
   "mimetype": "text/x-python",
   "name": "python",
   "nbconvert_exporter": "python",
   "pygments_lexer": "ipython3",
   "version": "3.11.4"
  }
 },
 "nbformat": 4,
 "nbformat_minor": 5
}
