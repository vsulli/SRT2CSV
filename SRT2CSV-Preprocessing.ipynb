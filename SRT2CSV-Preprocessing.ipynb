{
 "cells": [
  {
   "cell_type": "code",
   "execution_count": 8,
   "id": "26dac7f8",
   "metadata": {},
   "outputs": [
    {
     "data": {
      "text/plain": [
       "' \\nSRT2CSV Preprocessing\\nvsulli\\n26 April 2025\\nPrepare a .srt file\\nLoad spaCy models\\n'"
      ]
     },
     "execution_count": 8,
     "metadata": {},
     "output_type": "execute_result"
    }
   ],
   "source": [
    "''' \n",
    "SRT2CSV Preprocessing\n",
    "vsulli\n",
    "26 April 2025\n",
    "Prepare a .srt file\n",
    "Load spaCy models\n",
    "'''\n",
    "\n",
    "import spacy\n",
    "import string\n",
    "\n",
    "\n",
    "# allows for displaying multiple outputs in one cell\n",
    "from IPython.core.interactiveshell import InteractiveShell\n",
    "InteractiveShell.ast_node_interactivity = \"all\""
   ]
  },
  {
   "cell_type": "code",
   "execution_count": 19,
   "id": "2ad4d55a",
   "metadata": {},
   "outputs": [],
   "source": [
    "#convert a .srt file to utf-8-bom\n",
    "import os\n",
    "\n",
    "def convert_srt_to_utf8_bom(srt_path, output_path=None, output_filename=None):\n",
    "    \n",
    "    output_path = output_path if output_path else os.path.dirname(srt_path)\n",
    "    new_filename = output_filename if output_filename else os.path.basename(srt_path)\n",
    "    \n",
    "    output_path = os.path.join(output_path, new_filename) + \".srt\"\n",
    "    \n",
    "    with open(srt_path, 'r', encoding='utf-8', errors='replace') as f:\n",
    "        content = f.read()\n",
    "    with open(output_path, 'w', encoding='utf-8-sig') as f:\n",
    "        f.write(content)\n",
    "    print(\"File saved\")"
   ]
  },
  {
   "cell_type": "code",
   "execution_count": 20,
   "id": "8674a1ce",
   "metadata": {},
   "outputs": [
    {
     "name": "stdout",
     "output_type": "stream",
     "text": [
      "File saved\n"
     ]
    }
   ],
   "source": [
    "convert_srt_to_utf8_bom(srt_path = \"D:\\Coding\\Coding Projects\\TatortNLP\\Tatort_original_srt.srt\", output_filename = \"converted_srt\")"
   ]
  },
  {
   "cell_type": "code",
   "execution_count": 2,
   "id": "3ac7538d",
   "metadata": {},
   "outputs": [],
   "source": [
    "# extract the tar zip\n",
    "import tarfile\n",
    "\n",
    "tar_path = r\"C:\\Users\\paro\\Documents\\GitHub\\SRT2CSV\\es_core_news_sm-3.8.0.tar.gz\"\n",
    "extract_path = r\"C:\\Users\\paro\\Documents\\GitHub\\SRT2CSV\\es_core_news_sm-3.8.0\"\n",
    "\n",
    "with tarfile.open(tar_path, \"r:gz\") as tar:\n",
    "    tar.extractall(path=extract_path)\n"
   ]
  },
  {
   "cell_type": "code",
   "execution_count": 7,
   "id": "dde8287e",
   "metadata": {},
   "outputs": [
    {
     "name": "stderr",
     "output_type": "stream",
     "text": [
      "C:\\Users\\paro\\Coding Projects\\Cato-AI_vs1.2\\cuda\\Lib\\site-packages\\spacy\\util.py:910: UserWarning: [W095] Model 'de_core_news_sm' (3.0.0) was trained with spaCy v3.0.0 and may not be 100% compatible with the current version (3.7.5). If you see errors or degraded performance, download a newer compatible model or retrain your custom model with the current spaCy version. For more details and available updates, run: python -m spacy validate\n",
      "  warnings.warn(warn_msg)\n"
     ]
    },
    {
     "name": "stdout",
     "output_type": "stream",
     "text": [
      "Das DET nk\n",
      "Auto NOUN sb\n",
      "ist AUX ROOT\n",
      "schnell ADV pd\n",
      ". PUNCT punct\n"
     ]
    }
   ],
   "source": [
    "# verify that model loads correctly\n",
    "# load from the correct folder\n",
    "filepath = r\"C:\\Users\\paro\\Documents\\GitHub\\SRT2CSV\\de_core_news_sm-3.0.0\\de_core_news_sm-3.0.0\\de_core_news_sm\\de_core_news_sm-3.0.0\"\n",
    "\n",
    "nlp = spacy.load(filepath)\n",
    "\n",
    "# German sentence test\n",
    "doc = nlp(\"Das Auto ist schnell.\")\n",
    "\n",
    "# iterate through tokens\n",
    "for token in doc:\n",
    "    print(token.text, token.pos_, token.dep_)\n"
   ]
  },
  {
   "cell_type": "code",
   "execution_count": null,
   "id": "1558f144",
   "metadata": {},
   "outputs": [],
   "source": []
  },
  {
   "cell_type": "code",
   "execution_count": null,
   "id": "646b5e61",
   "metadata": {},
   "outputs": [],
   "source": []
  }
 ],
 "metadata": {
  "kernelspec": {
   "display_name": "cuda-gpt",
   "language": "python",
   "name": "cuda"
  },
  "language_info": {
   "codemirror_mode": {
    "name": "ipython",
    "version": 3
   },
   "file_extension": ".py",
   "mimetype": "text/x-python",
   "name": "python",
   "nbconvert_exporter": "python",
   "pygments_lexer": "ipython3",
   "version": "3.11.4"
  }
 },
 "nbformat": 4,
 "nbformat_minor": 5
}
