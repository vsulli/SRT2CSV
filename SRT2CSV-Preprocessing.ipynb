{
 "cells": [
  {
   "cell_type": "code",
   "execution_count": 30,
   "id": "c477af38",
   "metadata": {},
   "outputs": [
    {
     "data": {
      "text/plain": [
       "'\\nSRT2CSV Preprocessing\\nAuthor: vsulli\\nDate: 26 April 2025\\n\\n- Convert a .srt file to UTF-8 BOM\\n- Extract and load spaCy language models\\n'"
      ]
     },
     "execution_count": 30,
     "metadata": {},
     "output_type": "execute_result"
    }
   ],
   "source": [
    "\"\"\"\n",
    "SRT2CSV Preprocessing\n",
    "Author: vsulli\n",
    "Date: 26 April 2025\n",
    "\n",
    "- Convert a .srt file to UTF-8 BOM\n",
    "- Extract and load spaCy language models\n",
    "\"\"\""
   ]
  },
  {
   "cell_type": "code",
   "execution_count": 31,
   "id": "26dac7f8",
   "metadata": {},
   "outputs": [],
   "source": [
    "import os\n",
    "import spacy\n",
    "import string\n",
    "import tarfile\n",
    "\n",
    "# Allows for displaying multiple outputs in one cell\n",
    "from IPython.core.interactiveshell import InteractiveShell\n",
    "InteractiveShell.ast_node_interactivity = \"all\""
   ]
  },
  {
   "cell_type": "code",
   "execution_count": 32,
   "id": "381bf48c",
   "metadata": {},
   "outputs": [],
   "source": [
    "def convert_srt_to_utf8_bom(srt_path, output_path=None, output_filename=None):\n",
    "    \"\"\"\n",
    "    Converts a .srt file to UTF-8 with BOM encoding.\n",
    "\n",
    "    Args:\n",
    "        srt_path (str): Path to the input .srt file.\n",
    "        output_path (str, optional): Directory to save the converted file.\n",
    "        output_filename (str, optional): Custom name for the output file (without extension).\n",
    "    \"\"\"\n",
    "    \n",
    "    output_path = output_path if output_path else os.path.dirname(srt_path)\n",
    "    new_filename = output_filename + \".srt\" if output_filename else os.path.basename(srt_path)\n",
    "    output_path = os.path.join(output_path, new_filename)\n",
    "    \n",
    "    with open(srt_path, 'r', encoding='utf-8', errors='replace') as f:\n",
    "        content = f.read()\n",
    "    with open(output_path, 'w', encoding='utf-8-sig') as f:\n",
    "        f.write(content)\n",
    "    print(f\"File saved under: {output_path}\")"
   ]
  },
  {
   "cell_type": "code",
   "execution_count": 34,
   "id": "f7f97f54",
   "metadata": {},
   "outputs": [
    {
     "name": "stdout",
     "output_type": "stream",
     "text": [
      "File saved under D:\\Coding\\Coding Projects\\TatortNLP\\converted.srt\n"
     ]
    }
   ],
   "source": [
    "# Provide the full path to the .srt file and the name of the output file\n",
    "convert_srt_to_utf8_bom(\n",
    "    srt_path = \"\", # ex) \"C:\\path\\to\\input.srt\"\n",
    "    output_path=r\"\", # optional\n",
    "    output_filename=\"\" # optional: no extension\n",
    ")"
   ]
  },
  {
   "cell_type": "code",
   "execution_count": 44,
   "id": "3ac7538d",
   "metadata": {},
   "outputs": [],
   "source": [
    "# Extract the tar zip of language model\n",
    "def extract_spacy_model(tar_path, extract_path=None):\n",
    "    \"\"\"\n",
    "    Extracts a spaCy language model from a .tar.gz archive.\n",
    "\n",
    "    Args:\n",
    "        tar_path (str): Full path to the .tar.gz archive.\n",
    "        extract_path (str, optional): Directory to extract the contents into.\n",
    "                                      Defaults to the archive's parent directory.\n",
    "    \"\"\"\n",
    "    if not extract_path:\n",
    "        extract_path = os.path.splitext(os.path.splitext(tar_path)[0])[0] # remove .tar.gz\n",
    "    if not os.path.exists(tar_path):\n",
    "        raise FileNotFoundError(f\"The tar archive does not exist: {tar_path}\")\n",
    "        \n",
    "    with tarfile.open(tar_path, \"r:gz\") as tar:\n",
    "        tar.extractall(path=extract_path)\n",
    "    print(f\"File saved under: {extract_path}\")"
   ]
  },
  {
   "cell_type": "code",
   "execution_count": 45,
   "id": "bc456821",
   "metadata": {},
   "outputs": [
    {
     "name": "stdout",
     "output_type": "stream",
     "text": [
      "File saved under: C:\\Users\\paro\\Documents\\GitHub\\SRT2CSV\\es_core_news_sm-3.8.0\n"
     ]
    }
   ],
   "source": [
    "# Provide the full path to the .tar.gz file and an optional output path\n",
    "extract_spacy_model(\n",
    "    tar_path = r\"\", # ex) \"C:\\path\\to\\es_core_news_sm-3.8.0.tar.gz\"\n",
    "    extract_path = r\"\" # optional\n",
    ")"
   ]
  },
  {
   "cell_type": "code",
   "execution_count": 49,
   "id": "dde8287e",
   "metadata": {},
   "outputs": [
    {
     "name": "stderr",
     "output_type": "stream",
     "text": [
      "C:\\Users\\paro\\Coding Projects\\Cato-AI_vs1.2\\cuda\\Lib\\site-packages\\spacy\\util.py:910: UserWarning: [W095] Model 'es_core_news_sm' (3.8.0) was trained with spaCy v3.8.0 and may not be 100% compatible with the current version (3.7.5). If you see errors or degraded performance, download a newer compatible model or retrain your custom model with the current spaCy version. For more details and available updates, run: python -m spacy validate\n",
      "  warnings.warn(warn_msg)\n"
     ]
    },
    {
     "name": "stdout",
     "output_type": "stream",
     "text": [
      "El DET det\n",
      "País PROPN nsubj\n",
      "es AUX cop\n",
      "un DET det\n",
      "periódico NOUN ROOT\n",
      "español ADJ amod\n",
      "fundado ADJ amod\n",
      "en ADP case\n",
      "1976 NOUN obl\n",
      ". PUNCT punct\n"
     ]
    }
   ],
   "source": [
    "# Full path to the model\n",
    "filepath = r\"\" # ex) r\"C:\\path\\to\\es_core_news_sm-3.8.0\\es_core_news_sm-3.8.0\\es_core_news_sm\\es_core_news_sm-3.8.0\"\n",
    "\n",
    "# Load in the model\n",
    "nlp = spacy.load(filepath)\n",
    "\n",
    "# Test with a sentence from the target language\n",
    "doc = nlp(\"\") # ex) \"El País es un periódico español fundado en 1976.\"\n",
    "\n",
    "# Print information for each token of sentence\n",
    "for token in doc:\n",
    "    print(token.text, token.pos_, token.dep_)\n"
   ]
  },
  {
   "cell_type": "code",
   "execution_count": null,
   "id": "501ccb88",
   "metadata": {},
   "outputs": [],
   "source": []
  }
 ],
 "metadata": {
  "kernelspec": {
   "display_name": "cuda-gpt",
   "language": "python",
   "name": "cuda"
  },
  "language_info": {
   "codemirror_mode": {
    "name": "ipython",
    "version": 3
   },
   "file_extension": ".py",
   "mimetype": "text/x-python",
   "name": "python",
   "nbconvert_exporter": "python",
   "pygments_lexer": "ipython3",
   "version": "3.11.4"
  }
 },
 "nbformat": 4,
 "nbformat_minor": 5
}
