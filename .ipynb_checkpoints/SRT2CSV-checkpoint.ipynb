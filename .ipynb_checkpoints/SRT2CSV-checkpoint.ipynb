{
 "cells": [
  {
   "cell_type": "code",
   "execution_count": 1,
   "id": "26dac7f8",
   "metadata": {},
   "outputs": [],
   "source": [
    "''' \n",
    "SRT2CSV\n",
    "vsulli\n",
    "26 April 2025\n",
    "read in a .srt file \n",
    "convert to a df to perform nlp\n",
    "export to a .csv file for upload to ANKI\n",
    "'''\n",
    "\n",
    "import nltk\n",
    "import numpy as np\n",
    "import pandas as pd\n",
    "import pysrt\n",
    "import re\n",
    "import seaborn as sns\n",
    "import spacy\n",
    "import string\n",
    "\n",
    "from nltk.corpus import stopwords\n",
    "german_sw = stopwords.words('german')\n",
    "from textblob import TextBlob\n",
    "\n",
    "# allows for displaying multiple outputs in one cell\n",
    "from IPython.core.interactiveshell import InteractiveShell\n",
    "InteractiveShell.ast_node_interactivity = \"all\""
   ]
  },
  {
   "cell_type": "code",
   "execution_count": 2,
   "id": "063ce73e",
   "metadata": {},
   "outputs": [
    {
     "data": {
      "text/plain": [
       "''"
      ]
     },
     "execution_count": 2,
     "metadata": {},
     "output_type": "execute_result"
    }
   ],
   "source": [
    "import tkinter as tk\n",
    "from tkinter import filedialog\n",
    "\n",
    "# keeps full GUI from appearing\n",
    "root = tk.Tk()\n",
    "root.withdraw()\n",
    "\n",
    "# shows dialog box to ask for filename\n",
    "filename = filedialog.askopenfilename()"
   ]
  },
  {
   "cell_type": "code",
   "execution_count": 3,
   "id": "17f26842",
   "metadata": {},
   "outputs": [],
   "source": [
    "# specify the encoding if UnicodeDecodeError\n",
    "# you can open the file in NotePad and check SaveAs for default encoding\n",
    "# ANSI, UTF-8\n",
    "subs = pysrt.open(filename, encoding='utf-8')"
   ]
  },
  {
   "cell_type": "code",
   "execution_count": 4,
   "id": "f2c4b56c",
   "metadata": {},
   "outputs": [],
   "source": [
    "def remove_formatting(subfile):\n",
    "    # read through every sub line\n",
    "    # using regex, delete section of line between <>\n",
    "    # combine to string\n",
    "    # update index\n",
    "    for i in range(len(subfile)):\n",
    "        # replace all characters between < and > with \"\"\n",
    "        # using regex\n",
    "        # strip white space from beginning\n",
    "        subfile[i].text = subfile[i].text.lstrip()\n",
    "        subfile[i].text = re.sub(r'<c.vtt_\\w+>\\s*\"*', \"\", subfile[i].text)\n",
    "        subfile[i].text = re.sub(\"</c>\", \"\", subfile[i].text)\n",
    "        # replace \"-\" with \"\"\n",
    "        subfile[i].text = re.sub(\"-\", \"\", subfile[i].text)\n",
    "\n",
    "    return subfile"
   ]
  },
  {
   "cell_type": "code",
   "execution_count": 5,
   "id": "41a5f9c3",
   "metadata": {},
   "outputs": [],
   "source": [
    "subs = remove_formatting(subs)"
   ]
  },
  {
   "cell_type": "code",
   "execution_count": 6,
   "id": "0670aae0",
   "metadata": {},
   "outputs": [],
   "source": [
    "# create a dataframe with desired column name - 'Subtitle'\n",
    "def create_dataframe(subfile, col_name):\n",
    "    # create dataframe\n",
    "    df = pd.DataFrame(columns=[col_name])\n",
    "    for i in range(len(subfile)):\n",
    "        df.loc[i] = subfile[i].text\n",
    "    return df"
   ]
  },
  {
   "cell_type": "code",
   "execution_count": 7,
   "id": "ee757108",
   "metadata": {},
   "outputs": [
    {
     "data": {
      "text/html": [
       "<div>\n",
       "<style scoped>\n",
       "    .dataframe tbody tr th:only-of-type {\n",
       "        vertical-align: middle;\n",
       "    }\n",
       "\n",
       "    .dataframe tbody tr th {\n",
       "        vertical-align: top;\n",
       "    }\n",
       "\n",
       "    .dataframe thead th {\n",
       "        text-align: right;\n",
       "    }\n",
       "</style>\n",
       "<table border=\"1\" class=\"dataframe\">\n",
       "  <thead>\n",
       "    <tr style=\"text-align: right;\">\n",
       "      <th></th>\n",
       "      <th>Subtitle</th>\n",
       "    </tr>\n",
       "  </thead>\n",
       "  <tbody>\n",
       "    <tr>\n",
       "      <th>0</th>\n",
       "      <td>&lt;font color=#ffffff&gt;.&lt;/font&gt;</td>\n",
       "    </tr>\n",
       "    <tr>\n",
       "      <th>1</th>\n",
       "      <td>&lt;font color=#ffffff&gt;(Motor wird angelassen)&lt;/f...</td>\n",
       "    </tr>\n",
       "    <tr>\n",
       "      <th>2</th>\n",
       "      <td>&lt;font color=#ffffff&gt;Herr Landsberger?&lt;/font&gt;\\n...</td>\n",
       "    </tr>\n",
       "    <tr>\n",
       "      <th>3</th>\n",
       "      <td>&lt;font color=#ffffff&gt;Motorhaube und Kofferraum ...</td>\n",
       "    </tr>\n",
       "    <tr>\n",
       "      <th>4</th>\n",
       "      <td>&lt;font color=#ffffff&gt;Machen Sie den Koffer auf!...</td>\n",
       "    </tr>\n",
       "    <tr>\n",
       "      <th>...</th>\n",
       "      <td>...</td>\n",
       "    </tr>\n",
       "    <tr>\n",
       "      <th>752</th>\n",
       "      <td>&lt;font color=#ffffff&gt;Haben Sie Verwandte in der...</td>\n",
       "    </tr>\n",
       "    <tr>\n",
       "      <th>753</th>\n",
       "      <td>&lt;font color=#ffffff&gt;Herr Landsberger?&lt;/font&gt;\\n...</td>\n",
       "    </tr>\n",
       "    <tr>\n",
       "      <th>754</th>\n",
       "      <td>&lt;font color=#ffffff&gt;Herr Trimmel'?&lt;/font&gt;</td>\n",
       "    </tr>\n",
       "    <tr>\n",
       "      <th>755</th>\n",
       "      <td>&lt;font color=#ffffff&gt;Wohl ein Jugendbildnis von...</td>\n",
       "    </tr>\n",
       "    <tr>\n",
       "      <th>756</th>\n",
       "      <td>&lt;font color=#ffffff&gt;.&lt;/font&gt;</td>\n",
       "    </tr>\n",
       "  </tbody>\n",
       "</table>\n",
       "<p>757 rows × 1 columns</p>\n",
       "</div>"
      ],
      "text/plain": [
       "                                              Subtitle\n",
       "0                         <font color=#ffffff>.</font>\n",
       "1    <font color=#ffffff>(Motor wird angelassen)</f...\n",
       "2    <font color=#ffffff>Herr Landsberger?</font>\\n...\n",
       "3    <font color=#ffffff>Motorhaube und Kofferraum ...\n",
       "4    <font color=#ffffff>Machen Sie den Koffer auf!...\n",
       "..                                                 ...\n",
       "752  <font color=#ffffff>Haben Sie Verwandte in der...\n",
       "753  <font color=#ffffff>Herr Landsberger?</font>\\n...\n",
       "754          <font color=#ffffff>Herr Trimmel'?</font>\n",
       "755  <font color=#ffffff>Wohl ein Jugendbildnis von...\n",
       "756                       <font color=#ffffff>.</font>\n",
       "\n",
       "[757 rows x 1 columns]"
      ]
     },
     "execution_count": 7,
     "metadata": {},
     "output_type": "execute_result"
    },
    {
     "data": {
      "text/html": [
       "<div>\n",
       "<style scoped>\n",
       "    .dataframe tbody tr th:only-of-type {\n",
       "        vertical-align: middle;\n",
       "    }\n",
       "\n",
       "    .dataframe tbody tr th {\n",
       "        vertical-align: top;\n",
       "    }\n",
       "\n",
       "    .dataframe thead th {\n",
       "        text-align: right;\n",
       "    }\n",
       "</style>\n",
       "<table border=\"1\" class=\"dataframe\">\n",
       "  <thead>\n",
       "    <tr style=\"text-align: right;\">\n",
       "      <th></th>\n",
       "    </tr>\n",
       "  </thead>\n",
       "  <tbody>\n",
       "  </tbody>\n",
       "</table>\n",
       "</div>"
      ],
      "text/plain": [
       "Empty DataFrame\n",
       "Columns: []\n",
       "Index: []"
      ]
     },
     "execution_count": 7,
     "metadata": {},
     "output_type": "execute_result"
    }
   ],
   "source": [
    "# combine rows until period or end character reached\n",
    "# used for gaining more context for sentiment analysis and classification\n",
    "# append these rows to list and then create new df - more efficient than appending to df\n",
    "# end characters at index -1 must be ) . ? ! \n",
    "df = create_dataframe(subs, 'Subtitle')\n",
    "df\n",
    "new_df_list = []\n",
    "current_row = \"\"\n",
    "for row in df['Subtitle']:\n",
    "    if row[-1] == \")\" or row[-1] == \".\" or row[-1] == \"?\" or row[-1] == \"!\":\n",
    "        current_row += row\n",
    "        new_df_list.append(current_row)\n",
    "        current_row = \"\"\n",
    "    else:\n",
    "        current_row += row\n",
    "\n",
    "# create new df from the list of combined rows\n",
    "# currently fewer rows - need to verify that it combined the rows correctly\n",
    "new_df = pd.DataFrame(new_df_list)\n",
    "new_df.rename(columns={0:\"Subtitle\"}, inplace=True)\n",
    "new_df\n"
   ]
  },
  {
   "cell_type": "code",
   "execution_count": 8,
   "id": "86256445",
   "metadata": {},
   "outputs": [
    {
     "data": {
      "text/html": [
       "<div>\n",
       "<style scoped>\n",
       "    .dataframe tbody tr th:only-of-type {\n",
       "        vertical-align: middle;\n",
       "    }\n",
       "\n",
       "    .dataframe tbody tr th {\n",
       "        vertical-align: top;\n",
       "    }\n",
       "\n",
       "    .dataframe thead th {\n",
       "        text-align: right;\n",
       "    }\n",
       "</style>\n",
       "<table border=\"1\" class=\"dataframe\">\n",
       "  <thead>\n",
       "    <tr style=\"text-align: right;\">\n",
       "      <th></th>\n",
       "      <th>Subtitle</th>\n",
       "    </tr>\n",
       "  </thead>\n",
       "  <tbody>\n",
       "    <tr>\n",
       "      <th>0</th>\n",
       "      <td>.</td>\n",
       "    </tr>\n",
       "    <tr>\n",
       "      <th>1</th>\n",
       "      <td>(Motor wird angelassen)</td>\n",
       "    </tr>\n",
       "    <tr>\n",
       "      <th>2</th>\n",
       "      <td>Herr Landsberger?</td>\n",
       "    </tr>\n",
       "    <tr>\n",
       "      <th>3</th>\n",
       "      <td>Motorhaube und Kofferraum öffnen,</td>\n",
       "    </tr>\n",
       "    <tr>\n",
       "      <th>4</th>\n",
       "      <td>Machen Sie den Koffer auf!</td>\n",
       "    </tr>\n",
       "    <tr>\n",
       "      <th>...</th>\n",
       "      <td>...</td>\n",
       "    </tr>\n",
       "    <tr>\n",
       "      <th>752</th>\n",
       "      <td>Haben Sie Verwandte in der DDR?</td>\n",
       "    </tr>\n",
       "    <tr>\n",
       "      <th>753</th>\n",
       "      <td>Herr Landsberger?</td>\n",
       "    </tr>\n",
       "    <tr>\n",
       "      <th>754</th>\n",
       "      <td>Herr Trimmel'?</td>\n",
       "    </tr>\n",
       "    <tr>\n",
       "      <th>755</th>\n",
       "      <td>Wohl ein Jugendbildnis von Ihnen.</td>\n",
       "    </tr>\n",
       "    <tr>\n",
       "      <th>756</th>\n",
       "      <td>.</td>\n",
       "    </tr>\n",
       "  </tbody>\n",
       "</table>\n",
       "<p>757 rows × 1 columns</p>\n",
       "</div>"
      ],
      "text/plain": [
       "                              Subtitle\n",
       "0                                    .\n",
       "1              (Motor wird angelassen)\n",
       "2                    Herr Landsberger?\n",
       "3    Motorhaube und Kofferraum öffnen,\n",
       "4           Machen Sie den Koffer auf!\n",
       "..                                 ...\n",
       "752    Haben Sie Verwandte in der DDR?\n",
       "753                  Herr Landsberger?\n",
       "754                     Herr Trimmel'?\n",
       "755  Wohl ein Jugendbildnis von Ihnen.\n",
       "756                                  .\n",
       "\n",
       "[757 rows x 1 columns]"
      ]
     },
     "execution_count": 8,
     "metadata": {},
     "output_type": "execute_result"
    }
   ],
   "source": [
    "# create new dataframe removing the subtitle font tags\n",
    "# go row by row - only include what's between > and < symbols\n",
    "new_df_list = []\n",
    "current_row = \"\"\n",
    "for i in range(len(df['Subtitle'])):\n",
    "    # slice between two characters > and < \n",
    "    match = re.findall(r'>(.*?)<', df['Subtitle'][i])\n",
    "    if match:\n",
    "        new_df_list.append(match[0])\n",
    "    else:\n",
    "        new_df_list.append(df['Subtitle'][i])\n",
    "\n",
    "    \n",
    "# create new df from the list of combined rows\n",
    "# currently fewer rows - need to verify that it combined the rows correctly\n",
    "new_df = pd.DataFrame(new_df_list)\n",
    "new_df.rename(columns={0:\"Subtitle\"}, inplace=True)\n",
    "new_df"
   ]
  },
  {
   "cell_type": "code",
   "execution_count": 13,
   "id": "e5b172c4",
   "metadata": {},
   "outputs": [
    {
     "name": "stdout",
     "output_type": "stream",
     "text": [
      "                            Subtitle\n",
      "0                                  .\n",
      "1            (Motor wird angelassen)\n",
      "2                  Herr Landsberger?\n",
      "3  Motorhaube und Kofferraum öffnen,\n",
      "4         Machen Sie den Koffer auf!\n",
      "(757, 1)\n",
      "Subtitle    object\n",
      "dtype: object\n",
      "         Subtitle\n",
      "count         757\n",
      "unique        721\n",
      "top     (Trimmel)\n",
      "freq            6\n"
     ]
    }
   ],
   "source": [
    "# basic exploratory data analysis\n",
    "\n",
    "def explore_data(dataframe, column):\n",
    "    print(dataframe.head())\n",
    "    print(dataframe.shape)\n",
    "    print(dataframe.dtypes)\n",
    "    print(dataframe.describe(include='all'))\n",
    "    \n",
    "explore_data(new_df, 'Subtitle')"
   ]
  },
  {
   "cell_type": "code",
   "execution_count": null,
   "id": "0d0da6c4",
   "metadata": {},
   "outputs": [],
   "source": [
    "# convert to lowercase\n",
    "def make_lowercase(df):\n",
    "    df['Lowercase'] = df['Subtitle'].str.lower()\n",
    "    return df"
   ]
  },
  {
   "cell_type": "code",
   "execution_count": null,
   "id": "8daaa78d",
   "metadata": {},
   "outputs": [],
   "source": [
    "# remove punctuation\n",
    "def remove_punctuation(df):\n",
    "    # starts with any word, digits, or underscore, white space character, + means any character in the string\n",
    "    df['Lowercase'] = df['Lowercase'].str.replace(r'[^\\w\\s]+', ' ', regex = True)\n",
    "    # df['Subtitle'] = df['Subtitle'].str.replace(r'\\n', ' ', regex = True) # replaces the \\n with a space\n",
    "    return df"
   ]
  },
  {
   "cell_type": "code",
   "execution_count": null,
   "id": "ad84b320",
   "metadata": {},
   "outputs": [],
   "source": [
    "# remove newline \\n character\n",
    "def remove_newline(df):\n",
    "    df['Subtitle'] = df['Subtitle'].str.replace(r'\\n', ' ', regex = True) # replaces the \\n with a space\n",
    "    return df"
   ]
  },
  {
   "cell_type": "code",
   "execution_count": null,
   "id": "8c554f20",
   "metadata": {},
   "outputs": [],
   "source": [
    "df = create_dataframe(subs, 'Subtitle')\n",
    "clean_df = remove_newline(df)\n",
    "\n",
    "clean_df = make_lowercase(clean_df)\n",
    "print(clean_df.head())"
   ]
  },
  {
   "cell_type": "code",
   "execution_count": null,
   "id": "0ed93d77",
   "metadata": {},
   "outputs": [],
   "source": [
    "clean_df = remove_punctuation(clean_df)\n",
    "print(clean_df.head())\n",
    "clean_df[100:101]"
   ]
  },
  {
   "cell_type": "code",
   "execution_count": null,
   "id": "33d47728",
   "metadata": {},
   "outputs": [],
   "source": [
    "df['Word Tokens'] = df['Lowercase'].apply(nltk.word_tokenize)"
   ]
  },
  {
   "cell_type": "code",
   "execution_count": null,
   "id": "761f0eb4",
   "metadata": {},
   "outputs": [],
   "source": [
    "word_tokens = df['Lowercase'].apply(nltk.word_tokenize)\n",
    "word_tokens"
   ]
  },
  {
   "cell_type": "code",
   "execution_count": null,
   "id": "27209462",
   "metadata": {},
   "outputs": [],
   "source": [
    "df['Sentence Tokens'] = df['Lowercase'].apply(nltk.sent_tokenize)"
   ]
  },
  {
   "cell_type": "code",
   "execution_count": null,
   "id": "4fdd14b8",
   "metadata": {},
   "outputs": [],
   "source": [
    "sentence_tokens = df['Lowercase'].apply(nltk.sent_tokenize)\n",
    "sentence_tokens"
   ]
  },
  {
   "cell_type": "code",
   "execution_count": null,
   "id": "a53f5b34",
   "metadata": {},
   "outputs": [],
   "source": [
    "# remove stopwords\n",
    "\n",
    "# have to extend stopwords to include names of characters\n",
    "custom_stop_words = ['hamburg', 'berlin', 'elise', 'christian', 'berti', 'eva', 'chris']\n",
    "german_sw.extend(custom_stop_words)\n",
    "\n",
    "df['no_stop_words'] = df['Word Tokens'].apply(lambda x: [item for item in x if item not in german_sw])\n",
    "df[100:120]"
   ]
  },
  {
   "cell_type": "code",
   "execution_count": null,
   "id": "fdc1e867",
   "metadata": {},
   "outputs": [],
   "source": [
    "df[100:101]['Subtitle']\n",
    "df[0:20]['no_stop_words']"
   ]
  },
  {
   "cell_type": "code",
   "execution_count": null,
   "id": "d50a6d25",
   "metadata": {},
   "outputs": [],
   "source": [
    "# create a frequency diagram without stop words\n",
    "\n",
    "# list of all words\n",
    "words = []\n",
    "for index, row in df.iterrows():\n",
    "    for word in row['no_stop_words']:\n",
    "        words.append(word)\n",
    "words[0:20]"
   ]
  },
  {
   "cell_type": "code",
   "execution_count": null,
   "id": "f9404383",
   "metadata": {},
   "outputs": [],
   "source": [
    "# plot the word frequency\n",
    "sns.set_style('darkgrid')\n",
    "freq_words = nltk.FreqDist(words)\n",
    "freq_words.plot(20)"
   ]
  },
  {
   "cell_type": "code",
   "execution_count": null,
   "id": "85b12769",
   "metadata": {},
   "outputs": [],
   "source": [
    "# TODO\n",
    "\n",
    "# Notepad++ convert ANSI to UTF-8 for special characters\n",
    "# seems to need to be UTF-8 BOM in order to preserve special characters\n",
    "\n",
    "# remove font color tags\n",
    "# everything from < to > \n",
    "# <font color=#ffffff>(Motor wird angelassen)</font>\n",
    "\n",
    "# # combine rows until period or end character reached\n",
    "# not creating a new df"
   ]
  },
  {
   "cell_type": "code",
   "execution_count": null,
   "id": "0db07709",
   "metadata": {},
   "outputs": [],
   "source": []
  }
 ],
 "metadata": {
  "kernelspec": {
   "display_name": "cuda-gpt",
   "language": "python",
   "name": "cuda"
  },
  "language_info": {
   "codemirror_mode": {
    "name": "ipython",
    "version": 3
   },
   "file_extension": ".py",
   "mimetype": "text/x-python",
   "name": "python",
   "nbconvert_exporter": "python",
   "pygments_lexer": "ipython3",
   "version": "3.11.4"
  }
 },
 "nbformat": 4,
 "nbformat_minor": 5
}
