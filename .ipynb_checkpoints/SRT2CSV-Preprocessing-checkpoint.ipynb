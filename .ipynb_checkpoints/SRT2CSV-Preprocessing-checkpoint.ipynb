{
 "cells": [
  {
   "cell_type": "code",
   "execution_count": 27,
   "id": "26dac7f8",
   "metadata": {},
   "outputs": [
    {
     "data": {
      "text/plain": [
       "' \\nSRT2CSV Preprocessing\\nvsulli\\n26 April 2025\\nconvert a .srt file\\nLoad spaCy models\\n'"
      ]
     },
     "execution_count": 27,
     "metadata": {},
     "output_type": "execute_result"
    }
   ],
   "source": [
    "''' \n",
    "SRT2CSV Preprocessing\n",
    "vsulli\n",
    "26 April 2025\n",
    "convert a .srt file\n",
    "Load spaCy models\n",
    "'''\n",
    "\n",
    "import spacy\n",
    "import string\n",
    "\n",
    "\n",
    "# allows for displaying multiple outputs in one cell\n",
    "from IPython.core.interactiveshell import InteractiveShell\n",
    "InteractiveShell.ast_node_interactivity = \"all\""
   ]
  },
  {
   "cell_type": "code",
   "execution_count": 28,
   "id": "117265c9",
   "metadata": {},
   "outputs": [],
   "source": [
    "#convert a .srt file to utf-8-bom\n",
    "import os\n",
    "\n",
    "def convert_srt_to_utf8_bom(srt_path, output_path=None, output_filename=None):\n",
    "    \n",
    "    output_path = output_path if output_path else os.path.dirname(srt_path)\n",
    "    new_filename = output_filename + \".srt\" if output_filename else os.path.basename(srt_path)\n",
    "    \n",
    "    output_path = os.path.join(output_path, new_filename)\n",
    "    \n",
    "    with open(srt_path, 'r', encoding='utf-8', errors='replace') as f:\n",
    "        content = f.read()\n",
    "    with open(output_path, 'w', encoding='utf-8-sig') as f:\n",
    "        f.write(content)\n",
    "    print(\"File saved\")"
   ]
  },
  {
   "cell_type": "code",
   "execution_count": 29,
   "id": "f4ccf1fd",
   "metadata": {},
   "outputs": [
    {
     "name": "stdout",
     "output_type": "stream",
     "text": [
      "File saved\n"
     ]
    }
   ],
   "source": [
    "convert_srt_to_utf8_bom(srt_path = \"\", output_filename=\"\") # add path to srt file"
   ]
  },
  {
   "cell_type": "code",
   "execution_count": 2,
   "id": "3ac7538d",
   "metadata": {},
   "outputs": [],
   "source": [
    "# extract the tar zip of language model\n",
    "import tarfile\n",
    "\n",
    "tar_path = r\"C:\\Users\\paro\\Documents\\GitHub\\SRT2CSV\\es_core_news_sm-3.8.0.tar.gz\"\n",
    "extract_path = r\"C:\\Users\\paro\\Documents\\GitHub\\SRT2CSV\\es_core_news_sm-3.8.0\"\n",
    "\n",
    "with tarfile.open(tar_path, \"r:gz\") as tar:\n",
    "    tar.extractall(path=extract_path)\n"
   ]
  },
  {
   "cell_type": "code",
   "execution_count": 21,
   "id": "dde8287e",
   "metadata": {},
   "outputs": [
    {
     "name": "stdout",
     "output_type": "stream",
     "text": [
      "Das DET nk\n",
      "Auto NOUN sb\n",
      "ist AUX ROOT\n",
      "schnell ADV pd\n",
      ". PUNCT punct\n"
     ]
    }
   ],
   "source": [
    "# load from the correct folder\n",
    "# verify that model loads correctly\n",
    "# \\\\de_core_news_sm-3.0.0\\de_core_news_sm-3.0.0\\de_core_news_sm\\de_core_news_sm-3.0.0\n",
    "filepath = r\"\" # add filepath \n",
    "\n",
    "nlp = spacy.load(filepath)\n",
    "\n",
    "# German sentence test\n",
    "doc = nlp(\"Das Auto ist schnell.\")\n",
    "\n",
    "# iterate through tokens\n",
    "for token in doc:\n",
    "    print(token.text, token.pos_, token.dep_)\n"
   ]
  }
 ],
 "metadata": {
  "kernelspec": {
   "display_name": "cuda-gpt",
   "language": "python",
   "name": "cuda"
  },
  "language_info": {
   "codemirror_mode": {
    "name": "ipython",
    "version": 3
   },
   "file_extension": ".py",
   "mimetype": "text/x-python",
   "name": "python",
   "nbconvert_exporter": "python",
   "pygments_lexer": "ipython3",
   "version": "3.11.4"
  }
 },
 "nbformat": 4,
 "nbformat_minor": 5
}
