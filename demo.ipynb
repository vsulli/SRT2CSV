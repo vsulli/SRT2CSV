{
 "cells": [
  {
   "cell_type": "code",
   "execution_count": 30,
   "id": "c477af38",
   "metadata": {},
   "outputs": [
    {
     "data": {
      "text/plain": [
       "'\\nSRT2CSV Preprocessing\\nAuthor: vsulli\\nDate: 26 April 2025\\n\\n- Convert a .srt file to UTF-8 BOM\\n- Extract and load spaCy language models\\n'"
      ]
     },
     "execution_count": 30,
     "metadata": {},
     "output_type": "execute_result"
    }
   ],
   "source": [
    "\"\"\"\n",
    "demo\n",
    "Author: vsulli\n",
    "Date: 26 April 2025\n",
    "\n",
    "- Select language (Spanish or German)\n",
    "- Convert the .srt file to a dataframe\n",
    "- Clean the dataframe\n",
    "- Export the dataframe to a .csv file\n",
    "\"\"\""
   ]
  },
  {
   "cell_type": "code",
   "execution_count": null,
   "id": "da90691f",
   "metadata": {},
   "outputs": [],
   "source": [
    "# Basic German configuration\n",
    "lang = ['german', 'de'] # ['spanish', 'es']\n",
    "tags = [lang, 'sentence::mining', 'Tatort', 'sentence::recognition'] # input the desired tags for ANKI\n",
    "fields = [lang, 'defs', tags] \n",
    "srt = \"de_demo.srt\" # first 20 subtitle lines"
   ]
  },
  {
   "cell_type": "code",
   "execution_count": null,
   "id": "700fd855",
   "metadata": {},
   "outputs": [],
   "source": [
    "# Basic Spanish configuration\n",
    "lang = ['spanish', 'es']\n",
    "tags = [lang, 'sentence::mining', 'La Caza', 'sentence::recognition'] \n",
    "fields = [lang, 'defs', tags] \n",
    "srt = \"es_demo.srt\" # first 20 subtitle lines"
   ]
  },
  {
   "cell_type": "code",
   "execution_count": null,
   "id": "913a2ca8",
   "metadata": {},
   "outputs": [],
   "source": []
  },
  {
   "cell_type": "code",
   "execution_count": null,
   "id": "501ccb88",
   "metadata": {},
   "outputs": [],
   "source": [
    "# German Test Data\n",
    "test_data_de= {'Subtitle':['Der Hund ist tot.','Papageien leben lange.', 'Hat sie die Papageien gefüttert? ', 'Der Hund bellt.'],\n",
    "            'No Stop Words':[['Hund', 'tot'],['Papageien', 'leben', 'lange'], ['Hat', 'Papageien', 'gefüttert'], ['Hund', 'bellt']]}\n",
    "df_test = pd.DataFrame(test_data_de)\n",
    "csv_df = construct_max_w_csv(df_test, 'Subtitle', fields, max_words = 2)"
   ]
  },
  {
   "cell_type": "code",
   "execution_count": null,
   "id": "312f1714",
   "metadata": {},
   "outputs": [],
   "source": [
    "# Spanish Test data\n",
    "test_data_es= {'Subtitle':['El perro está durmiendo en el piso.','El perro siempre me ladra. ', 'Los perros son animales leales. ', 'Ten cuidado con el perro. '],\n",
    "            'No Stop Words':[['durmiendo', 'piso'],['siempre', 'ladra'], ['animales', 'leales'], ['cuidado']]}\n",
    "df_test = pd.DataFrame(test_data_es)\n",
    "csv_df = construct_max_w_csv(df_test, 'Subtitle', fields, max_words = 2)"
   ]
  }
 ],
 "metadata": {
  "kernelspec": {
   "display_name": "cuda-gpt",
   "language": "python",
   "name": "cuda"
  },
  "language_info": {
   "codemirror_mode": {
    "name": "ipython",
    "version": 3
   },
   "file_extension": ".py",
   "mimetype": "text/x-python",
   "name": "python",
   "nbconvert_exporter": "python",
   "pygments_lexer": "ipython3",
   "version": "3.11.4"
  }
 },
 "nbformat": 4,
 "nbformat_minor": 5
}
