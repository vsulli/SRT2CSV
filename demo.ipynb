{
 "cells": [
  {
   "cell_type": "code",
   "execution_count": 64,
   "id": "c477af38",
   "metadata": {},
   "outputs": [
    {
     "data": {
      "text/plain": [
       "'\\ndemo\\nAuthor: vsulli\\nDate: 26 April 2025\\n\\n- Select language (Spanish or German)\\n- Convert the .srt file to a dataframe\\n- Clean the dataframe\\n- Export the dataframe to a .csv file\\n'"
      ]
     },
     "execution_count": 64,
     "metadata": {},
     "output_type": "execute_result"
    }
   ],
   "source": [
    "\"\"\"\n",
    "demo\n",
    "Author: vsulli\n",
    "Date: 26 April 2025\n",
    "\n",
    "- Select language (Spanish or German)\n",
    "- Convert the .srt file to a dataframe\n",
    "- Clean the dataframe\n",
    "- Export the dataframe to a .csv file\n",
    "\"\"\""
   ]
  },
  {
   "cell_type": "code",
   "execution_count": 65,
   "id": "f86ee6bb",
   "metadata": {},
   "outputs": [
    {
     "data": {
      "text/plain": [
       "\"[bengali' (bn),'chinese (zh)', english' (en), 'french' (fr), 'german' (de), \\n'italian' (it),'portuguese' (pt), 'romanian' (ro), 'russian'(ru), 'spanish'(es), \\n'turkish' (tr)]\""
      ]
     },
     "execution_count": 65,
     "metadata": {},
     "output_type": "execute_result"
    }
   ],
   "source": [
    "# Standard library imports\n",
    "import csv\n",
    "import json\n",
    "import re\n",
    "import string\n",
    "\n",
    "# Other library imports\n",
    "import matplotlib.pyplot as plt\n",
    "import nltk\n",
    "import numpy as np\n",
    "import pandas as pd\n",
    "import pysrt\n",
    "import seaborn as sns\n",
    "import spacy\n",
    "import tkinter as tk\n",
    "\n",
    "from langdetect import detect, LangDetectException\n",
    "from nltk.corpus import stopwords\n",
    "from PyMultiDictionary import MultiDictionary, DICT_EDUCALINGO\n",
    "from textblob import TextBlob\n",
    "from tkinter import filedialog\n",
    "from tqdm.notebook import tqdm\n",
    "\n",
    "\n",
    "# Allows for displaying multiple outputs in one cell\n",
    "from IPython.core.interactiveshell import InteractiveShell\n",
    "InteractiveShell.ast_node_interactivity = \"all\"\n",
    "\n",
    "# PyMultiDictionary allows you to get meanings, translations, synonyms, and antonyms for supported langs\n",
    "'''[bengali' (bn),'chinese (zh)', english' (en), 'french' (fr), 'german' (de), \n",
    "'italian' (it),'portuguese' (pt), 'romanian' (ro), 'russian'(ru), 'spanish'(es), \n",
    "'turkish' (tr)]'''\n",
    "dictionary = MultiDictionary()\n"
   ]
  },
  {
   "cell_type": "code",
   "execution_count": 10,
   "id": "c0d7ff8e",
   "metadata": {},
   "outputs": [],
   "source": [
    "# Basic German configuration\n",
    "lang = ['german', 'de'] # ['spanish', 'es']\n",
    "tags = [lang, 'sentence::mining', 'Tatort', 'sentence::recognition'] # input the desired tags for ANKI\n",
    "fields = [lang, 'defs', tags] \n",
    "srt_file = \"de_demo.srt\" # first 20 subtitle lines\n",
    "# Load spaCy language model\n",
    "nlp_de = spacy.load(r\"C:\\Users\\paro\\Documents\\GitHub\\SRT2CSV\\de_core_news_sm-3.0.0\\de_core_news_sm-3.0.0\\de_core_news_sm\\de_core_news_sm-3.0.0\")"
   ]
  },
  {
   "cell_type": "code",
   "execution_count": 66,
   "id": "c6d7889c",
   "metadata": {},
   "outputs": [
    {
     "name": "stderr",
     "output_type": "stream",
     "text": [
      "C:\\Users\\paro\\Coding Projects\\Cato-AI_vs1.2\\cuda\\Lib\\site-packages\\spacy\\util.py:910: UserWarning: [W095] Model 'es_core_news_sm' (3.8.0) was trained with spaCy v3.8.0 and may not be 100% compatible with the current version (3.7.5). If you see errors or degraded performance, download a newer compatible model or retrain your custom model with the current spaCy version. For more details and available updates, run: python -m spacy validate\n",
      "  warnings.warn(warn_msg)\n"
     ]
    }
   ],
   "source": [
    "# Basic Spanish configuration\n",
    "lang = ['spanish', 'es']\n",
    "tags = [lang, 'sentence::mining', 'La Caza', 'sentence::recognition'] \n",
    "fields = [lang, 'defs', tags] \n",
    "srt_file = \"es_demo.srt\" # first 20 subtitle lines\n",
    "nlp_es = spacy.load(r\"C:\\Users\\paro\\Documents\\GitHub\\SRT2CSV\\es_core_news_sm-3.8.0\\es_core_news_sm-3.8.0\\es_core_news_sm\\es_core_news_sm-3.8.0\")"
   ]
  },
  {
   "cell_type": "code",
   "execution_count": 67,
   "id": "3f1aaed9",
   "metadata": {},
   "outputs": [],
   "source": [
    "# Load stopwords for the language selected\n",
    "# ex) \"spanish\"\n",
    "lang_sw = stopwords.words(lang[0])"
   ]
  },
  {
   "cell_type": "code",
   "execution_count": 68,
   "id": "a62932b1",
   "metadata": {},
   "outputs": [],
   "source": [
    "# Specify the encoding if UnicodeDecodeError\n",
    "# You can open the file in NotePad and check SaveAs for default encoding\n",
    "# ANSI, UTF-8\n",
    "subs = pysrt.open(srt_file, encoding='utf-8')"
   ]
  },
  {
   "cell_type": "code",
   "execution_count": 69,
   "id": "1eff2368",
   "metadata": {},
   "outputs": [],
   "source": [
    "def remove_formatting(subfile):\n",
    "    \"\"\"\n",
    "    Removes subtitle timing information and tags by reading through each line using regex.\n",
    "    \n",
    "    Args:\n",
    "        subfile (SubRipFile): A list like object that has indices, start/end times, and the text.\n",
    "        \n",
    "    Returns:\n",
    "        subfile (SubRipFile): A cleaned SubRipFile\n",
    "    \"\"\"\n",
    "    \n",
    "    for i in range(len(subfile)):\n",
    "        # Strip white space from beginning\n",
    "        # Replace all characters between < and > with \"\"\n",
    "        # Using regex\n",
    "        subfile[i].text = subfile[i].text.lstrip()\n",
    "        subfile[i].text = re.sub(r'<c.vtt_\\w+>\\s*\"*', \"\", subfile[i].text)\n",
    "        subfile[i].text = re.sub(\"</c>\", \"\", subfile[i].text)\n",
    "        # Replace \"-\" with \"\"\n",
    "        subfile[i].text = re.sub(\"-\", \"\", subfile[i].text)\n",
    "\n",
    "    return subfile"
   ]
  },
  {
   "cell_type": "code",
   "execution_count": 70,
   "id": "e32ba2af",
   "metadata": {},
   "outputs": [],
   "source": [
    "subs = remove_formatting(subs)"
   ]
  },
  {
   "cell_type": "code",
   "execution_count": 71,
   "id": "35010bf5",
   "metadata": {},
   "outputs": [],
   "source": [
    "# Create a dataframe with desired column name from a SubRipFile\n",
    "def create_dataframe(subfile, col_name):\n",
    "    df = pd.DataFrame(columns=[col_name])\n",
    "    for i in range(len(subfile)):\n",
    "        df.loc[i] = subfile[i].text\n",
    "    return df"
   ]
  },
  {
   "cell_type": "code",
   "execution_count": 72,
   "id": "ff1de98f",
   "metadata": {},
   "outputs": [
    {
     "data": {
      "text/html": [
       "<div>\n",
       "<style scoped>\n",
       "    .dataframe tbody tr th:only-of-type {\n",
       "        vertical-align: middle;\n",
       "    }\n",
       "\n",
       "    .dataframe tbody tr th {\n",
       "        vertical-align: top;\n",
       "    }\n",
       "\n",
       "    .dataframe thead th {\n",
       "        text-align: right;\n",
       "    }\n",
       "</style>\n",
       "<table border=\"1\" class=\"dataframe\">\n",
       "  <thead>\n",
       "    <tr style=\"text-align: right;\">\n",
       "      <th></th>\n",
       "      <th>Subtitle</th>\n",
       "    </tr>\n",
       "  </thead>\n",
       "  <tbody>\n",
       "    <tr>\n",
       "      <th>0</th>\n",
       "      <td>(Viento)</td>\n",
       "    </tr>\n",
       "    <tr>\n",
       "      <th>1</th>\n",
       "      <td>(Música new age)</td>\n",
       "    </tr>\n",
       "    <tr>\n",
       "      <th>2</th>\n",
       "      <td>(Pájaros)</td>\n",
       "    </tr>\n",
       "    <tr>\n",
       "      <th>3</th>\n",
       "      <td>Buenos días.</td>\n",
       "    </tr>\n",
       "    <tr>\n",
       "      <th>4</th>\n",
       "      <td>¿Has dormido bien?</td>\n",
       "    </tr>\n",
       "    <tr>\n",
       "      <th>5</th>\n",
       "      <td>(Canta un gallo)</td>\n",
       "    </tr>\n",
       "    <tr>\n",
       "      <th>6</th>\n",
       "      <td>No quiero que sea lunes.</td>\n",
       "    </tr>\n",
       "    <tr>\n",
       "      <th>7</th>\n",
       "      <td>¡Está nevando! ¡Está nevando!</td>\n",
       "    </tr>\n",
       "    <tr>\n",
       "      <th>8</th>\n",
       "      <td>¡Hala!</td>\n",
       "    </tr>\n",
       "    <tr>\n",
       "      <th>9</th>\n",
       "      <td>Buenos días.\\nBuenos días.</td>\n",
       "    </tr>\n",
       "    <tr>\n",
       "      <th>10</th>\n",
       "      <td>Papá, date prisa. Quiero llegar antes\\nal cole...</td>\n",
       "    </tr>\n",
       "    <tr>\n",
       "      <th>11</th>\n",
       "      <td>¿Me puedo duchar antes?\\n¡No!</td>\n",
       "    </tr>\n",
       "    <tr>\n",
       "      <th>12</th>\n",
       "      <td>Papá se ducha\\ny nosotras preparamos el desayuno.</td>\n",
       "    </tr>\n",
       "    <tr>\n",
       "      <th>13</th>\n",
       "      <td>Ve a ducharte, venga.\\nBueno, venga, va.</td>\n",
       "    </tr>\n",
       "    <tr>\n",
       "      <th>14</th>\n",
       "      <td>¿Me estáis echando de la cama?\\n¡Fuera!</td>\n",
       "    </tr>\n",
       "    <tr>\n",
       "      <th>15</th>\n",
       "      <td>¡Venga, dormilón!\\n¡A sus órdenes!</td>\n",
       "    </tr>\n",
       "    <tr>\n",
       "      <th>16</th>\n",
       "      <td>Ana se ha empeñado\\nen que avise a Lucía.</td>\n",
       "    </tr>\n",
       "    <tr>\n",
       "      <th>17</th>\n",
       "      <td>Álvaro las lleva al cole, ¿vale?</td>\n",
       "    </tr>\n",
       "    <tr>\n",
       "      <th>18</th>\n",
       "      <td>No, tranquila,\\naún nos queda un poquito.</td>\n",
       "    </tr>\n",
       "    <tr>\n",
       "      <th>19</th>\n",
       "      <td>Vale, os esperamos aquí.\\nVenga, un besito.</td>\n",
       "    </tr>\n",
       "  </tbody>\n",
       "</table>\n",
       "</div>"
      ],
      "text/plain": [
       "                                             Subtitle\n",
       "0                                            (Viento)\n",
       "1                                    (Música new age)\n",
       "2                                           (Pájaros)\n",
       "3                                        Buenos días.\n",
       "4                                  ¿Has dormido bien?\n",
       "5                                    (Canta un gallo)\n",
       "6                            No quiero que sea lunes.\n",
       "7                       ¡Está nevando! ¡Está nevando!\n",
       "8                                              ¡Hala!\n",
       "9                          Buenos días.\\nBuenos días.\n",
       "10  Papá, date prisa. Quiero llegar antes\\nal cole...\n",
       "11                      ¿Me puedo duchar antes?\\n¡No!\n",
       "12  Papá se ducha\\ny nosotras preparamos el desayuno.\n",
       "13           Ve a ducharte, venga.\\nBueno, venga, va.\n",
       "14            ¿Me estáis echando de la cama?\\n¡Fuera!\n",
       "15                 ¡Venga, dormilón!\\n¡A sus órdenes!\n",
       "16          Ana se ha empeñado\\nen que avise a Lucía.\n",
       "17                   Álvaro las lleva al cole, ¿vale?\n",
       "18          No, tranquila,\\naún nos queda un poquito.\n",
       "19        Vale, os esperamos aquí.\\nVenga, un besito."
      ]
     },
     "execution_count": 72,
     "metadata": {},
     "output_type": "execute_result"
    }
   ],
   "source": [
    "df = create_dataframe(subs, 'Subtitle')\n",
    "df"
   ]
  },
  {
   "cell_type": "code",
   "execution_count": 73,
   "id": "e5225ece",
   "metadata": {},
   "outputs": [],
   "source": [
    "def remove_font_tags(df, col):\n",
    "    \"\"\"\n",
    "    Remove subtitle font tags from a dataframe column by extracting text between '>' and '<'.\n",
    "    If no match is found, the original text is used.\n",
    "    \n",
    "    Args:\n",
    "        df (pd.DataFrame): The source DataFrame to process.\n",
    "        col (str): The column in that DataFrame to process\n",
    "    \n",
    "    Returns:\n",
    "        list: A list of all the cleaned rows.\n",
    "    \"\"\"\n",
    "    \n",
    "    new_df_list = []\n",
    "    for row in range(len(df[col])):\n",
    "        # Select everything between two characters > and < \n",
    "        match = re.findall(r'>(.*?)<', df[col][row])\n",
    "        if match:\n",
    "            # Add just that text to new df\n",
    "            new_df_list.append(match[0])\n",
    "        else:\n",
    "            # Add original row to new df\n",
    "            new_df_list.append(df[col][row])\n",
    "    return new_df_list"
   ]
  },
  {
   "cell_type": "code",
   "execution_count": 74,
   "id": "ea84aceb",
   "metadata": {},
   "outputs": [
    {
     "data": {
      "text/html": [
       "<div>\n",
       "<style scoped>\n",
       "    .dataframe tbody tr th:only-of-type {\n",
       "        vertical-align: middle;\n",
       "    }\n",
       "\n",
       "    .dataframe tbody tr th {\n",
       "        vertical-align: top;\n",
       "    }\n",
       "\n",
       "    .dataframe thead th {\n",
       "        text-align: right;\n",
       "    }\n",
       "</style>\n",
       "<table border=\"1\" class=\"dataframe\">\n",
       "  <thead>\n",
       "    <tr style=\"text-align: right;\">\n",
       "      <th></th>\n",
       "      <th>Subtitle</th>\n",
       "    </tr>\n",
       "  </thead>\n",
       "  <tbody>\n",
       "    <tr>\n",
       "      <th>0</th>\n",
       "      <td>(Viento)</td>\n",
       "    </tr>\n",
       "    <tr>\n",
       "      <th>1</th>\n",
       "      <td>(Música new age)</td>\n",
       "    </tr>\n",
       "    <tr>\n",
       "      <th>2</th>\n",
       "      <td>(Pájaros)</td>\n",
       "    </tr>\n",
       "    <tr>\n",
       "      <th>3</th>\n",
       "      <td>Buenos días.</td>\n",
       "    </tr>\n",
       "    <tr>\n",
       "      <th>4</th>\n",
       "      <td>¿Has dormido bien?</td>\n",
       "    </tr>\n",
       "    <tr>\n",
       "      <th>5</th>\n",
       "      <td>(Canta un gallo)</td>\n",
       "    </tr>\n",
       "    <tr>\n",
       "      <th>6</th>\n",
       "      <td>No quiero que sea lunes.</td>\n",
       "    </tr>\n",
       "    <tr>\n",
       "      <th>7</th>\n",
       "      <td>¡Está nevando! ¡Está nevando!</td>\n",
       "    </tr>\n",
       "    <tr>\n",
       "      <th>8</th>\n",
       "      <td>¡Hala!</td>\n",
       "    </tr>\n",
       "    <tr>\n",
       "      <th>9</th>\n",
       "      <td>Buenos días.\\nBuenos días.</td>\n",
       "    </tr>\n",
       "    <tr>\n",
       "      <th>10</th>\n",
       "      <td>Papá, date prisa. Quiero llegar antes\\nal cole...</td>\n",
       "    </tr>\n",
       "    <tr>\n",
       "      <th>11</th>\n",
       "      <td>¿Me puedo duchar antes?\\n¡No!</td>\n",
       "    </tr>\n",
       "    <tr>\n",
       "      <th>12</th>\n",
       "      <td>Papá se ducha\\ny nosotras preparamos el desayuno.</td>\n",
       "    </tr>\n",
       "    <tr>\n",
       "      <th>13</th>\n",
       "      <td>Ve a ducharte, venga.\\nBueno, venga, va.</td>\n",
       "    </tr>\n",
       "    <tr>\n",
       "      <th>14</th>\n",
       "      <td>¿Me estáis echando de la cama?\\n¡Fuera!</td>\n",
       "    </tr>\n",
       "    <tr>\n",
       "      <th>15</th>\n",
       "      <td>¡Venga, dormilón!\\n¡A sus órdenes!</td>\n",
       "    </tr>\n",
       "    <tr>\n",
       "      <th>16</th>\n",
       "      <td>Ana se ha empeñado\\nen que avise a Lucía.</td>\n",
       "    </tr>\n",
       "    <tr>\n",
       "      <th>17</th>\n",
       "      <td>Álvaro las lleva al cole, ¿vale?</td>\n",
       "    </tr>\n",
       "    <tr>\n",
       "      <th>18</th>\n",
       "      <td>No, tranquila,\\naún nos queda un poquito.</td>\n",
       "    </tr>\n",
       "    <tr>\n",
       "      <th>19</th>\n",
       "      <td>Vale, os esperamos aquí.\\nVenga, un besito.</td>\n",
       "    </tr>\n",
       "  </tbody>\n",
       "</table>\n",
       "</div>"
      ],
      "text/plain": [
       "                                             Subtitle\n",
       "0                                            (Viento)\n",
       "1                                    (Música new age)\n",
       "2                                           (Pájaros)\n",
       "3                                        Buenos días.\n",
       "4                                  ¿Has dormido bien?\n",
       "5                                    (Canta un gallo)\n",
       "6                            No quiero que sea lunes.\n",
       "7                       ¡Está nevando! ¡Está nevando!\n",
       "8                                              ¡Hala!\n",
       "9                          Buenos días.\\nBuenos días.\n",
       "10  Papá, date prisa. Quiero llegar antes\\nal cole...\n",
       "11                      ¿Me puedo duchar antes?\\n¡No!\n",
       "12  Papá se ducha\\ny nosotras preparamos el desayuno.\n",
       "13           Ve a ducharte, venga.\\nBueno, venga, va.\n",
       "14            ¿Me estáis echando de la cama?\\n¡Fuera!\n",
       "15                 ¡Venga, dormilón!\\n¡A sus órdenes!\n",
       "16          Ana se ha empeñado\\nen que avise a Lucía.\n",
       "17                   Álvaro las lleva al cole, ¿vale?\n",
       "18          No, tranquila,\\naún nos queda un poquito.\n",
       "19        Vale, os esperamos aquí.\\nVenga, un besito."
      ]
     },
     "execution_count": 74,
     "metadata": {},
     "output_type": "execute_result"
    }
   ],
   "source": [
    "new_df_list = remove_font_tags(df,'Subtitle')\n",
    "\n",
    "# create new df without font tags\n",
    "new_df = pd.DataFrame(new_df_list)\n",
    "new_df.rename(columns={0:\"Subtitle\"}, inplace=True)\n",
    "new_df"
   ]
  },
  {
   "cell_type": "code",
   "execution_count": 75,
   "id": "39e42ab2",
   "metadata": {},
   "outputs": [],
   "source": [
    "# Combine multi-line texts\n",
    "def combine_rows(df, col):\n",
    "    \"\"\"\n",
    "     Go through a DataFrame row by row and combine them until a character \n",
    "        that represents the end of a line appears.\n",
    "        \n",
    "        Args:\n",
    "            df (pd.DataFrame): The source DataFrame to process.\n",
    "            col (str): The column in that DataFrame to process\n",
    "\n",
    "        Returns:\n",
    "            new_df(pd.DataFrame): A DataFrame that multi-line text combined \n",
    "    \"\"\"\n",
    "    new_df_list = []\n",
    "    current_row = \"\"\n",
    "    for row in df[col]:\n",
    "        # end characters at index -1 must be ) . ? ! \n",
    "        if row[-1] == \")\" or row[-1] == \".\" or row[-1] == \"?\" or row[-1] == \"!\":\n",
    "            current_row += row\n",
    "            # Append these rows to list and then create new df - more efficient than appending to df\n",
    "            new_df_list.append(current_row)\n",
    "            current_row = \"\"\n",
    "        else:\n",
    "            current_row += row\n",
    "\n",
    "    # create new df from the list of combined rows\n",
    "    new_df = pd.DataFrame(new_df_list)\n",
    "    new_df.rename(columns={0:col}, inplace=True)\n",
    "    return new_df"
   ]
  },
  {
   "cell_type": "code",
   "execution_count": 76,
   "id": "fbfdd52e",
   "metadata": {},
   "outputs": [
    {
     "name": "stdout",
     "output_type": "stream",
     "text": [
      "             Subtitle\n",
      "0            (Viento)\n",
      "1    (Música new age)\n",
      "2           (Pájaros)\n",
      "3        Buenos días.\n",
      "4  ¿Has dormido bien?\n",
      "(20, 1)\n",
      "Subtitle    object\n",
      "dtype: object\n",
      "        Subtitle\n",
      "count         20\n",
      "unique        20\n",
      "top     (Viento)\n",
      "freq           1\n"
     ]
    }
   ],
   "source": [
    "# Basic exploratory data analysis\n",
    "def explore_data(dataframe, column):\n",
    "    print(dataframe.head())\n",
    "    print(dataframe.shape)\n",
    "    print(dataframe.dtypes)\n",
    "    print(dataframe.describe(include='all'))\n",
    "    \n",
    "explore_data(new_df, 'Subtitle')"
   ]
  },
  {
   "cell_type": "code",
   "execution_count": 77,
   "id": "9f9dab7d",
   "metadata": {},
   "outputs": [],
   "source": [
    "# Convert to lowercase\n",
    "def make_lowercase(df, source_col, target_col):\n",
    "    df[target_col] = df[source_col].str.lower()\n",
    "    return df"
   ]
  },
  {
   "cell_type": "code",
   "execution_count": 78,
   "id": "96e5d6ae",
   "metadata": {},
   "outputs": [],
   "source": [
    "# Remove punctuation\n",
    "def remove_punctuation(df, source_col, target_col):\n",
    "    # ^ is a negation inside brackets (anything except)\n",
    "    # Starts with any word, digits, or underscore, white space character, apostrophe, + means any character in the string\n",
    "    df[target_col] = df[source_col].str.replace(r\"[^\\w\\s']+\", ' ', regex = True)\n",
    "    return df"
   ]
  },
  {
   "cell_type": "code",
   "execution_count": 79,
   "id": "696dd988",
   "metadata": {},
   "outputs": [],
   "source": [
    "# Remove newline \\n character\n",
    "def remove_newline(df, source_col, target_col):\n",
    "    df[target_col] = df[source_col].str.replace(r'\\n', ' ', regex = True) # replaces the \\n with a space\n",
    "    return df"
   ]
  },
  {
   "cell_type": "code",
   "execution_count": 80,
   "id": "7e5b59c2",
   "metadata": {},
   "outputs": [
    {
     "name": "stdout",
     "output_type": "stream",
     "text": [
      "             Subtitle\n",
      "0            (Viento)\n",
      "1    (Música new age)\n",
      "2           (Pájaros)\n",
      "3        Buenos días.\n",
      "4  ¿Has dormido bien?\n"
     ]
    },
    {
     "data": {
      "text/html": [
       "<div>\n",
       "<style scoped>\n",
       "    .dataframe tbody tr th:only-of-type {\n",
       "        vertical-align: middle;\n",
       "    }\n",
       "\n",
       "    .dataframe tbody tr th {\n",
       "        vertical-align: top;\n",
       "    }\n",
       "\n",
       "    .dataframe thead th {\n",
       "        text-align: right;\n",
       "    }\n",
       "</style>\n",
       "<table border=\"1\" class=\"dataframe\">\n",
       "  <thead>\n",
       "    <tr style=\"text-align: right;\">\n",
       "      <th></th>\n",
       "      <th>Subtitle</th>\n",
       "    </tr>\n",
       "  </thead>\n",
       "  <tbody>\n",
       "    <tr>\n",
       "      <th>19</th>\n",
       "      <td>Vale, os esperamos aquí. Venga, un besito.</td>\n",
       "    </tr>\n",
       "  </tbody>\n",
       "</table>\n",
       "</div>"
      ],
      "text/plain": [
       "                                      Subtitle\n",
       "19  Vale, os esperamos aquí. Venga, un besito."
      ]
     },
     "execution_count": 80,
     "metadata": {},
     "output_type": "execute_result"
    }
   ],
   "source": [
    "# Removing newline from df\n",
    "clean_df = remove_newline(new_df, 'Subtitle', 'Subtitle')\n",
    "print(clean_df.head())\n",
    "\n",
    "clean_df[19:20]"
   ]
  },
  {
   "cell_type": "code",
   "execution_count": 81,
   "id": "95424ebe",
   "metadata": {},
   "outputs": [
    {
     "name": "stdout",
     "output_type": "stream",
     "text": [
      "             Subtitle           Lowercase\n",
      "0            (Viento)            (viento)\n",
      "1    (Música new age)    (música new age)\n",
      "2           (Pájaros)           (pájaros)\n",
      "3        Buenos días.        buenos días.\n",
      "4  ¿Has dormido bien?  ¿has dormido bien?\n"
     ]
    }
   ],
   "source": [
    "# Making 'Lowercase' column in df\n",
    "clean_df = make_lowercase(clean_df, 'Subtitle', 'Lowercase')\n",
    "print(clean_df.head())"
   ]
  },
  {
   "cell_type": "code",
   "execution_count": 82,
   "id": "6d37e869",
   "metadata": {},
   "outputs": [
    {
     "name": "stdout",
     "output_type": "stream",
     "text": [
      "             Subtitle           Lowercase      No Punctuation\n",
      "0            (Viento)            (viento)             Viento \n",
      "1    (Música new age)    (música new age)     Música new age \n",
      "2           (Pájaros)           (pájaros)            Pájaros \n",
      "3        Buenos días.        buenos días.        Buenos días \n",
      "4  ¿Has dormido bien?  ¿has dormido bien?   Has dormido bien \n"
     ]
    },
    {
     "data": {
      "text/html": [
       "<div>\n",
       "<style scoped>\n",
       "    .dataframe tbody tr th:only-of-type {\n",
       "        vertical-align: middle;\n",
       "    }\n",
       "\n",
       "    .dataframe tbody tr th {\n",
       "        vertical-align: top;\n",
       "    }\n",
       "\n",
       "    .dataframe thead th {\n",
       "        text-align: right;\n",
       "    }\n",
       "</style>\n",
       "<table border=\"1\" class=\"dataframe\">\n",
       "  <thead>\n",
       "    <tr style=\"text-align: right;\">\n",
       "      <th></th>\n",
       "      <th>Subtitle</th>\n",
       "      <th>Lowercase</th>\n",
       "      <th>No Punctuation</th>\n",
       "    </tr>\n",
       "  </thead>\n",
       "  <tbody>\n",
       "    <tr>\n",
       "      <th>19</th>\n",
       "      <td>Vale, os esperamos aquí. Venga, un besito.</td>\n",
       "      <td>vale, os esperamos aquí. venga, un besito.</td>\n",
       "      <td>Vale  os esperamos aquí  Venga  un besito</td>\n",
       "    </tr>\n",
       "  </tbody>\n",
       "</table>\n",
       "</div>"
      ],
      "text/plain": [
       "                                      Subtitle  \\\n",
       "19  Vale, os esperamos aquí. Venga, un besito.   \n",
       "\n",
       "                                     Lowercase  \\\n",
       "19  vale, os esperamos aquí. venga, un besito.   \n",
       "\n",
       "                                No Punctuation  \n",
       "19  Vale  os esperamos aquí  Venga  un besito   "
      ]
     },
     "execution_count": 82,
     "metadata": {},
     "output_type": "execute_result"
    }
   ],
   "source": [
    "# Making 'No Punctuation' column in df\n",
    "clean_df = remove_punctuation(clean_df, 'Subtitle', 'No Punctuation')\n",
    "print(clean_df.head())\n",
    "clean_df[19:20]"
   ]
  },
  {
   "cell_type": "code",
   "execution_count": 83,
   "id": "c17fcc34",
   "metadata": {},
   "outputs": [],
   "source": [
    "# The basic tokenizer splits on apostrophe\n",
    "# Tweet tokenizer does not\n",
    "\n",
    "def tokenize_words(df, source_col):\n",
    "    df['Word Tokens'] = df[source_col].apply(nltk.word_tokenize)\n",
    "    return df"
   ]
  },
  {
   "cell_type": "code",
   "execution_count": 84,
   "id": "c1a74563",
   "metadata": {},
   "outputs": [
    {
     "data": {
      "text/plain": [
       "0                                              [Viento]\n",
       "1                                    [Música, new, age]\n",
       "2                                             [Pájaros]\n",
       "3                                        [Buenos, días]\n",
       "4                                  [Has, dormido, bien]\n",
       "5                                    [Canta, un, gallo]\n",
       "6                         [No, quiero, que, sea, lunes]\n",
       "7                        [Está, nevando, Está, nevando]\n",
       "8                                                [Hala]\n",
       "9                          [Buenos, días, Buenos, días]\n",
       "10    [Papá, date, prisa, Quiero, llegar, antes, al,...\n",
       "11                       [Me, puedo, duchar, antes, No]\n",
       "12    [Papá, se, ducha, y, nosotras, preparamos, el,...\n",
       "13           [Ve, a, ducharte, venga, Bueno, venga, va]\n",
       "14           [Me, estáis, echando, de, la, cama, Fuera]\n",
       "15                   [Venga, dormilón, A, sus, órdenes]\n",
       "16    [Ana, se, ha, empeñado, en, que, avise, a, Lucía]\n",
       "17                 [Álvaro, las, lleva, al, cole, vale]\n",
       "18        [No, tranquila, aún, nos, queda, un, poquito]\n",
       "19       [Vale, os, esperamos, aquí, Venga, un, besito]\n",
       "Name: Word Tokens, dtype: object"
      ]
     },
     "execution_count": 84,
     "metadata": {},
     "output_type": "execute_result"
    }
   ],
   "source": [
    "# Breaking down 'No Punctuation' column into individual words\n",
    "clean_df = tokenize_words(clean_df, 'No Punctuation')\n",
    "clean_df['Word Tokens']"
   ]
  },
  {
   "cell_type": "code",
   "execution_count": 85,
   "id": "ca3b6b12",
   "metadata": {},
   "outputs": [],
   "source": [
    "def tokenize_sentences(df, source_col):\n",
    "    df['Sentence Tokens'] = df[source_col].apply(nltk.sent_tokenize)\n",
    "    return df"
   ]
  },
  {
   "cell_type": "code",
   "execution_count": 86,
   "id": "9e8b5cfe",
   "metadata": {},
   "outputs": [
    {
     "data": {
      "text/plain": [
       "0                                             [ Viento]\n",
       "1                                     [ Música new age]\n",
       "2                                            [ Pájaros]\n",
       "3                                         [Buenos días]\n",
       "4                                   [ Has dormido bien]\n",
       "5                                     [ Canta un gallo]\n",
       "6                             [No quiero que sea lunes]\n",
       "7                        [ Está nevando   Está nevando]\n",
       "8                                               [ Hala]\n",
       "9                            [Buenos días  Buenos días]\n",
       "10    [Papá  date prisa  Quiero llegar antes al cole...\n",
       "11                        [ Me puedo duchar antes   No]\n",
       "12    [Papá se ducha y nosotras preparamos el desayuno]\n",
       "13             [Ve a ducharte  venga  Bueno  venga  va]\n",
       "14              [ Me estáis echando de la cama   Fuera]\n",
       "15                   [ Venga  dormilón   A sus órdenes]\n",
       "16            [Ana se ha empeñado en que avise a Lucía]\n",
       "17                    [Álvaro las lleva al cole   vale]\n",
       "18            [No  tranquila  aún nos queda un poquito]\n",
       "19          [Vale  os esperamos aquí  Venga  un besito]\n",
       "Name: Sentence Tokens, dtype: object"
      ]
     },
     "execution_count": 86,
     "metadata": {},
     "output_type": "execute_result"
    }
   ],
   "source": [
    "# Breaking down 'No Punctuation' column into sentence tokens\n",
    "clean_df['Sentence Tokens'] = clean_df['No Punctuation'].apply(nltk.sent_tokenize)\n",
    "clean_df['Sentence Tokens']"
   ]
  },
  {
   "cell_type": "code",
   "execution_count": 87,
   "id": "ecf57d1f",
   "metadata": {},
   "outputs": [],
   "source": [
    "# Remove stopwords\n",
    "\n",
    "# Open existing file of removed words\n",
    "def load_removed_words(lang):\n",
    "    try:\n",
    "        with open(lang[1]+\"_removed_words.json\", \"r\") as f:\n",
    "            removed_words = set(json.load(f))\n",
    "    #JSONDecodeError - if file is empty       \n",
    "    except (FileNotFoundError, json.JSONDecodeError):\n",
    "        removed_words = set()\n",
    "    \n",
    "    removed_words.update(lang_sw)\n",
    "\n",
    "    # save new set\n",
    "    with open(lang[1]+\"_removed_words.json\", \"w\") as f:\n",
    "        json.dump(list(removed_words), f)\n",
    "        \n",
    "    # return set of removed words\n",
    "    return removed_words"
   ]
  },
  {
   "cell_type": "code",
   "execution_count": 88,
   "id": "8c405ac4",
   "metadata": {},
   "outputs": [],
   "source": [
    "# Extend the stop words with list of custom words\n",
    "# uppr_flag - all uppercase version of word removed\n",
    "# lwr_flag - all lowercase version of word removed\n",
    "# title_flag - title case of word removed\n",
    "def extend_removed_words(lang, custom_stop_words, uppr_flag=False, lwr_flag=False, title_flag=False):\n",
    "    # save to JSON file\n",
    "    try:\n",
    "        with open(lang[1]+\"_removed_words.json\", \"r\") as f:\n",
    "            removed_words = set(json.load(f))\n",
    "    except FileNotFoundError:\n",
    "        removed_words = set()\n",
    "    \n",
    "    if uppr_flag:\n",
    "        removed_words.update(list(map(str.upper, custom_stop_words)))\n",
    "    \n",
    "    if lwr_flag:\n",
    "        removed_words.update(list(map(str.lower, custom_stop_words)))\n",
    "        \n",
    "    if title_flag:\n",
    "        removed_words.update(list(map(str.title, custom_stop_words)))\n",
    "    \n",
    "    # Remove only original list provided\n",
    "    removed_words.update(custom_stop_words)\n",
    "\n",
    "    with open(lang[1]+\"_removed_words.json\", \"w\") as f:\n",
    "        json.dump(list(removed_words), f)\n",
    "        \n",
    "    return removed_words"
   ]
  },
  {
   "cell_type": "code",
   "execution_count": 89,
   "id": "bcb13460",
   "metadata": {},
   "outputs": [],
   "source": [
    "# Add back previously removed words\n",
    "def add_back_words(lang, desired_words, uppr_flag=False, lwr_flag=False, title_flag=False):\n",
    "    try:\n",
    "        with open(lang[1]+\"_removed_words.json\", \"r\") as f:\n",
    "            removed_words = set(json.load(f))\n",
    "\n",
    "    except (FileNotFoundError, json.JSONDecodeError):\n",
    "        removed_words = set()\n",
    "        \n",
    "    if uppr_flag:\n",
    "         removed_words.difference_update(list(map(str.upper, desired_words)))\n",
    "    \n",
    "    if lwr_flag:\n",
    "         removed_words.difference_update(list(map(str.lower, desired_words)))\n",
    "        \n",
    "    if title_flag:\n",
    "        removed_words.difference_update(list(map(str.title, desired_words)))\n",
    "\n",
    "    # Add back words (remove from set)\n",
    "    removed_words.difference_update(desired_words)\n",
    "\n",
    "    with open(lang[1]+\"_removed_words.json\", \"w\") as f:\n",
    "        json.dump(list(removed_words), f)\n",
    "        \n",
    "    return removed_words"
   ]
  },
  {
   "cell_type": "code",
   "execution_count": 90,
   "id": "9d08abbe",
   "metadata": {},
   "outputs": [],
   "source": [
    "removed_words = load_removed_words(lang)\n",
    "\n",
    "# Eliminating names of characters, places, pronouns, etc.\n",
    "custom_stop_words = [] # Ex) [\"Ana\", \"Lucía\"]\n",
    "\n",
    "removed_words = extend_removed_words(lang, custom_stop_words, title_flag=True)\n",
    "\n",
    "# Adding back previously removed words\n",
    "desired_words = [] # Ex) [\"Ana\"]\n",
    "\n",
    "removed_words = add_back_words(lang, desired_words, title_flag=True)"
   ]
  },
  {
   "cell_type": "code",
   "execution_count": 91,
   "id": "0d3ad759",
   "metadata": {},
   "outputs": [
    {
     "data": {
      "text/html": [
       "<div>\n",
       "<style scoped>\n",
       "    .dataframe tbody tr th:only-of-type {\n",
       "        vertical-align: middle;\n",
       "    }\n",
       "\n",
       "    .dataframe tbody tr th {\n",
       "        vertical-align: top;\n",
       "    }\n",
       "\n",
       "    .dataframe thead th {\n",
       "        text-align: right;\n",
       "    }\n",
       "</style>\n",
       "<table border=\"1\" class=\"dataframe\">\n",
       "  <thead>\n",
       "    <tr style=\"text-align: right;\">\n",
       "      <th></th>\n",
       "      <th>Subtitle</th>\n",
       "      <th>Lowercase</th>\n",
       "      <th>No Punctuation</th>\n",
       "      <th>Word Tokens</th>\n",
       "      <th>Sentence Tokens</th>\n",
       "      <th>No Stop Words</th>\n",
       "    </tr>\n",
       "  </thead>\n",
       "  <tbody>\n",
       "    <tr>\n",
       "      <th>19</th>\n",
       "      <td>Vale, os esperamos aquí. Venga, un besito.</td>\n",
       "      <td>vale, os esperamos aquí. venga, un besito.</td>\n",
       "      <td>Vale  os esperamos aquí  Venga  un besito</td>\n",
       "      <td>[Vale, os, esperamos, aquí, Venga, un, besito]</td>\n",
       "      <td>[Vale  os esperamos aquí  Venga  un besito]</td>\n",
       "      <td>[Vale, esperamos, aquí, Venga, besito]</td>\n",
       "    </tr>\n",
       "  </tbody>\n",
       "</table>\n",
       "</div>"
      ],
      "text/plain": [
       "                                      Subtitle  \\\n",
       "19  Vale, os esperamos aquí. Venga, un besito.   \n",
       "\n",
       "                                     Lowercase  \\\n",
       "19  vale, os esperamos aquí. venga, un besito.   \n",
       "\n",
       "                                No Punctuation  \\\n",
       "19  Vale  os esperamos aquí  Venga  un besito    \n",
       "\n",
       "                                       Word Tokens  \\\n",
       "19  [Vale, os, esperamos, aquí, Venga, un, besito]   \n",
       "\n",
       "                                Sentence Tokens  \\\n",
       "19  [Vale  os esperamos aquí  Venga  un besito]   \n",
       "\n",
       "                             No Stop Words  \n",
       "19  [Vale, esperamos, aquí, Venga, besito]  "
      ]
     },
     "execution_count": 91,
     "metadata": {},
     "output_type": "execute_result"
    }
   ],
   "source": [
    "# Creating new column without removed words\n",
    "clean_df['No Stop Words'] = clean_df['Word Tokens'].apply(lambda x: [item for item in x if item not in removed_words])\n",
    "clean_df[19:20]"
   ]
  },
  {
   "cell_type": "code",
   "execution_count": 92,
   "id": "7ca72698",
   "metadata": {},
   "outputs": [
    {
     "data": {
      "text/plain": [
       "9    Buenos días. Buenos días.\n",
       "Name: Subtitle, dtype: object"
      ]
     },
     "execution_count": 92,
     "metadata": {},
     "output_type": "execute_result"
    },
    {
     "data": {
      "text/plain": [
       "0                                              [Viento]\n",
       "1                                    [Música, new, age]\n",
       "2                                             [Pájaros]\n",
       "3                                        [Buenos, días]\n",
       "4                                  [Has, dormido, bien]\n",
       "5                                        [Canta, gallo]\n",
       "6                                       [quiero, lunes]\n",
       "7                        [Está, nevando, Está, nevando]\n",
       "8                                                [Hala]\n",
       "9                          [Buenos, días, Buenos, días]\n",
       "10    [Papá, date, prisa, Quiero, llegar, cole, juga...\n",
       "11                                  [Me, puedo, duchar]\n",
       "12                  [Papá, ducha, preparamos, desayuno]\n",
       "13              [Ve, ducharte, venga, Bueno, venga, va]\n",
       "14                           [Me, echando, cama, Fuera]\n",
       "15                        [Venga, dormilón, A, órdenes]\n",
       "16                                    [empeñado, avise]\n",
       "17                          [Álvaro, lleva, cole, vale]\n",
       "18                     [tranquila, aún, queda, poquito]\n",
       "19               [Vale, esperamos, aquí, Venga, besito]\n",
       "Name: No Stop Words, dtype: object"
      ]
     },
     "execution_count": 92,
     "metadata": {},
     "output_type": "execute_result"
    }
   ],
   "source": [
    "clean_df[9:10]['Subtitle']\n",
    "clean_df[0:20]['No Stop Words']"
   ]
  },
  {
   "cell_type": "code",
   "execution_count": 93,
   "id": "2915db1e",
   "metadata": {},
   "outputs": [
    {
     "data": {
      "image/png": "[encoded data removed]",
      "text/plain": [
       "<Figure size 640x480 with 1 Axes>"
      ]
     },
     "metadata": {},
     "output_type": "display_data"
    }
   ],
   "source": [
    "# Create a frequency diagram for 'freq' most frequent words\n",
    "def create_freq_diagram(df, col, freq):\n",
    "    # List of all words\n",
    "    words = []\n",
    "    for index, row in df.iterrows():\n",
    "        for word in row[col]:\n",
    "            words.append(word)\n",
    "\n",
    "    freq_words = nltk.FreqDist(words)\n",
    "    \n",
    "    freq_df = pd.DataFrame(freq_words.items(), columns=['Word', 'Frequency']).nlargest(freq, 'Frequency')\n",
    "    \n",
    "    # Plot the word frequencies\n",
    "    sns.set_style('darkgrid')\n",
    "    sns.scatterplot(x='Word', y='Frequency', data=freq_df)\n",
    "    plt.title(f\"{freq} Most Frequent Words\")\n",
    "    plt.xticks(rotation=85)\n",
    "    plt.tight_layout()\n",
    "    plt.show()\n",
    "\n",
    "create_freq_diagram(clean_df, 'No Stop Words', 20) "
   ]
  },
  {
   "cell_type": "code",
   "execution_count": 94,
   "id": "7d948d0a",
   "metadata": {},
   "outputs": [],
   "source": [
    "# Find the rows that contain a specific word\n",
    "def find_word(df, word):\n",
    "    pattern = rf'\\b{re.escape(word)}\\b'\n",
    "\n",
    "    # Rows where the subtitle column contains the word\n",
    "    row_matches = clean_df[clean_df['Subtitle'].str.contains(pattern, case=False, regex=True, na=False)]\n",
    "\n",
    "    # Return just the Subtitle column\n",
    "    sub_col_match = row_matches[['Subtitle']]\n",
    "    return sub_col_match"
   ]
  },
  {
   "cell_type": "code",
   "execution_count": 95,
   "id": "fc95c50f",
   "metadata": {},
   "outputs": [
    {
     "data": {
      "text/html": [
       "<div>\n",
       "<style scoped>\n",
       "    .dataframe tbody tr th:only-of-type {\n",
       "        vertical-align: middle;\n",
       "    }\n",
       "\n",
       "    .dataframe tbody tr th {\n",
       "        vertical-align: top;\n",
       "    }\n",
       "\n",
       "    .dataframe thead th {\n",
       "        text-align: right;\n",
       "    }\n",
       "</style>\n",
       "<table border=\"1\" class=\"dataframe\">\n",
       "  <thead>\n",
       "    <tr style=\"text-align: right;\">\n",
       "      <th></th>\n",
       "      <th>Subtitle</th>\n",
       "    </tr>\n",
       "  </thead>\n",
       "  <tbody>\n",
       "  </tbody>\n",
       "</table>\n",
       "</div>"
      ],
      "text/plain": [
       "Empty DataFrame\n",
       "Columns: [Subtitle]\n",
       "Index: []"
      ]
     },
     "execution_count": 95,
     "metadata": {},
     "output_type": "execute_result"
    }
   ],
   "source": [
    "# Finding the original subtitle lines that include the word\n",
    "matches = find_word(clean_df, 'Motor')\n",
    "matches"
   ]
  },
  {
   "cell_type": "code",
   "execution_count": 96,
   "id": "9d098b5b",
   "metadata": {},
   "outputs": [
    {
     "name": "stdout",
     "output_type": "stream",
     "text": [
      "(['Verb'], 'The first definition of barking in the dictionary of the real academy of the Spanish language is said of a dog: Give barks. Another meaning of barking in the dictionary is to threaten without rushing. To bark is also to challenge, to label, ordinarily with malignity. La primera definición de ladrar en el diccionario de la real academia de la lengua española es dicho de un perro: Dar ladridos. Otro significado de ladrar en el diccionario es amenazar sin acometer. Ladrar es también impugnar, motejar, de ordinario con malignidad.', '')\n"
     ]
    }
   ],
   "source": [
    "# Spanish example definition\n",
    "# PyMultiDictionary to get definition\n",
    "# retrieves part of speech, explanations\n",
    "print(dictionary.meaning('es', 'ladrar', dictionary=DICT_EDUCALINGO))"
   ]
  },
  {
   "cell_type": "code",
   "execution_count": 97,
   "id": "87f4807c",
   "metadata": {},
   "outputs": [
    {
     "name": "stdout",
     "output_type": "stream",
     "text": [
      "(['Verb'], 'repeated short, powerful sounds of themselves give barking sounds speak in hoarse, loud tone, call o. Ä. cause a hard, barking noise. repeatedly making short, strong sounds. Example The dog barked loudly. wiederholt kurze, kräftige Laute von sich geben bellende Laute von sich geben in heiserem, lautem ton sprechen, rufen o.\\u2000Ä. ein hartes, bellendes Geräusch hervorbringen, verursachen. wiederholt kurze, kräftige Laute von sich gebenBeispielder Hund bellte laut.', '')\n"
     ]
    }
   ],
   "source": [
    "# German example definition\n",
    "print(dictionary.meaning('de', 'bellen', dictionary=DICT_EDUCALINGO))"
   ]
  },
  {
   "cell_type": "code",
   "execution_count": 98,
   "id": "8a49033d",
   "metadata": {},
   "outputs": [],
   "source": [
    "# Extract only desired language from definition\n",
    "def extract_desired_lang(word, lang):\n",
    "    # Get the dictionary result\n",
    "    res = dictionary.meaning(lang, word, dictionary=DICT_EDUCALINGO)\n",
    "    \n",
    "    if not res or not res[1]:\n",
    "        return None\n",
    "    \n",
    "    pos_tags, text, _ = res\n",
    "    \n",
    "    # Split into sentences\n",
    "    sentences = text.split('. ')\n",
    "    \n",
    "    # Desired language sentences\n",
    "    my_sentences = []\n",
    "    \n",
    "    for sent in sentences:\n",
    "        sent = sent.strip() \n",
    "        if not sent:\n",
    "            continue\n",
    "        \n",
    "        try:\n",
    "            detected_lang = detect(sent)\n",
    "            \n",
    "            # Check if desired lang\n",
    "            if detected_lang == lang:\n",
    "                my_sentences.append(sent)\n",
    "        except LangDetectException:\n",
    "            # Skip if not desired lang\n",
    "            continue\n",
    "    \n",
    "    # Combine sentences and return\n",
    "    return ' '.join(my_sentences)"
   ]
  },
  {
   "cell_type": "code",
   "execution_count": 99,
   "id": "5004f129",
   "metadata": {},
   "outputs": [],
   "source": [
    "# Updated to get the article for German and Spanish\n",
    "def get_article_for_noun(lang, noun):\n",
    "    match lang[1]:\n",
    "        case \"de\":\n",
    "            nlp = nlp_de\n",
    "        case \"es\":\n",
    "            nlp = nlp_es\n",
    "        case _:\n",
    "            return \"\"\n",
    "    # Process the noun using spaCy\n",
    "    doc = nlp(noun)\n",
    "    \n",
    "    # Check if it's a noun and has a valid gender tag\n",
    "    # Only works if appropriately capitalized\n",
    "    for token in doc:\n",
    "        if token.pos_ == \"NOUN\":\n",
    "            # Based on the gender, return the correct article\n",
    "            if token.morph.get(\"Gender\") == [\"Masc\"]:\n",
    "                return \"der\" if lang[1] == \"de\" else \"el\"\n",
    "            elif token.morph.get(\"Gender\") == [\"Fem\"]:\n",
    "                return \"die\" if lang[1] == \"de\" else \"la\"\n",
    "            elif token.morph.get(\"Gender\") == [\"Neut\"]:\n",
    "                return \"das\"\n",
    "            else:\n",
    "                return \"\"\n",
    "    return \"\""
   ]
  },
  {
   "cell_type": "code",
   "execution_count": 100,
   "id": "a74f4989",
   "metadata": {},
   "outputs": [],
   "source": [
    "# Get base form of word (for conjugated verbs & plurals)\n",
    "def get_base_word(lang, word):\n",
    "    match lang[1]:\n",
    "        case \"de\":\n",
    "            nlp = nlp_de\n",
    "        case \"es\":\n",
    "            nlp = nlp_es\n",
    "        case _:\n",
    "            return \"\"\n",
    "        \n",
    "    doc = nlp(word)\n",
    "    return doc[0].lemma_ # ex) \"bellt -> bellen\""
   ]
  },
  {
   "cell_type": "code",
   "execution_count": 101,
   "id": "09b32665",
   "metadata": {},
   "outputs": [],
   "source": [
    "# Construct a dictionary entry for all words in desired column and export to csv\n",
    "# Front of Card: sentence\n",
    "# Back of Card: [article] word : definition\n",
    "# Tags\n",
    "# Searches entire dataframe for word before moving to next word\n",
    "def construct_csv(df, source_col, fields, csv_name=lang[1]+\"_\"+\"demo_subtitles.csv\"):\n",
    "    csv_rows = []\n",
    "    seen_words = set()\n",
    "    lang = fields[0]\n",
    "    \n",
    "    for _, row in tqdm(df.iterrows(), total=len(df), desc=\"Exporting subtitles to CSV...\"):\n",
    "        sentence = row[source_col]\n",
    "        words = row['No Stop Words']\n",
    "        \n",
    "        for w in words:\n",
    "            if w in seen_words:\n",
    "                continue  # Skip words already processed\n",
    "            seen_words.add(w)\n",
    "\n",
    "            # Find all sentences with the word\n",
    "            matching_rows = df[df[source_col].str.contains(rf'\\b{re.escape(w)}\\b', case=False, na=False)]\n",
    "\n",
    "            for _, match_row in matching_rows.iterrows():\n",
    "                sentence_match = match_row[source_col]\n",
    "                # bold and highlight the word\n",
    "                sentence_bolded = sentence_match.replace(w, f\"<mark><b>{w}</b></mark>\")\n",
    "                base_word = get_base_word(lang, w)\n",
    "                article = get_article_for_noun(lang, base_word)\n",
    "                meaning = dictionary.meaning(lang[1], base_word, dictionary=DICT_EDUCALINGO)\n",
    "                pos = meaning[0][0] if meaning and meaning[0] else \"?\"\n",
    "                definition = extract_desired_lang(base_word, lang[1])\n",
    "                tags = fields[2]\n",
    "                # flatten list if necessary\n",
    "                tag_string = \",\".join(tag if isinstance(tag, str) else \",\".join(tag) for tag in tags)\n",
    "\n",
    "                csv_rows.append([sentence_bolded, f\"{article} {base_word} [{pos}]:{definition}\", tag_string])\n",
    "    \n",
    "    output_df = pd.DataFrame(csv_rows, columns=['Sentence', 'Definition', 'Tags'])\n",
    "    output_df.to_csv(csv_name, index=False, header=False, encoding='utf-8-sig', sep=\";\", quotechar='\"')\n",
    "    print(f\"✅ CSV saved with {len(csv_rows)} rows.\")\n",
    "    return output_df\n"
   ]
  },
  {
   "cell_type": "code",
   "execution_count": 102,
   "id": "47ccdc69",
   "metadata": {},
   "outputs": [],
   "source": [
    "# Export to csv only if there is/are <= \"max_words\" unknown/non-stop words in column\n",
    "def construct_max_w_csv(df, source_col, fields, max_words=1, csv_name=lang[1]+\"_\"+\"demo_max_words.csv\"):\n",
    "    csv_rows = []\n",
    "    seen_words = set()\n",
    "    lang = fields[0]\n",
    "\n",
    "    # Filter the 'No Stop Words' column <= max_words\n",
    "    # Create a new df based on if the no stop words column had a word list <= max\n",
    "    filtered_df = df[df['No Stop Words'].apply(lambda wl: len(wl) <= max_words)]\n",
    "\n",
    "    for _, row in tqdm(filtered_df.iterrows(), total=len(filtered_df), desc=\"Exporting subtitles to CSV...\"):\n",
    "        sentence = row[source_col]\n",
    "        words = row['No Stop Words']\n",
    "\n",
    "        for w in words:\n",
    "            if w in seen_words:\n",
    "                continue  \n",
    "            seen_words.add(w)\n",
    "            \n",
    "            # Search for other rows that include word\n",
    "            matching_rows = filtered_df[filtered_df[source_col].str.contains(rf'\\b{re.escape(w)}\\b', case=False, na=False)]\n",
    "            \n",
    "            for _, match_row in matching_rows.iterrows():\n",
    "                sentence_match = match_row[source_col]\n",
    "                sentence_bolded = re.sub(rf'\\b({re.escape(w)})\\b', r\"<mark><b>\\1</b></mark>\", sentence_match)\n",
    "                base_word = get_base_word(lang, w)\n",
    "                article = get_article_for_noun(lang, base_word)\n",
    "                meaning = dictionary.meaning(lang[1], base_word, dictionary=DICT_EDUCALINGO)\n",
    "                pos = meaning[0][0] if meaning and meaning[0] else \"?\"\n",
    "                definition = extract_desired_lang(base_word, lang[1])\n",
    "                tags = fields[2]\n",
    "                tag_string = \",\".join(tag if isinstance(tag, str) else \",\".join(tag) for tag in tags)\n",
    "\n",
    "                csv_rows.append([sentence_bolded, f\"{article} {base_word} [{pos}]:{definition}\", tag_string])\n",
    "\n",
    "    output_df = pd.DataFrame(csv_rows, columns=['Sentence', 'Definition', 'Tags'])\n",
    "    output_df.to_csv(csv_name, index=False, header=False, encoding='utf-8-sig', sep=\";\", quotechar='\"')\n",
    "    print(f\"✅ CSV saved with {len(csv_rows)} rows.\")\n",
    "    return output_df"
   ]
  },
  {
   "cell_type": "code",
   "execution_count": 103,
   "id": "8e9b13b9",
   "metadata": {},
   "outputs": [
    {
     "data": {
      "application/vnd.jupyter.widget-view+json": {
       "model_id": "45c31181a6de4033bd1c0502eb41e3fa",
       "version_major": 2,
       "version_minor": 0
      },
      "text/plain": [
       "Exporting subtitles to CSV...:   0%|          | 0/20 [00:00<?, ?it/s]"
      ]
     },
     "metadata": {},
     "output_type": "display_data"
    },
    {
     "name": "stdout",
     "output_type": "stream",
     "text": [
      "✅ CSV saved with 71 rows.\n"
     ]
    }
   ],
   "source": [
    "demo_csv_df = construct_csv(clean_df,\"Subtitle\",fields)"
   ]
  },
  {
   "cell_type": "code",
   "execution_count": 104,
   "id": "47934a17",
   "metadata": {},
   "outputs": [
    {
     "data": {
      "application/vnd.jupyter.widget-view+json": {
       "model_id": "8e42ee82aaa84d1a88337d4ca89dba45",
       "version_major": 2,
       "version_minor": 0
      },
      "text/plain": [
       "Exporting subtitles to CSV...:   0%|          | 0/7 [00:00<?, ?it/s]"
      ]
     },
     "metadata": {},
     "output_type": "display_data"
    },
    {
     "name": "stdout",
     "output_type": "stream",
     "text": [
      "✅ CSV saved with 11 rows.\n"
     ]
    }
   ],
   "source": [
    "demo_csv_df = construct_max_w_csv(clean_df, \"Subtitle\", fields, max_words=2)"
   ]
  },
  {
   "cell_type": "code",
   "execution_count": null,
   "id": "501ccb88",
   "metadata": {},
   "outputs": [],
   "source": [
    "# German test data\n",
    "test_data_de= {'Subtitle':['Der Hund ist tot.','Papageien leben lange.', 'Hat sie die Papageien gefüttert? ', 'Der Hund bellt.'],\n",
    "            'No Stop Words':[['Hund', 'tot'],['Papageien', 'leben', 'lange'], ['Hat', 'Papageien', 'gefüttert'], ['Hund', 'bellt']]}\n",
    "df_test = pd.DataFrame(test_data_de)\n",
    "csv_df = construct_max_w_csv(df_test, source_col='Subtitle', fields, max_words = 2)"
   ]
  },
  {
   "cell_type": "code",
   "execution_count": null,
   "id": "38640e2d",
   "metadata": {},
   "outputs": [],
   "source": [
    "# Spanish test data\n",
    "test_data_es= {'Subtitle':['El perro está durmiendo en el piso.','El perro siempre me ladra. ', 'Los perros son animales leales. ', 'Ten cuidado con el perro. '],\n",
    "            'No Stop Words':[['durmiendo', 'piso'],['siempre', 'ladra'], ['animales', 'leales'], ['cuidado']]}\n",
    "df_test = pd.DataFrame(test_data_es)\n",
    "csv_df = construct_max_w_csv(df_test, 'Subtitle', fields, max_words = 2)"
   ]
  }
 ],
 "metadata": {
  "kernelspec": {
   "display_name": "cuda-gpt",
   "language": "python",
   "name": "cuda"
  },
  "language_info": {
   "codemirror_mode": {
    "name": "ipython",
    "version": 3
   },
   "file_extension": ".py",
   "mimetype": "text/x-python",
   "name": "python",
   "nbconvert_exporter": "python",
   "pygments_lexer": "ipython3",
   "version": "3.11.4"
  }
 },
 "nbformat": 4,
 "nbformat_minor": 5
}
